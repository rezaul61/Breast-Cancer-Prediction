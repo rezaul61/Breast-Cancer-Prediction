{
  "nbformat": 4,
  "nbformat_minor": 0,
  "metadata": {
    "colab": {
      "provenance": [],
      "authorship_tag": "ABX9TyMSPvYyHpOn9Tt1tO5pYUcX",
      "include_colab_link": true
    },
    "kernelspec": {
      "name": "python3",
      "display_name": "Python 3"
    },
    "language_info": {
      "name": "python"
    },
    "widgets": {
      "application/vnd.jupyter.widget-state+json": {
        "6b0cc4e86c67458ca47c2e9ec1b01a5d": {
          "model_module": "@jupyter-widgets/controls",
          "model_name": "HBoxModel",
          "model_module_version": "1.5.0",
          "state": {
            "_dom_classes": [],
            "_model_module": "@jupyter-widgets/controls",
            "_model_module_version": "1.5.0",
            "_model_name": "HBoxModel",
            "_view_count": null,
            "_view_module": "@jupyter-widgets/controls",
            "_view_module_version": "1.5.0",
            "_view_name": "HBoxView",
            "box_style": "",
            "children": [
              "IPY_MODEL_40bee1ec61b644a592d06934d56872ec",
              "IPY_MODEL_6374ed808b7c4843b45a125c727c734f",
              "IPY_MODEL_941b3076e80846e582bfe6580b78a6de"
            ],
            "layout": "IPY_MODEL_f10027a3dcb842fb858e5a11ee82791c"
          }
        },
        "40bee1ec61b644a592d06934d56872ec": {
          "model_module": "@jupyter-widgets/controls",
          "model_name": "HTMLModel",
          "model_module_version": "1.5.0",
          "state": {
            "_dom_classes": [],
            "_model_module": "@jupyter-widgets/controls",
            "_model_module_version": "1.5.0",
            "_model_name": "HTMLModel",
            "_view_count": null,
            "_view_module": "@jupyter-widgets/controls",
            "_view_module_version": "1.5.0",
            "_view_name": "HTMLView",
            "description": "",
            "description_tooltip": null,
            "layout": "IPY_MODEL_6f81bf5993a4483a9d650f392818286b",
            "placeholder": "​",
            "style": "IPY_MODEL_f8400b5605c44a239f27b476abbe32c8",
            "value": "Processing: 100%"
          }
        },
        "6374ed808b7c4843b45a125c727c734f": {
          "model_module": "@jupyter-widgets/controls",
          "model_name": "FloatProgressModel",
          "model_module_version": "1.5.0",
          "state": {
            "_dom_classes": [],
            "_model_module": "@jupyter-widgets/controls",
            "_model_module_version": "1.5.0",
            "_model_name": "FloatProgressModel",
            "_view_count": null,
            "_view_module": "@jupyter-widgets/controls",
            "_view_module_version": "1.5.0",
            "_view_name": "ProgressView",
            "bar_style": "",
            "description": "",
            "description_tooltip": null,
            "layout": "IPY_MODEL_3f399bb56a994ee4b630cf2f99c22a5b",
            "max": 65,
            "min": 0,
            "orientation": "horizontal",
            "style": "IPY_MODEL_74ffc18fe42d42e7a0114e0bd99ce058",
            "value": 65
          }
        },
        "941b3076e80846e582bfe6580b78a6de": {
          "model_module": "@jupyter-widgets/controls",
          "model_name": "HTMLModel",
          "model_module_version": "1.5.0",
          "state": {
            "_dom_classes": [],
            "_model_module": "@jupyter-widgets/controls",
            "_model_module_version": "1.5.0",
            "_model_name": "HTMLModel",
            "_view_count": null,
            "_view_module": "@jupyter-widgets/controls",
            "_view_module_version": "1.5.0",
            "_view_name": "HTMLView",
            "description": "",
            "description_tooltip": null,
            "layout": "IPY_MODEL_f692e4099a64479ebf70f0accc8127f7",
            "placeholder": "​",
            "style": "IPY_MODEL_67121aa46774441d97db713afae02607",
            "value": " 65/65 [00:41&lt;00:00,  2.70it/s]"
          }
        },
        "f10027a3dcb842fb858e5a11ee82791c": {
          "model_module": "@jupyter-widgets/base",
          "model_name": "LayoutModel",
          "model_module_version": "1.2.0",
          "state": {
            "_model_module": "@jupyter-widgets/base",
            "_model_module_version": "1.2.0",
            "_model_name": "LayoutModel",
            "_view_count": null,
            "_view_module": "@jupyter-widgets/base",
            "_view_module_version": "1.2.0",
            "_view_name": "LayoutView",
            "align_content": null,
            "align_items": null,
            "align_self": null,
            "border": null,
            "bottom": null,
            "display": null,
            "flex": null,
            "flex_flow": null,
            "grid_area": null,
            "grid_auto_columns": null,
            "grid_auto_flow": null,
            "grid_auto_rows": null,
            "grid_column": null,
            "grid_gap": null,
            "grid_row": null,
            "grid_template_areas": null,
            "grid_template_columns": null,
            "grid_template_rows": null,
            "height": null,
            "justify_content": null,
            "justify_items": null,
            "left": null,
            "margin": null,
            "max_height": null,
            "max_width": null,
            "min_height": null,
            "min_width": null,
            "object_fit": null,
            "object_position": null,
            "order": null,
            "overflow": null,
            "overflow_x": null,
            "overflow_y": null,
            "padding": null,
            "right": null,
            "top": null,
            "visibility": "hidden",
            "width": null
          }
        },
        "6f81bf5993a4483a9d650f392818286b": {
          "model_module": "@jupyter-widgets/base",
          "model_name": "LayoutModel",
          "model_module_version": "1.2.0",
          "state": {
            "_model_module": "@jupyter-widgets/base",
            "_model_module_version": "1.2.0",
            "_model_name": "LayoutModel",
            "_view_count": null,
            "_view_module": "@jupyter-widgets/base",
            "_view_module_version": "1.2.0",
            "_view_name": "LayoutView",
            "align_content": null,
            "align_items": null,
            "align_self": null,
            "border": null,
            "bottom": null,
            "display": null,
            "flex": null,
            "flex_flow": null,
            "grid_area": null,
            "grid_auto_columns": null,
            "grid_auto_flow": null,
            "grid_auto_rows": null,
            "grid_column": null,
            "grid_gap": null,
            "grid_row": null,
            "grid_template_areas": null,
            "grid_template_columns": null,
            "grid_template_rows": null,
            "height": null,
            "justify_content": null,
            "justify_items": null,
            "left": null,
            "margin": null,
            "max_height": null,
            "max_width": null,
            "min_height": null,
            "min_width": null,
            "object_fit": null,
            "object_position": null,
            "order": null,
            "overflow": null,
            "overflow_x": null,
            "overflow_y": null,
            "padding": null,
            "right": null,
            "top": null,
            "visibility": null,
            "width": null
          }
        },
        "f8400b5605c44a239f27b476abbe32c8": {
          "model_module": "@jupyter-widgets/controls",
          "model_name": "DescriptionStyleModel",
          "model_module_version": "1.5.0",
          "state": {
            "_model_module": "@jupyter-widgets/controls",
            "_model_module_version": "1.5.0",
            "_model_name": "DescriptionStyleModel",
            "_view_count": null,
            "_view_module": "@jupyter-widgets/base",
            "_view_module_version": "1.2.0",
            "_view_name": "StyleView",
            "description_width": ""
          }
        },
        "3f399bb56a994ee4b630cf2f99c22a5b": {
          "model_module": "@jupyter-widgets/base",
          "model_name": "LayoutModel",
          "model_module_version": "1.2.0",
          "state": {
            "_model_module": "@jupyter-widgets/base",
            "_model_module_version": "1.2.0",
            "_model_name": "LayoutModel",
            "_view_count": null,
            "_view_module": "@jupyter-widgets/base",
            "_view_module_version": "1.2.0",
            "_view_name": "LayoutView",
            "align_content": null,
            "align_items": null,
            "align_self": null,
            "border": null,
            "bottom": null,
            "display": null,
            "flex": null,
            "flex_flow": null,
            "grid_area": null,
            "grid_auto_columns": null,
            "grid_auto_flow": null,
            "grid_auto_rows": null,
            "grid_column": null,
            "grid_gap": null,
            "grid_row": null,
            "grid_template_areas": null,
            "grid_template_columns": null,
            "grid_template_rows": null,
            "height": null,
            "justify_content": null,
            "justify_items": null,
            "left": null,
            "margin": null,
            "max_height": null,
            "max_width": null,
            "min_height": null,
            "min_width": null,
            "object_fit": null,
            "object_position": null,
            "order": null,
            "overflow": null,
            "overflow_x": null,
            "overflow_y": null,
            "padding": null,
            "right": null,
            "top": null,
            "visibility": null,
            "width": null
          }
        },
        "74ffc18fe42d42e7a0114e0bd99ce058": {
          "model_module": "@jupyter-widgets/controls",
          "model_name": "ProgressStyleModel",
          "model_module_version": "1.5.0",
          "state": {
            "_model_module": "@jupyter-widgets/controls",
            "_model_module_version": "1.5.0",
            "_model_name": "ProgressStyleModel",
            "_view_count": null,
            "_view_module": "@jupyter-widgets/base",
            "_view_module_version": "1.2.0",
            "_view_name": "StyleView",
            "bar_color": null,
            "description_width": ""
          }
        },
        "f692e4099a64479ebf70f0accc8127f7": {
          "model_module": "@jupyter-widgets/base",
          "model_name": "LayoutModel",
          "model_module_version": "1.2.0",
          "state": {
            "_model_module": "@jupyter-widgets/base",
            "_model_module_version": "1.2.0",
            "_model_name": "LayoutModel",
            "_view_count": null,
            "_view_module": "@jupyter-widgets/base",
            "_view_module_version": "1.2.0",
            "_view_name": "LayoutView",
            "align_content": null,
            "align_items": null,
            "align_self": null,
            "border": null,
            "bottom": null,
            "display": null,
            "flex": null,
            "flex_flow": null,
            "grid_area": null,
            "grid_auto_columns": null,
            "grid_auto_flow": null,
            "grid_auto_rows": null,
            "grid_column": null,
            "grid_gap": null,
            "grid_row": null,
            "grid_template_areas": null,
            "grid_template_columns": null,
            "grid_template_rows": null,
            "height": null,
            "justify_content": null,
            "justify_items": null,
            "left": null,
            "margin": null,
            "max_height": null,
            "max_width": null,
            "min_height": null,
            "min_width": null,
            "object_fit": null,
            "object_position": null,
            "order": null,
            "overflow": null,
            "overflow_x": null,
            "overflow_y": null,
            "padding": null,
            "right": null,
            "top": null,
            "visibility": null,
            "width": null
          }
        },
        "67121aa46774441d97db713afae02607": {
          "model_module": "@jupyter-widgets/controls",
          "model_name": "DescriptionStyleModel",
          "model_module_version": "1.5.0",
          "state": {
            "_model_module": "@jupyter-widgets/controls",
            "_model_module_version": "1.5.0",
            "_model_name": "DescriptionStyleModel",
            "_view_count": null,
            "_view_module": "@jupyter-widgets/base",
            "_view_module_version": "1.2.0",
            "_view_name": "StyleView",
            "description_width": ""
          }
        },
        "1b259ba70a1f4bd59e3f0d046360e49c": {
          "model_module": "@jupyter-widgets/controls",
          "model_name": "HBoxModel",
          "model_module_version": "1.5.0",
          "state": {
            "_dom_classes": [],
            "_model_module": "@jupyter-widgets/controls",
            "_model_module_version": "1.5.0",
            "_model_name": "HBoxModel",
            "_view_count": null,
            "_view_module": "@jupyter-widgets/controls",
            "_view_module_version": "1.5.0",
            "_view_name": "HBoxView",
            "box_style": "",
            "children": [
              "IPY_MODEL_9a7d8164391b4c4c8901916510541ac2",
              "IPY_MODEL_ba383778077e4c35a31795a5fb0a8478",
              "IPY_MODEL_f687ae146660451ba8017283897b628a"
            ],
            "layout": "IPY_MODEL_1a7fa3dcc46346a9a3aaa97d54678038"
          }
        },
        "9a7d8164391b4c4c8901916510541ac2": {
          "model_module": "@jupyter-widgets/controls",
          "model_name": "HTMLModel",
          "model_module_version": "1.5.0",
          "state": {
            "_dom_classes": [],
            "_model_module": "@jupyter-widgets/controls",
            "_model_module_version": "1.5.0",
            "_model_name": "HTMLModel",
            "_view_count": null,
            "_view_module": "@jupyter-widgets/controls",
            "_view_module_version": "1.5.0",
            "_view_name": "HTMLView",
            "description": "",
            "description_tooltip": null,
            "layout": "IPY_MODEL_5dc65139ef124cd3816873d59e4ad147",
            "placeholder": "​",
            "style": "IPY_MODEL_51716fce3e8c47b0a1562d0f6fd458ef",
            "value": "Processing: 100%"
          }
        },
        "ba383778077e4c35a31795a5fb0a8478": {
          "model_module": "@jupyter-widgets/controls",
          "model_name": "FloatProgressModel",
          "model_module_version": "1.5.0",
          "state": {
            "_dom_classes": [],
            "_model_module": "@jupyter-widgets/controls",
            "_model_module_version": "1.5.0",
            "_model_name": "FloatProgressModel",
            "_view_count": null,
            "_view_module": "@jupyter-widgets/controls",
            "_view_module_version": "1.5.0",
            "_view_name": "ProgressView",
            "bar_style": "",
            "description": "",
            "description_tooltip": null,
            "layout": "IPY_MODEL_aa4d11801e294c3f8342b0b23427fa18",
            "max": 4,
            "min": 0,
            "orientation": "horizontal",
            "style": "IPY_MODEL_3f153d7994a34015be3eb66d72e2f49e",
            "value": 4
          }
        },
        "f687ae146660451ba8017283897b628a": {
          "model_module": "@jupyter-widgets/controls",
          "model_name": "HTMLModel",
          "model_module_version": "1.5.0",
          "state": {
            "_dom_classes": [],
            "_model_module": "@jupyter-widgets/controls",
            "_model_module_version": "1.5.0",
            "_model_name": "HTMLModel",
            "_view_count": null,
            "_view_module": "@jupyter-widgets/controls",
            "_view_module_version": "1.5.0",
            "_view_name": "HTMLView",
            "description": "",
            "description_tooltip": null,
            "layout": "IPY_MODEL_4026dd32aa434335bffb7f95aeb77668",
            "placeholder": "​",
            "style": "IPY_MODEL_069d2a9fa220481088753f7f0580d3e4",
            "value": " 4/4 [00:01&lt;00:00,  3.27it/s]"
          }
        },
        "1a7fa3dcc46346a9a3aaa97d54678038": {
          "model_module": "@jupyter-widgets/base",
          "model_name": "LayoutModel",
          "model_module_version": "1.2.0",
          "state": {
            "_model_module": "@jupyter-widgets/base",
            "_model_module_version": "1.2.0",
            "_model_name": "LayoutModel",
            "_view_count": null,
            "_view_module": "@jupyter-widgets/base",
            "_view_module_version": "1.2.0",
            "_view_name": "LayoutView",
            "align_content": null,
            "align_items": null,
            "align_self": null,
            "border": null,
            "bottom": null,
            "display": null,
            "flex": null,
            "flex_flow": null,
            "grid_area": null,
            "grid_auto_columns": null,
            "grid_auto_flow": null,
            "grid_auto_rows": null,
            "grid_column": null,
            "grid_gap": null,
            "grid_row": null,
            "grid_template_areas": null,
            "grid_template_columns": null,
            "grid_template_rows": null,
            "height": null,
            "justify_content": null,
            "justify_items": null,
            "left": null,
            "margin": null,
            "max_height": null,
            "max_width": null,
            "min_height": null,
            "min_width": null,
            "object_fit": null,
            "object_position": null,
            "order": null,
            "overflow": null,
            "overflow_x": null,
            "overflow_y": null,
            "padding": null,
            "right": null,
            "top": null,
            "visibility": "hidden",
            "width": null
          }
        },
        "5dc65139ef124cd3816873d59e4ad147": {
          "model_module": "@jupyter-widgets/base",
          "model_name": "LayoutModel",
          "model_module_version": "1.2.0",
          "state": {
            "_model_module": "@jupyter-widgets/base",
            "_model_module_version": "1.2.0",
            "_model_name": "LayoutModel",
            "_view_count": null,
            "_view_module": "@jupyter-widgets/base",
            "_view_module_version": "1.2.0",
            "_view_name": "LayoutView",
            "align_content": null,
            "align_items": null,
            "align_self": null,
            "border": null,
            "bottom": null,
            "display": null,
            "flex": null,
            "flex_flow": null,
            "grid_area": null,
            "grid_auto_columns": null,
            "grid_auto_flow": null,
            "grid_auto_rows": null,
            "grid_column": null,
            "grid_gap": null,
            "grid_row": null,
            "grid_template_areas": null,
            "grid_template_columns": null,
            "grid_template_rows": null,
            "height": null,
            "justify_content": null,
            "justify_items": null,
            "left": null,
            "margin": null,
            "max_height": null,
            "max_width": null,
            "min_height": null,
            "min_width": null,
            "object_fit": null,
            "object_position": null,
            "order": null,
            "overflow": null,
            "overflow_x": null,
            "overflow_y": null,
            "padding": null,
            "right": null,
            "top": null,
            "visibility": null,
            "width": null
          }
        },
        "51716fce3e8c47b0a1562d0f6fd458ef": {
          "model_module": "@jupyter-widgets/controls",
          "model_name": "DescriptionStyleModel",
          "model_module_version": "1.5.0",
          "state": {
            "_model_module": "@jupyter-widgets/controls",
            "_model_module_version": "1.5.0",
            "_model_name": "DescriptionStyleModel",
            "_view_count": null,
            "_view_module": "@jupyter-widgets/base",
            "_view_module_version": "1.2.0",
            "_view_name": "StyleView",
            "description_width": ""
          }
        },
        "aa4d11801e294c3f8342b0b23427fa18": {
          "model_module": "@jupyter-widgets/base",
          "model_name": "LayoutModel",
          "model_module_version": "1.2.0",
          "state": {
            "_model_module": "@jupyter-widgets/base",
            "_model_module_version": "1.2.0",
            "_model_name": "LayoutModel",
            "_view_count": null,
            "_view_module": "@jupyter-widgets/base",
            "_view_module_version": "1.2.0",
            "_view_name": "LayoutView",
            "align_content": null,
            "align_items": null,
            "align_self": null,
            "border": null,
            "bottom": null,
            "display": null,
            "flex": null,
            "flex_flow": null,
            "grid_area": null,
            "grid_auto_columns": null,
            "grid_auto_flow": null,
            "grid_auto_rows": null,
            "grid_column": null,
            "grid_gap": null,
            "grid_row": null,
            "grid_template_areas": null,
            "grid_template_columns": null,
            "grid_template_rows": null,
            "height": null,
            "justify_content": null,
            "justify_items": null,
            "left": null,
            "margin": null,
            "max_height": null,
            "max_width": null,
            "min_height": null,
            "min_width": null,
            "object_fit": null,
            "object_position": null,
            "order": null,
            "overflow": null,
            "overflow_x": null,
            "overflow_y": null,
            "padding": null,
            "right": null,
            "top": null,
            "visibility": null,
            "width": null
          }
        },
        "3f153d7994a34015be3eb66d72e2f49e": {
          "model_module": "@jupyter-widgets/controls",
          "model_name": "ProgressStyleModel",
          "model_module_version": "1.5.0",
          "state": {
            "_model_module": "@jupyter-widgets/controls",
            "_model_module_version": "1.5.0",
            "_model_name": "ProgressStyleModel",
            "_view_count": null,
            "_view_module": "@jupyter-widgets/base",
            "_view_module_version": "1.2.0",
            "_view_name": "StyleView",
            "bar_color": null,
            "description_width": ""
          }
        },
        "4026dd32aa434335bffb7f95aeb77668": {
          "model_module": "@jupyter-widgets/base",
          "model_name": "LayoutModel",
          "model_module_version": "1.2.0",
          "state": {
            "_model_module": "@jupyter-widgets/base",
            "_model_module_version": "1.2.0",
            "_model_name": "LayoutModel",
            "_view_count": null,
            "_view_module": "@jupyter-widgets/base",
            "_view_module_version": "1.2.0",
            "_view_name": "LayoutView",
            "align_content": null,
            "align_items": null,
            "align_self": null,
            "border": null,
            "bottom": null,
            "display": null,
            "flex": null,
            "flex_flow": null,
            "grid_area": null,
            "grid_auto_columns": null,
            "grid_auto_flow": null,
            "grid_auto_rows": null,
            "grid_column": null,
            "grid_gap": null,
            "grid_row": null,
            "grid_template_areas": null,
            "grid_template_columns": null,
            "grid_template_rows": null,
            "height": null,
            "justify_content": null,
            "justify_items": null,
            "left": null,
            "margin": null,
            "max_height": null,
            "max_width": null,
            "min_height": null,
            "min_width": null,
            "object_fit": null,
            "object_position": null,
            "order": null,
            "overflow": null,
            "overflow_x": null,
            "overflow_y": null,
            "padding": null,
            "right": null,
            "top": null,
            "visibility": null,
            "width": null
          }
        },
        "069d2a9fa220481088753f7f0580d3e4": {
          "model_module": "@jupyter-widgets/controls",
          "model_name": "DescriptionStyleModel",
          "model_module_version": "1.5.0",
          "state": {
            "_model_module": "@jupyter-widgets/controls",
            "_model_module_version": "1.5.0",
            "_model_name": "DescriptionStyleModel",
            "_view_count": null,
            "_view_module": "@jupyter-widgets/base",
            "_view_module_version": "1.2.0",
            "_view_name": "StyleView",
            "description_width": ""
          }
        },
        "f21e72e43c774bd492d2c69681e06dbb": {
          "model_module": "@jupyter-widgets/controls",
          "model_name": "VBoxModel",
          "model_module_version": "1.5.0",
          "state": {
            "_dom_classes": [
              "widget-interact"
            ],
            "_model_module": "@jupyter-widgets/controls",
            "_model_module_version": "1.5.0",
            "_model_name": "VBoxModel",
            "_view_count": null,
            "_view_module": "@jupyter-widgets/controls",
            "_view_module_version": "1.5.0",
            "_view_name": "VBoxView",
            "box_style": "",
            "children": [
              "IPY_MODEL_47c792413f664d9a810c103465623f1a",
              "IPY_MODEL_29d40e50d6934f7fb7622671d9bdb643"
            ],
            "layout": "IPY_MODEL_8ddaa30e434a4f5885187d83c9941a48"
          }
        },
        "47c792413f664d9a810c103465623f1a": {
          "model_module": "@jupyter-widgets/controls",
          "model_name": "ToggleButtonsModel",
          "model_module_version": "1.5.0",
          "state": {
            "_dom_classes": [],
            "_model_module": "@jupyter-widgets/controls",
            "_model_module_version": "1.5.0",
            "_model_name": "ToggleButtonsModel",
            "_options_labels": [
              "Pipeline Plot",
              "Hyperparameters",
              "AUC",
              "Confusion Matrix",
              "Threshold",
              "Precision Recall",
              "Prediction Error",
              "Class Report",
              "Feature Selection",
              "Learning Curve",
              "Manifold Learning",
              "Calibration Curve",
              "Validation Curve",
              "Dimensions",
              "Feature Importance",
              "Feature Importance (All)",
              "Decision Boundary",
              "Lift Chart",
              "Gain Chart",
              "Decision Tree",
              "KS Statistic Plot"
            ],
            "_view_count": null,
            "_view_module": "@jupyter-widgets/controls",
            "_view_module_version": "1.5.0",
            "_view_name": "ToggleButtonsView",
            "button_style": "",
            "description": "Plot Type:",
            "description_tooltip": null,
            "disabled": false,
            "icons": [
              ""
            ],
            "index": 14,
            "layout": "IPY_MODEL_d326bf2ecaf749fca2d90277c6bff6ec",
            "style": "IPY_MODEL_51329bb51faf4742850320fee9eed1c4",
            "tooltips": []
          }
        },
        "29d40e50d6934f7fb7622671d9bdb643": {
          "model_module": "@jupyter-widgets/output",
          "model_name": "OutputModel",
          "model_module_version": "1.0.0",
          "state": {
            "_dom_classes": [],
            "_model_module": "@jupyter-widgets/output",
            "_model_module_version": "1.0.0",
            "_model_name": "OutputModel",
            "_view_count": null,
            "_view_module": "@jupyter-widgets/output",
            "_view_module_version": "1.0.0",
            "_view_name": "OutputView",
            "layout": "IPY_MODEL_a8c60ab50059435c9504564363877fd4",
            "msg_id": "",
            "outputs": [
              {
                "output_type": "display_data",
                "data": {
                  "text/plain": "<Figure size 800x500 with 1 Axes>",
                  "image/png": "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\n"
                },
                "metadata": {}
              }
            ]
          }
        },
        "8ddaa30e434a4f5885187d83c9941a48": {
          "model_module": "@jupyter-widgets/base",
          "model_name": "LayoutModel",
          "model_module_version": "1.2.0",
          "state": {
            "_model_module": "@jupyter-widgets/base",
            "_model_module_version": "1.2.0",
            "_model_name": "LayoutModel",
            "_view_count": null,
            "_view_module": "@jupyter-widgets/base",
            "_view_module_version": "1.2.0",
            "_view_name": "LayoutView",
            "align_content": null,
            "align_items": null,
            "align_self": null,
            "border": null,
            "bottom": null,
            "display": null,
            "flex": null,
            "flex_flow": null,
            "grid_area": null,
            "grid_auto_columns": null,
            "grid_auto_flow": null,
            "grid_auto_rows": null,
            "grid_column": null,
            "grid_gap": null,
            "grid_row": null,
            "grid_template_areas": null,
            "grid_template_columns": null,
            "grid_template_rows": null,
            "height": null,
            "justify_content": null,
            "justify_items": null,
            "left": null,
            "margin": null,
            "max_height": null,
            "max_width": null,
            "min_height": null,
            "min_width": null,
            "object_fit": null,
            "object_position": null,
            "order": null,
            "overflow": null,
            "overflow_x": null,
            "overflow_y": null,
            "padding": null,
            "right": null,
            "top": null,
            "visibility": null,
            "width": null
          }
        },
        "d326bf2ecaf749fca2d90277c6bff6ec": {
          "model_module": "@jupyter-widgets/base",
          "model_name": "LayoutModel",
          "model_module_version": "1.2.0",
          "state": {
            "_model_module": "@jupyter-widgets/base",
            "_model_module_version": "1.2.0",
            "_model_name": "LayoutModel",
            "_view_count": null,
            "_view_module": "@jupyter-widgets/base",
            "_view_module_version": "1.2.0",
            "_view_name": "LayoutView",
            "align_content": null,
            "align_items": null,
            "align_self": null,
            "border": null,
            "bottom": null,
            "display": null,
            "flex": null,
            "flex_flow": null,
            "grid_area": null,
            "grid_auto_columns": null,
            "grid_auto_flow": null,
            "grid_auto_rows": null,
            "grid_column": null,
            "grid_gap": null,
            "grid_row": null,
            "grid_template_areas": null,
            "grid_template_columns": null,
            "grid_template_rows": null,
            "height": null,
            "justify_content": null,
            "justify_items": null,
            "left": null,
            "margin": null,
            "max_height": null,
            "max_width": null,
            "min_height": null,
            "min_width": null,
            "object_fit": null,
            "object_position": null,
            "order": null,
            "overflow": null,
            "overflow_x": null,
            "overflow_y": null,
            "padding": null,
            "right": null,
            "top": null,
            "visibility": null,
            "width": null
          }
        },
        "51329bb51faf4742850320fee9eed1c4": {
          "model_module": "@jupyter-widgets/controls",
          "model_name": "ToggleButtonsStyleModel",
          "model_module_version": "1.5.0",
          "state": {
            "_model_module": "@jupyter-widgets/controls",
            "_model_module_version": "1.5.0",
            "_model_name": "ToggleButtonsStyleModel",
            "_view_count": null,
            "_view_module": "@jupyter-widgets/base",
            "_view_module_version": "1.2.0",
            "_view_name": "StyleView",
            "button_width": "",
            "description_width": "",
            "font_weight": ""
          }
        },
        "a8c60ab50059435c9504564363877fd4": {
          "model_module": "@jupyter-widgets/base",
          "model_name": "LayoutModel",
          "model_module_version": "1.2.0",
          "state": {
            "_model_module": "@jupyter-widgets/base",
            "_model_module_version": "1.2.0",
            "_model_name": "LayoutModel",
            "_view_count": null,
            "_view_module": "@jupyter-widgets/base",
            "_view_module_version": "1.2.0",
            "_view_name": "LayoutView",
            "align_content": null,
            "align_items": null,
            "align_self": null,
            "border": null,
            "bottom": null,
            "display": null,
            "flex": null,
            "flex_flow": null,
            "grid_area": null,
            "grid_auto_columns": null,
            "grid_auto_flow": null,
            "grid_auto_rows": null,
            "grid_column": null,
            "grid_gap": null,
            "grid_row": null,
            "grid_template_areas": null,
            "grid_template_columns": null,
            "grid_template_rows": null,
            "height": null,
            "justify_content": null,
            "justify_items": null,
            "left": null,
            "margin": null,
            "max_height": null,
            "max_width": null,
            "min_height": null,
            "min_width": null,
            "object_fit": null,
            "object_position": null,
            "order": null,
            "overflow": null,
            "overflow_x": null,
            "overflow_y": null,
            "padding": null,
            "right": null,
            "top": null,
            "visibility": null,
            "width": null
          }
        }
      }
    }
  },
  "cells": [
    {
      "cell_type": "markdown",
      "metadata": {
        "id": "view-in-github",
        "colab_type": "text"
      },
      "source": [
        "<a href=\"https://colab.research.google.com/github/rezaul61/Breast-Cancer-Prediction/blob/main/breast_cancer_detection.ipynb\" target=\"_parent\"><img src=\"https://colab.research.google.com/assets/colab-badge.svg\" alt=\"Open In Colab\"/></a>"
      ]
    },
    {
      "cell_type": "code",
      "execution_count": 1,
      "metadata": {
        "id": "NhE5Cw5cENAY"
      },
      "outputs": [],
      "source": [
        "import pandas as pd"
      ]
    },
    {
      "cell_type": "code",
      "source": [
        "data=pd.read_csv('/content/breast_cancer.csv')"
      ],
      "metadata": {
        "id": "wMM6oN8uHM7N"
      },
      "execution_count": 2,
      "outputs": []
    },
    {
      "cell_type": "code",
      "source": [
        "data.drop(['Sample code number'],axis=1,inplace=True)"
      ],
      "metadata": {
        "id": "CmgIiRrHNiZz"
      },
      "execution_count": 3,
      "outputs": []
    },
    {
      "cell_type": "code",
      "source": [
        "data.isnull().sum()"
      ],
      "metadata": {
        "colab": {
          "base_uri": "https://localhost:8080/",
          "height": 397
        },
        "id": "NeBwCmT5OBf2",
        "outputId": "80c70efb-3e12-4fce-b9cf-af6cad78264e"
      },
      "execution_count": 4,
      "outputs": [
        {
          "output_type": "execute_result",
          "data": {
            "text/plain": [
              "Clump Thickness                0\n",
              "Uniformity of Cell Size        0\n",
              "Uniformity of Cell Shape       0\n",
              "Marginal Adhesion              0\n",
              "Single Epithelial Cell Size    0\n",
              "Bare Nuclei                    0\n",
              "Bland Chromatin                0\n",
              "Normal Nucleoli                0\n",
              "Mitoses                        0\n",
              "Class                          0\n",
              "dtype: int64"
            ],
            "text/html": [
              "<div>\n",
              "<style scoped>\n",
              "    .dataframe tbody tr th:only-of-type {\n",
              "        vertical-align: middle;\n",
              "    }\n",
              "\n",
              "    .dataframe tbody tr th {\n",
              "        vertical-align: top;\n",
              "    }\n",
              "\n",
              "    .dataframe thead th {\n",
              "        text-align: right;\n",
              "    }\n",
              "</style>\n",
              "<table border=\"1\" class=\"dataframe\">\n",
              "  <thead>\n",
              "    <tr style=\"text-align: right;\">\n",
              "      <th></th>\n",
              "      <th>0</th>\n",
              "    </tr>\n",
              "  </thead>\n",
              "  <tbody>\n",
              "    <tr>\n",
              "      <th>Clump Thickness</th>\n",
              "      <td>0</td>\n",
              "    </tr>\n",
              "    <tr>\n",
              "      <th>Uniformity of Cell Size</th>\n",
              "      <td>0</td>\n",
              "    </tr>\n",
              "    <tr>\n",
              "      <th>Uniformity of Cell Shape</th>\n",
              "      <td>0</td>\n",
              "    </tr>\n",
              "    <tr>\n",
              "      <th>Marginal Adhesion</th>\n",
              "      <td>0</td>\n",
              "    </tr>\n",
              "    <tr>\n",
              "      <th>Single Epithelial Cell Size</th>\n",
              "      <td>0</td>\n",
              "    </tr>\n",
              "    <tr>\n",
              "      <th>Bare Nuclei</th>\n",
              "      <td>0</td>\n",
              "    </tr>\n",
              "    <tr>\n",
              "      <th>Bland Chromatin</th>\n",
              "      <td>0</td>\n",
              "    </tr>\n",
              "    <tr>\n",
              "      <th>Normal Nucleoli</th>\n",
              "      <td>0</td>\n",
              "    </tr>\n",
              "    <tr>\n",
              "      <th>Mitoses</th>\n",
              "      <td>0</td>\n",
              "    </tr>\n",
              "    <tr>\n",
              "      <th>Class</th>\n",
              "      <td>0</td>\n",
              "    </tr>\n",
              "  </tbody>\n",
              "</table>\n",
              "</div><br><label><b>dtype:</b> int64</label>"
            ]
          },
          "metadata": {},
          "execution_count": 4
        }
      ]
    },
    {
      "cell_type": "code",
      "source": [
        "x=data.iloc[:,:-1]"
      ],
      "metadata": {
        "id": "t4-8paXbOK2G"
      },
      "execution_count": 5,
      "outputs": []
    },
    {
      "cell_type": "code",
      "source": [
        "y=data.iloc[:,-1]"
      ],
      "metadata": {
        "id": "2w8QlkadObGP"
      },
      "execution_count": 6,
      "outputs": []
    },
    {
      "cell_type": "code",
      "source": [
        "from sklearn.model_selection import train_test_split"
      ],
      "metadata": {
        "id": "Es7kst5VQVLm"
      },
      "execution_count": 7,
      "outputs": []
    },
    {
      "cell_type": "code",
      "source": [
        "x_train,x_test,y_train,y_test=train_test_split(x,y,test_size=0.2,random_state=0)"
      ],
      "metadata": {
        "id": "PAyYhjuSRAO_"
      },
      "execution_count": 8,
      "outputs": []
    },
    {
      "cell_type": "code",
      "source": [
        "from sklearn.linear_model import LogisticRegression"
      ],
      "metadata": {
        "id": "vzBZnDboRpEg"
      },
      "execution_count": 9,
      "outputs": []
    },
    {
      "cell_type": "code",
      "source": [
        "linear_model=LogisticRegression(random_state=0).fit(x_train,y_train)"
      ],
      "metadata": {
        "id": "K3u9Bc_6R_JB"
      },
      "execution_count": 10,
      "outputs": []
    },
    {
      "cell_type": "code",
      "source": [
        "predicted_y=linear_model.predict(x_test)"
      ],
      "metadata": {
        "id": "hHF0jQ8KSgKq"
      },
      "execution_count": 11,
      "outputs": []
    },
    {
      "cell_type": "code",
      "source": [
        "pd.DataFrame(predicted_y)"
      ],
      "metadata": {
        "colab": {
          "base_uri": "https://localhost:8080/",
          "height": 423
        },
        "id": "34lUYEakUDnk",
        "outputId": "bb0e0baa-97d1-45d5-b01b-81df66a9c817"
      },
      "execution_count": 12,
      "outputs": [
        {
          "output_type": "execute_result",
          "data": {
            "text/plain": [
              "     0\n",
              "0    2\n",
              "1    2\n",
              "2    4\n",
              "3    4\n",
              "4    2\n",
              "..  ..\n",
              "132  4\n",
              "133  2\n",
              "134  2\n",
              "135  4\n",
              "136  2\n",
              "\n",
              "[137 rows x 1 columns]"
            ],
            "text/html": [
              "\n",
              "  <div id=\"df-0f13e56c-2ba2-4f19-bcc9-10753bc596ee\" class=\"colab-df-container\">\n",
              "    <div>\n",
              "<style scoped>\n",
              "    .dataframe tbody tr th:only-of-type {\n",
              "        vertical-align: middle;\n",
              "    }\n",
              "\n",
              "    .dataframe tbody tr th {\n",
              "        vertical-align: top;\n",
              "    }\n",
              "\n",
              "    .dataframe thead th {\n",
              "        text-align: right;\n",
              "    }\n",
              "</style>\n",
              "<table border=\"1\" class=\"dataframe\">\n",
              "  <thead>\n",
              "    <tr style=\"text-align: right;\">\n",
              "      <th></th>\n",
              "      <th>0</th>\n",
              "    </tr>\n",
              "  </thead>\n",
              "  <tbody>\n",
              "    <tr>\n",
              "      <th>0</th>\n",
              "      <td>2</td>\n",
              "    </tr>\n",
              "    <tr>\n",
              "      <th>1</th>\n",
              "      <td>2</td>\n",
              "    </tr>\n",
              "    <tr>\n",
              "      <th>2</th>\n",
              "      <td>4</td>\n",
              "    </tr>\n",
              "    <tr>\n",
              "      <th>3</th>\n",
              "      <td>4</td>\n",
              "    </tr>\n",
              "    <tr>\n",
              "      <th>4</th>\n",
              "      <td>2</td>\n",
              "    </tr>\n",
              "    <tr>\n",
              "      <th>...</th>\n",
              "      <td>...</td>\n",
              "    </tr>\n",
              "    <tr>\n",
              "      <th>132</th>\n",
              "      <td>4</td>\n",
              "    </tr>\n",
              "    <tr>\n",
              "      <th>133</th>\n",
              "      <td>2</td>\n",
              "    </tr>\n",
              "    <tr>\n",
              "      <th>134</th>\n",
              "      <td>2</td>\n",
              "    </tr>\n",
              "    <tr>\n",
              "      <th>135</th>\n",
              "      <td>4</td>\n",
              "    </tr>\n",
              "    <tr>\n",
              "      <th>136</th>\n",
              "      <td>2</td>\n",
              "    </tr>\n",
              "  </tbody>\n",
              "</table>\n",
              "<p>137 rows × 1 columns</p>\n",
              "</div>\n",
              "    <div class=\"colab-df-buttons\">\n",
              "\n",
              "  <div class=\"colab-df-container\">\n",
              "    <button class=\"colab-df-convert\" onclick=\"convertToInteractive('df-0f13e56c-2ba2-4f19-bcc9-10753bc596ee')\"\n",
              "            title=\"Convert this dataframe to an interactive table.\"\n",
              "            style=\"display:none;\">\n",
              "\n",
              "  <svg xmlns=\"http://www.w3.org/2000/svg\" height=\"24px\" viewBox=\"0 -960 960 960\">\n",
              "    <path d=\"M120-120v-720h720v720H120Zm60-500h600v-160H180v160Zm220 220h160v-160H400v160Zm0 220h160v-160H400v160ZM180-400h160v-160H180v160Zm440 0h160v-160H620v160ZM180-180h160v-160H180v160Zm440 0h160v-160H620v160Z\"/>\n",
              "  </svg>\n",
              "    </button>\n",
              "\n",
              "  <style>\n",
              "    .colab-df-container {\n",
              "      display:flex;\n",
              "      gap: 12px;\n",
              "    }\n",
              "\n",
              "    .colab-df-convert {\n",
              "      background-color: #E8F0FE;\n",
              "      border: none;\n",
              "      border-radius: 50%;\n",
              "      cursor: pointer;\n",
              "      display: none;\n",
              "      fill: #1967D2;\n",
              "      height: 32px;\n",
              "      padding: 0 0 0 0;\n",
              "      width: 32px;\n",
              "    }\n",
              "\n",
              "    .colab-df-convert:hover {\n",
              "      background-color: #E2EBFA;\n",
              "      box-shadow: 0px 1px 2px rgba(60, 64, 67, 0.3), 0px 1px 3px 1px rgba(60, 64, 67, 0.15);\n",
              "      fill: #174EA6;\n",
              "    }\n",
              "\n",
              "    .colab-df-buttons div {\n",
              "      margin-bottom: 4px;\n",
              "    }\n",
              "\n",
              "    [theme=dark] .colab-df-convert {\n",
              "      background-color: #3B4455;\n",
              "      fill: #D2E3FC;\n",
              "    }\n",
              "\n",
              "    [theme=dark] .colab-df-convert:hover {\n",
              "      background-color: #434B5C;\n",
              "      box-shadow: 0px 1px 3px 1px rgba(0, 0, 0, 0.15);\n",
              "      filter: drop-shadow(0px 1px 2px rgba(0, 0, 0, 0.3));\n",
              "      fill: #FFFFFF;\n",
              "    }\n",
              "  </style>\n",
              "\n",
              "    <script>\n",
              "      const buttonEl =\n",
              "        document.querySelector('#df-0f13e56c-2ba2-4f19-bcc9-10753bc596ee button.colab-df-convert');\n",
              "      buttonEl.style.display =\n",
              "        google.colab.kernel.accessAllowed ? 'block' : 'none';\n",
              "\n",
              "      async function convertToInteractive(key) {\n",
              "        const element = document.querySelector('#df-0f13e56c-2ba2-4f19-bcc9-10753bc596ee');\n",
              "        const dataTable =\n",
              "          await google.colab.kernel.invokeFunction('convertToInteractive',\n",
              "                                                    [key], {});\n",
              "        if (!dataTable) return;\n",
              "\n",
              "        const docLinkHtml = 'Like what you see? Visit the ' +\n",
              "          '<a target=\"_blank\" href=https://colab.research.google.com/notebooks/data_table.ipynb>data table notebook</a>'\n",
              "          + ' to learn more about interactive tables.';\n",
              "        element.innerHTML = '';\n",
              "        dataTable['output_type'] = 'display_data';\n",
              "        await google.colab.output.renderOutput(dataTable, element);\n",
              "        const docLink = document.createElement('div');\n",
              "        docLink.innerHTML = docLinkHtml;\n",
              "        element.appendChild(docLink);\n",
              "      }\n",
              "    </script>\n",
              "  </div>\n",
              "\n",
              "\n",
              "<div id=\"df-25ff3b3a-1953-4440-93c8-bc2de22587b3\">\n",
              "  <button class=\"colab-df-quickchart\" onclick=\"quickchart('df-25ff3b3a-1953-4440-93c8-bc2de22587b3')\"\n",
              "            title=\"Suggest charts\"\n",
              "            style=\"display:none;\">\n",
              "\n",
              "<svg xmlns=\"http://www.w3.org/2000/svg\" height=\"24px\"viewBox=\"0 0 24 24\"\n",
              "     width=\"24px\">\n",
              "    <g>\n",
              "        <path d=\"M19 3H5c-1.1 0-2 .9-2 2v14c0 1.1.9 2 2 2h14c1.1 0 2-.9 2-2V5c0-1.1-.9-2-2-2zM9 17H7v-7h2v7zm4 0h-2V7h2v10zm4 0h-2v-4h2v4z\"/>\n",
              "    </g>\n",
              "</svg>\n",
              "  </button>\n",
              "\n",
              "<style>\n",
              "  .colab-df-quickchart {\n",
              "      --bg-color: #E8F0FE;\n",
              "      --fill-color: #1967D2;\n",
              "      --hover-bg-color: #E2EBFA;\n",
              "      --hover-fill-color: #174EA6;\n",
              "      --disabled-fill-color: #AAA;\n",
              "      --disabled-bg-color: #DDD;\n",
              "  }\n",
              "\n",
              "  [theme=dark] .colab-df-quickchart {\n",
              "      --bg-color: #3B4455;\n",
              "      --fill-color: #D2E3FC;\n",
              "      --hover-bg-color: #434B5C;\n",
              "      --hover-fill-color: #FFFFFF;\n",
              "      --disabled-bg-color: #3B4455;\n",
              "      --disabled-fill-color: #666;\n",
              "  }\n",
              "\n",
              "  .colab-df-quickchart {\n",
              "    background-color: var(--bg-color);\n",
              "    border: none;\n",
              "    border-radius: 50%;\n",
              "    cursor: pointer;\n",
              "    display: none;\n",
              "    fill: var(--fill-color);\n",
              "    height: 32px;\n",
              "    padding: 0;\n",
              "    width: 32px;\n",
              "  }\n",
              "\n",
              "  .colab-df-quickchart:hover {\n",
              "    background-color: var(--hover-bg-color);\n",
              "    box-shadow: 0 1px 2px rgba(60, 64, 67, 0.3), 0 1px 3px 1px rgba(60, 64, 67, 0.15);\n",
              "    fill: var(--button-hover-fill-color);\n",
              "  }\n",
              "\n",
              "  .colab-df-quickchart-complete:disabled,\n",
              "  .colab-df-quickchart-complete:disabled:hover {\n",
              "    background-color: var(--disabled-bg-color);\n",
              "    fill: var(--disabled-fill-color);\n",
              "    box-shadow: none;\n",
              "  }\n",
              "\n",
              "  .colab-df-spinner {\n",
              "    border: 2px solid var(--fill-color);\n",
              "    border-color: transparent;\n",
              "    border-bottom-color: var(--fill-color);\n",
              "    animation:\n",
              "      spin 1s steps(1) infinite;\n",
              "  }\n",
              "\n",
              "  @keyframes spin {\n",
              "    0% {\n",
              "      border-color: transparent;\n",
              "      border-bottom-color: var(--fill-color);\n",
              "      border-left-color: var(--fill-color);\n",
              "    }\n",
              "    20% {\n",
              "      border-color: transparent;\n",
              "      border-left-color: var(--fill-color);\n",
              "      border-top-color: var(--fill-color);\n",
              "    }\n",
              "    30% {\n",
              "      border-color: transparent;\n",
              "      border-left-color: var(--fill-color);\n",
              "      border-top-color: var(--fill-color);\n",
              "      border-right-color: var(--fill-color);\n",
              "    }\n",
              "    40% {\n",
              "      border-color: transparent;\n",
              "      border-right-color: var(--fill-color);\n",
              "      border-top-color: var(--fill-color);\n",
              "    }\n",
              "    60% {\n",
              "      border-color: transparent;\n",
              "      border-right-color: var(--fill-color);\n",
              "    }\n",
              "    80% {\n",
              "      border-color: transparent;\n",
              "      border-right-color: var(--fill-color);\n",
              "      border-bottom-color: var(--fill-color);\n",
              "    }\n",
              "    90% {\n",
              "      border-color: transparent;\n",
              "      border-bottom-color: var(--fill-color);\n",
              "    }\n",
              "  }\n",
              "</style>\n",
              "\n",
              "  <script>\n",
              "    async function quickchart(key) {\n",
              "      const quickchartButtonEl =\n",
              "        document.querySelector('#' + key + ' button');\n",
              "      quickchartButtonEl.disabled = true;  // To prevent multiple clicks.\n",
              "      quickchartButtonEl.classList.add('colab-df-spinner');\n",
              "      try {\n",
              "        const charts = await google.colab.kernel.invokeFunction(\n",
              "            'suggestCharts', [key], {});\n",
              "      } catch (error) {\n",
              "        console.error('Error during call to suggestCharts:', error);\n",
              "      }\n",
              "      quickchartButtonEl.classList.remove('colab-df-spinner');\n",
              "      quickchartButtonEl.classList.add('colab-df-quickchart-complete');\n",
              "    }\n",
              "    (() => {\n",
              "      let quickchartButtonEl =\n",
              "        document.querySelector('#df-25ff3b3a-1953-4440-93c8-bc2de22587b3 button');\n",
              "      quickchartButtonEl.style.display =\n",
              "        google.colab.kernel.accessAllowed ? 'block' : 'none';\n",
              "    })();\n",
              "  </script>\n",
              "</div>\n",
              "\n",
              "    </div>\n",
              "  </div>\n"
            ],
            "application/vnd.google.colaboratory.intrinsic+json": {
              "type": "dataframe",
              "summary": "{\n  \"name\": \"pd\",\n  \"rows\": 137,\n  \"fields\": [\n    {\n      \"column\": 0,\n      \"properties\": {\n        \"dtype\": \"number\",\n        \"std\": 0,\n        \"min\": 2,\n        \"max\": 4,\n        \"num_unique_values\": 2,\n        \"samples\": [\n          4,\n          2\n        ],\n        \"semantic_type\": \"\",\n        \"description\": \"\"\n      }\n    }\n  ]\n}"
            }
          },
          "metadata": {},
          "execution_count": 12
        }
      ]
    },
    {
      "cell_type": "code",
      "source": [
        "y_test"
      ],
      "metadata": {
        "colab": {
          "base_uri": "https://localhost:8080/",
          "height": 458
        },
        "id": "oed8O05vUZg8",
        "outputId": "8e255358-1d6f-4bcb-f288-91a8d4fd7748"
      },
      "execution_count": 13,
      "outputs": [
        {
          "output_type": "execute_result",
          "data": {
            "text/plain": [
              "113    2\n",
              "378    2\n",
              "303    4\n",
              "504    4\n",
              "301    2\n",
              "      ..\n",
              "21     4\n",
              "454    2\n",
              "506    2\n",
              "500    4\n",
              "77     2\n",
              "Name: Class, Length: 137, dtype: int64"
            ],
            "text/html": [
              "<div>\n",
              "<style scoped>\n",
              "    .dataframe tbody tr th:only-of-type {\n",
              "        vertical-align: middle;\n",
              "    }\n",
              "\n",
              "    .dataframe tbody tr th {\n",
              "        vertical-align: top;\n",
              "    }\n",
              "\n",
              "    .dataframe thead th {\n",
              "        text-align: right;\n",
              "    }\n",
              "</style>\n",
              "<table border=\"1\" class=\"dataframe\">\n",
              "  <thead>\n",
              "    <tr style=\"text-align: right;\">\n",
              "      <th></th>\n",
              "      <th>Class</th>\n",
              "    </tr>\n",
              "  </thead>\n",
              "  <tbody>\n",
              "    <tr>\n",
              "      <th>113</th>\n",
              "      <td>2</td>\n",
              "    </tr>\n",
              "    <tr>\n",
              "      <th>378</th>\n",
              "      <td>2</td>\n",
              "    </tr>\n",
              "    <tr>\n",
              "      <th>303</th>\n",
              "      <td>4</td>\n",
              "    </tr>\n",
              "    <tr>\n",
              "      <th>504</th>\n",
              "      <td>4</td>\n",
              "    </tr>\n",
              "    <tr>\n",
              "      <th>301</th>\n",
              "      <td>2</td>\n",
              "    </tr>\n",
              "    <tr>\n",
              "      <th>...</th>\n",
              "      <td>...</td>\n",
              "    </tr>\n",
              "    <tr>\n",
              "      <th>21</th>\n",
              "      <td>4</td>\n",
              "    </tr>\n",
              "    <tr>\n",
              "      <th>454</th>\n",
              "      <td>2</td>\n",
              "    </tr>\n",
              "    <tr>\n",
              "      <th>506</th>\n",
              "      <td>2</td>\n",
              "    </tr>\n",
              "    <tr>\n",
              "      <th>500</th>\n",
              "      <td>4</td>\n",
              "    </tr>\n",
              "    <tr>\n",
              "      <th>77</th>\n",
              "      <td>2</td>\n",
              "    </tr>\n",
              "  </tbody>\n",
              "</table>\n",
              "<p>137 rows × 1 columns</p>\n",
              "</div><br><label><b>dtype:</b> int64</label>"
            ]
          },
          "metadata": {},
          "execution_count": 13
        }
      ]
    },
    {
      "cell_type": "code",
      "source": [
        "linear_model.score(x_test,y_test)"
      ],
      "metadata": {
        "colab": {
          "base_uri": "https://localhost:8080/"
        },
        "id": "_VfkIwUiUcx5",
        "outputId": "7292074e-4d4c-4af5-97c2-cebff9078be9"
      },
      "execution_count": 14,
      "outputs": [
        {
          "output_type": "execute_result",
          "data": {
            "text/plain": [
              "0.9562043795620438"
            ]
          },
          "metadata": {},
          "execution_count": 14
        }
      ]
    },
    {
      "cell_type": "code",
      "source": [
        "from sklearn.metrics import confusion_matrix\n",
        "cm=confusion_matrix(y_test,predicted_y)"
      ],
      "metadata": {
        "id": "YsCt9sbUfVci"
      },
      "execution_count": 15,
      "outputs": []
    },
    {
      "cell_type": "code",
      "source": [
        "import seaborn as sns"
      ],
      "metadata": {
        "id": "ICJ8SZYkkm7e"
      },
      "execution_count": 16,
      "outputs": []
    },
    {
      "cell_type": "code",
      "source": [
        "sns.heatmap(cm, vmin=None, vmax=None, cmap=None, center=None, robust=False, annot=True, fmt='.2g', annot_kws=None, linewidths=0, linecolor='white', cbar=True, cbar_kws=None, cbar_ax=None, square=False, xticklabels='auto', yticklabels='auto', mask=None, ax=None)"
      ],
      "metadata": {
        "colab": {
          "base_uri": "https://localhost:8080/",
          "height": 447
        },
        "id": "sNvsovLCgPOT",
        "outputId": "73a53720-eff7-44cb-e616-bc64d6c1aa51"
      },
      "execution_count": 17,
      "outputs": [
        {
          "output_type": "execute_result",
          "data": {
            "text/plain": [
              "<Axes: >"
            ]
          },
          "metadata": {},
          "execution_count": 17
        },
        {
          "output_type": "display_data",
          "data": {
            "text/plain": [
              "<Figure size 640x480 with 2 Axes>"
            ],
            "image/png": "[encoded data removed]"
          },
          "metadata": {}
        }
      ]
    },
    {
      "cell_type": "markdown",
      "source": [
        "##By Using Pycaret\n"
      ],
      "metadata": {
        "id": "HTf9ZUqjSOri"
      }
    },
    {
      "cell_type": "code",
      "source": [],
      "metadata": {
        "id": "8MgZoRZRSVC3"
      },
      "execution_count": null,
      "outputs": []
    },
    {
      "cell_type": "code",
      "source": [
        "from pycaret.classification import *"
      ],
      "metadata": {
        "id": "PPFva4vXjtnp"
      },
      "execution_count": 31,
      "outputs": []
    },
    {
      "cell_type": "code",
      "source": [
        "model=setup(data,target=\"Class\",numeric_imputation=\"median\",log_experiment=False,remove_multicollinearity=True,\n",
        "            transformation=True,normalize=True,train_size=0.8,)"
      ],
      "metadata": {
        "colab": {
          "base_uri": "https://localhost:8080/",
          "height": 864
        },
        "id": "XeRBhdi2j1z6",
        "outputId": "5245d18b-554c-476d-cc57-af103c78abde"
      },
      "execution_count": 33,
      "outputs": [
        {
          "output_type": "display_data",
          "data": {
            "text/plain": [
              "<pandas.io.formats.style.Styler at 0x7ddba642e9d0>"
            ],
            "text/html": [
              "<style type=\"text/css\">\n",
              "#T_fe1ec_row9_col1, #T_fe1ec_row13_col1, #T_fe1ec_row15_col1, #T_fe1ec_row17_col1 {\n",
              "  background-color: lightgreen;\n",
              "}\n",
              "</style>\n",
              "<table id=\"T_fe1ec\" class=\"dataframe\">\n",
              "  <thead>\n",
              "    <tr>\n",
              "      <th class=\"blank level0\" >&nbsp;</th>\n",
              "      <th id=\"T_fe1ec_level0_col0\" class=\"col_heading level0 col0\" >Description</th>\n",
              "      <th id=\"T_fe1ec_level0_col1\" class=\"col_heading level0 col1\" >Value</th>\n",
              "    </tr>\n",
              "  </thead>\n",
              "  <tbody>\n",
              "    <tr>\n",
              "      <th id=\"T_fe1ec_level0_row0\" class=\"row_heading level0 row0\" >0</th>\n",
              "      <td id=\"T_fe1ec_row0_col0\" class=\"data row0 col0\" >Session id</td>\n",
              "      <td id=\"T_fe1ec_row0_col1\" class=\"data row0 col1\" >8012</td>\n",
              "    </tr>\n",
              "    <tr>\n",
              "      <th id=\"T_fe1ec_level0_row1\" class=\"row_heading level0 row1\" >1</th>\n",
              "      <td id=\"T_fe1ec_row1_col0\" class=\"data row1 col0\" >Target</td>\n",
              "      <td id=\"T_fe1ec_row1_col1\" class=\"data row1 col1\" >Class</td>\n",
              "    </tr>\n",
              "    <tr>\n",
              "      <th id=\"T_fe1ec_level0_row2\" class=\"row_heading level0 row2\" >2</th>\n",
              "      <td id=\"T_fe1ec_row2_col0\" class=\"data row2 col0\" >Target type</td>\n",
              "      <td id=\"T_fe1ec_row2_col1\" class=\"data row2 col1\" >Binary</td>\n",
              "    </tr>\n",
              "    <tr>\n",
              "      <th id=\"T_fe1ec_level0_row3\" class=\"row_heading level0 row3\" >3</th>\n",
              "      <td id=\"T_fe1ec_row3_col0\" class=\"data row3 col0\" >Target mapping</td>\n",
              "      <td id=\"T_fe1ec_row3_col1\" class=\"data row3 col1\" >2: 0, 4: 1</td>\n",
              "    </tr>\n",
              "    <tr>\n",
              "      <th id=\"T_fe1ec_level0_row4\" class=\"row_heading level0 row4\" >4</th>\n",
              "      <td id=\"T_fe1ec_row4_col0\" class=\"data row4 col0\" >Original data shape</td>\n",
              "      <td id=\"T_fe1ec_row4_col1\" class=\"data row4 col1\" >(683, 10)</td>\n",
              "    </tr>\n",
              "    <tr>\n",
              "      <th id=\"T_fe1ec_level0_row5\" class=\"row_heading level0 row5\" >5</th>\n",
              "      <td id=\"T_fe1ec_row5_col0\" class=\"data row5 col0\" >Transformed data shape</td>\n",
              "      <td id=\"T_fe1ec_row5_col1\" class=\"data row5 col1\" >(683, 10)</td>\n",
              "    </tr>\n",
              "    <tr>\n",
              "      <th id=\"T_fe1ec_level0_row6\" class=\"row_heading level0 row6\" >6</th>\n",
              "      <td id=\"T_fe1ec_row6_col0\" class=\"data row6 col0\" >Transformed train set shape</td>\n",
              "      <td id=\"T_fe1ec_row6_col1\" class=\"data row6 col1\" >(546, 10)</td>\n",
              "    </tr>\n",
              "    <tr>\n",
              "      <th id=\"T_fe1ec_level0_row7\" class=\"row_heading level0 row7\" >7</th>\n",
              "      <td id=\"T_fe1ec_row7_col0\" class=\"data row7 col0\" >Transformed test set shape</td>\n",
              "      <td id=\"T_fe1ec_row7_col1\" class=\"data row7 col1\" >(137, 10)</td>\n",
              "    </tr>\n",
              "    <tr>\n",
              "      <th id=\"T_fe1ec_level0_row8\" class=\"row_heading level0 row8\" >8</th>\n",
              "      <td id=\"T_fe1ec_row8_col0\" class=\"data row8 col0\" >Numeric features</td>\n",
              "      <td id=\"T_fe1ec_row8_col1\" class=\"data row8 col1\" >9</td>\n",
              "    </tr>\n",
              "    <tr>\n",
              "      <th id=\"T_fe1ec_level0_row9\" class=\"row_heading level0 row9\" >9</th>\n",
              "      <td id=\"T_fe1ec_row9_col0\" class=\"data row9 col0\" >Preprocess</td>\n",
              "      <td id=\"T_fe1ec_row9_col1\" class=\"data row9 col1\" >True</td>\n",
              "    </tr>\n",
              "    <tr>\n",
              "      <th id=\"T_fe1ec_level0_row10\" class=\"row_heading level0 row10\" >10</th>\n",
              "      <td id=\"T_fe1ec_row10_col0\" class=\"data row10 col0\" >Imputation type</td>\n",
              "      <td id=\"T_fe1ec_row10_col1\" class=\"data row10 col1\" >simple</td>\n",
              "    </tr>\n",
              "    <tr>\n",
              "      <th id=\"T_fe1ec_level0_row11\" class=\"row_heading level0 row11\" >11</th>\n",
              "      <td id=\"T_fe1ec_row11_col0\" class=\"data row11 col0\" >Numeric imputation</td>\n",
              "      <td id=\"T_fe1ec_row11_col1\" class=\"data row11 col1\" >median</td>\n",
              "    </tr>\n",
              "    <tr>\n",
              "      <th id=\"T_fe1ec_level0_row12\" class=\"row_heading level0 row12\" >12</th>\n",
              "      <td id=\"T_fe1ec_row12_col0\" class=\"data row12 col0\" >Categorical imputation</td>\n",
              "      <td id=\"T_fe1ec_row12_col1\" class=\"data row12 col1\" >mode</td>\n",
              "    </tr>\n",
              "    <tr>\n",
              "      <th id=\"T_fe1ec_level0_row13\" class=\"row_heading level0 row13\" >13</th>\n",
              "      <td id=\"T_fe1ec_row13_col0\" class=\"data row13 col0\" >Remove multicollinearity</td>\n",
              "      <td id=\"T_fe1ec_row13_col1\" class=\"data row13 col1\" >True</td>\n",
              "    </tr>\n",
              "    <tr>\n",
              "      <th id=\"T_fe1ec_level0_row14\" class=\"row_heading level0 row14\" >14</th>\n",
              "      <td id=\"T_fe1ec_row14_col0\" class=\"data row14 col0\" >Multicollinearity threshold</td>\n",
              "      <td id=\"T_fe1ec_row14_col1\" class=\"data row14 col1\" >0.900000</td>\n",
              "    </tr>\n",
              "    <tr>\n",
              "      <th id=\"T_fe1ec_level0_row15\" class=\"row_heading level0 row15\" >15</th>\n",
              "      <td id=\"T_fe1ec_row15_col0\" class=\"data row15 col0\" >Transformation</td>\n",
              "      <td id=\"T_fe1ec_row15_col1\" class=\"data row15 col1\" >True</td>\n",
              "    </tr>\n",
              "    <tr>\n",
              "      <th id=\"T_fe1ec_level0_row16\" class=\"row_heading level0 row16\" >16</th>\n",
              "      <td id=\"T_fe1ec_row16_col0\" class=\"data row16 col0\" >Transformation method</td>\n",
              "      <td id=\"T_fe1ec_row16_col1\" class=\"data row16 col1\" >yeo-johnson</td>\n",
              "    </tr>\n",
              "    <tr>\n",
              "      <th id=\"T_fe1ec_level0_row17\" class=\"row_heading level0 row17\" >17</th>\n",
              "      <td id=\"T_fe1ec_row17_col0\" class=\"data row17 col0\" >Normalize</td>\n",
              "      <td id=\"T_fe1ec_row17_col1\" class=\"data row17 col1\" >True</td>\n",
              "    </tr>\n",
              "    <tr>\n",
              "      <th id=\"T_fe1ec_level0_row18\" class=\"row_heading level0 row18\" >18</th>\n",
              "      <td id=\"T_fe1ec_row18_col0\" class=\"data row18 col0\" >Normalize method</td>\n",
              "      <td id=\"T_fe1ec_row18_col1\" class=\"data row18 col1\" >zscore</td>\n",
              "    </tr>\n",
              "    <tr>\n",
              "      <th id=\"T_fe1ec_level0_row19\" class=\"row_heading level0 row19\" >19</th>\n",
              "      <td id=\"T_fe1ec_row19_col0\" class=\"data row19 col0\" >Fold Generator</td>\n",
              "      <td id=\"T_fe1ec_row19_col1\" class=\"data row19 col1\" >StratifiedKFold</td>\n",
              "    </tr>\n",
              "    <tr>\n",
              "      <th id=\"T_fe1ec_level0_row20\" class=\"row_heading level0 row20\" >20</th>\n",
              "      <td id=\"T_fe1ec_row20_col0\" class=\"data row20 col0\" >Fold Number</td>\n",
              "      <td id=\"T_fe1ec_row20_col1\" class=\"data row20 col1\" >10</td>\n",
              "    </tr>\n",
              "    <tr>\n",
              "      <th id=\"T_fe1ec_level0_row21\" class=\"row_heading level0 row21\" >21</th>\n",
              "      <td id=\"T_fe1ec_row21_col0\" class=\"data row21 col0\" >CPU Jobs</td>\n",
              "      <td id=\"T_fe1ec_row21_col1\" class=\"data row21 col1\" >-1</td>\n",
              "    </tr>\n",
              "    <tr>\n",
              "      <th id=\"T_fe1ec_level0_row22\" class=\"row_heading level0 row22\" >22</th>\n",
              "      <td id=\"T_fe1ec_row22_col0\" class=\"data row22 col0\" >Use GPU</td>\n",
              "      <td id=\"T_fe1ec_row22_col1\" class=\"data row22 col1\" >False</td>\n",
              "    </tr>\n",
              "    <tr>\n",
              "      <th id=\"T_fe1ec_level0_row23\" class=\"row_heading level0 row23\" >23</th>\n",
              "      <td id=\"T_fe1ec_row23_col0\" class=\"data row23 col0\" >Log Experiment</td>\n",
              "      <td id=\"T_fe1ec_row23_col1\" class=\"data row23 col1\" >False</td>\n",
              "    </tr>\n",
              "    <tr>\n",
              "      <th id=\"T_fe1ec_level0_row24\" class=\"row_heading level0 row24\" >24</th>\n",
              "      <td id=\"T_fe1ec_row24_col0\" class=\"data row24 col0\" >Experiment Name</td>\n",
              "      <td id=\"T_fe1ec_row24_col1\" class=\"data row24 col1\" >clf-default-name</td>\n",
              "    </tr>\n",
              "    <tr>\n",
              "      <th id=\"T_fe1ec_level0_row25\" class=\"row_heading level0 row25\" >25</th>\n",
              "      <td id=\"T_fe1ec_row25_col0\" class=\"data row25 col0\" >USI</td>\n",
              "      <td id=\"T_fe1ec_row25_col1\" class=\"data row25 col1\" >f8b9</td>\n",
              "    </tr>\n",
              "  </tbody>\n",
              "</table>\n"
            ]
          },
          "metadata": {}
        }
      ]
    },
    {
      "cell_type": "code",
      "source": [
        "best_model=compare_models()"
      ],
      "metadata": {
        "colab": {
          "base_uri": "https://localhost:8080/",
          "height": 519,
          "referenced_widgets": [
            "6b0cc4e86c67458ca47c2e9ec1b01a5d",
            "40bee1ec61b644a592d06934d56872ec",
            "6374ed808b7c4843b45a125c727c734f",
            "941b3076e80846e582bfe6580b78a6de",
            "f10027a3dcb842fb858e5a11ee82791c",
            "6f81bf5993a4483a9d650f392818286b",
            "f8400b5605c44a239f27b476abbe32c8",
            "3f399bb56a994ee4b630cf2f99c22a5b",
            "74ffc18fe42d42e7a0114e0bd99ce058",
            "f692e4099a64479ebf70f0accc8127f7",
            "67121aa46774441d97db713afae02607"
          ]
        },
        "id": "Vbtdjwril4sy",
        "outputId": "ea6cde09-c49d-45ea-aa37-c93a80fd97da"
      },
      "execution_count": 34,
      "outputs": [
        {
          "output_type": "display_data",
          "data": {
            "text/plain": [
              "<IPython.core.display.HTML object>"
            ],
            "text/html": []
          },
          "metadata": {}
        },
        {
          "output_type": "display_data",
          "data": {
            "text/plain": [
              "<pandas.io.formats.style.Styler at 0x7ddb9057e590>"
            ],
            "text/html": [
              "<style type=\"text/css\">\n",
              "#T_7dc52 th {\n",
              "  text-align: left;\n",
              "}\n",
              "#T_7dc52_row0_col0, #T_7dc52_row0_col2, #T_7dc52_row1_col0, #T_7dc52_row1_col1, #T_7dc52_row1_col2, #T_7dc52_row1_col3, #T_7dc52_row1_col4, #T_7dc52_row1_col5, #T_7dc52_row1_col6, #T_7dc52_row1_col7, #T_7dc52_row2_col0, #T_7dc52_row2_col1, #T_7dc52_row2_col2, #T_7dc52_row2_col3, #T_7dc52_row2_col4, #T_7dc52_row2_col5, #T_7dc52_row2_col6, #T_7dc52_row2_col7, #T_7dc52_row3_col0, #T_7dc52_row3_col1, #T_7dc52_row3_col2, #T_7dc52_row3_col3, #T_7dc52_row3_col4, #T_7dc52_row3_col5, #T_7dc52_row3_col6, #T_7dc52_row3_col7, #T_7dc52_row4_col0, #T_7dc52_row4_col1, #T_7dc52_row4_col2, #T_7dc52_row4_col3, #T_7dc52_row4_col4, #T_7dc52_row4_col5, #T_7dc52_row4_col6, #T_7dc52_row4_col7, #T_7dc52_row5_col0, #T_7dc52_row5_col1, #T_7dc52_row5_col2, #T_7dc52_row5_col3, #T_7dc52_row5_col4, #T_7dc52_row5_col5, #T_7dc52_row5_col6, #T_7dc52_row5_col7, #T_7dc52_row6_col0, #T_7dc52_row6_col1, #T_7dc52_row6_col3, #T_7dc52_row6_col4, #T_7dc52_row6_col5, #T_7dc52_row6_col6, #T_7dc52_row6_col7, #T_7dc52_row7_col0, #T_7dc52_row7_col1, #T_7dc52_row7_col2, #T_7dc52_row7_col3, #T_7dc52_row7_col4, #T_7dc52_row7_col5, #T_7dc52_row7_col6, #T_7dc52_row7_col7, #T_7dc52_row8_col0, #T_7dc52_row8_col1, #T_7dc52_row8_col2, #T_7dc52_row8_col3, #T_7dc52_row8_col4, #T_7dc52_row8_col5, #T_7dc52_row8_col6, #T_7dc52_row8_col7, #T_7dc52_row9_col0, #T_7dc52_row9_col1, #T_7dc52_row9_col2, #T_7dc52_row9_col3, #T_7dc52_row9_col4, #T_7dc52_row9_col5, #T_7dc52_row9_col6, #T_7dc52_row9_col7, #T_7dc52_row10_col0, #T_7dc52_row10_col1, #T_7dc52_row10_col2, #T_7dc52_row10_col3, #T_7dc52_row10_col4, #T_7dc52_row10_col5, #T_7dc52_row10_col6, #T_7dc52_row10_col7, #T_7dc52_row11_col0, #T_7dc52_row11_col1, #T_7dc52_row11_col2, #T_7dc52_row11_col3, #T_7dc52_row11_col4, #T_7dc52_row11_col5, #T_7dc52_row11_col6, #T_7dc52_row11_col7, #T_7dc52_row12_col0, #T_7dc52_row12_col1, #T_7dc52_row12_col2, #T_7dc52_row12_col3, #T_7dc52_row12_col4, #T_7dc52_row12_col5, #T_7dc52_row12_col6, #T_7dc52_row12_col7, #T_7dc52_row13_col0, #T_7dc52_row13_col1, #T_7dc52_row13_col2, #T_7dc52_row13_col3, #T_7dc52_row13_col4, #T_7dc52_row13_col5, #T_7dc52_row13_col6, #T_7dc52_row13_col7, #T_7dc52_row14_col0, #T_7dc52_row14_col1, #T_7dc52_row14_col2, #T_7dc52_row14_col3, #T_7dc52_row14_col4, #T_7dc52_row14_col5, #T_7dc52_row14_col6, #T_7dc52_row14_col7 {\n",
              "  text-align: left;\n",
              "}\n",
              "#T_7dc52_row0_col1, #T_7dc52_row0_col3, #T_7dc52_row0_col4, #T_7dc52_row0_col5, #T_7dc52_row0_col6, #T_7dc52_row0_col7, #T_7dc52_row6_col2 {\n",
              "  text-align: left;\n",
              "  background-color: yellow;\n",
              "}\n",
              "#T_7dc52_row0_col8, #T_7dc52_row1_col8, #T_7dc52_row2_col8, #T_7dc52_row3_col8, #T_7dc52_row4_col8, #T_7dc52_row5_col8, #T_7dc52_row6_col8, #T_7dc52_row7_col8, #T_7dc52_row8_col8, #T_7dc52_row9_col8, #T_7dc52_row10_col8, #T_7dc52_row11_col8, #T_7dc52_row12_col8, #T_7dc52_row13_col8 {\n",
              "  text-align: left;\n",
              "  background-color: lightgrey;\n",
              "}\n",
              "#T_7dc52_row14_col8 {\n",
              "  text-align: left;\n",
              "  background-color: yellow;\n",
              "  background-color: lightgrey;\n",
              "}\n",
              "</style>\n",
              "<table id=\"T_7dc52\" class=\"dataframe\">\n",
              "  <thead>\n",
              "    <tr>\n",
              "      <th class=\"blank level0\" >&nbsp;</th>\n",
              "      <th id=\"T_7dc52_level0_col0\" class=\"col_heading level0 col0\" >Model</th>\n",
              "      <th id=\"T_7dc52_level0_col1\" class=\"col_heading level0 col1\" >Accuracy</th>\n",
              "      <th id=\"T_7dc52_level0_col2\" class=\"col_heading level0 col2\" >AUC</th>\n",
              "      <th id=\"T_7dc52_level0_col3\" class=\"col_heading level0 col3\" >Recall</th>\n",
              "      <th id=\"T_7dc52_level0_col4\" class=\"col_heading level0 col4\" >Prec.</th>\n",
              "      <th id=\"T_7dc52_level0_col5\" class=\"col_heading level0 col5\" >F1</th>\n",
              "      <th id=\"T_7dc52_level0_col6\" class=\"col_heading level0 col6\" >Kappa</th>\n",
              "      <th id=\"T_7dc52_level0_col7\" class=\"col_heading level0 col7\" >MCC</th>\n",
              "      <th id=\"T_7dc52_level0_col8\" class=\"col_heading level0 col8\" >TT (Sec)</th>\n",
              "    </tr>\n",
              "  </thead>\n",
              "  <tbody>\n",
              "    <tr>\n",
              "      <th id=\"T_7dc52_level0_row0\" class=\"row_heading level0 row0\" >knn</th>\n",
              "      <td id=\"T_7dc52_row0_col0\" class=\"data row0 col0\" >K Neighbors Classifier</td>\n",
              "      <td id=\"T_7dc52_row0_col1\" class=\"data row0 col1\" >0.9798</td>\n",
              "      <td id=\"T_7dc52_row0_col2\" class=\"data row0 col2\" >0.9909</td>\n",
              "      <td id=\"T_7dc52_row0_col3\" class=\"data row0 col3\" >0.9798</td>\n",
              "      <td id=\"T_7dc52_row0_col4\" class=\"data row0 col4\" >0.9811</td>\n",
              "      <td id=\"T_7dc52_row0_col5\" class=\"data row0 col5\" >0.9799</td>\n",
              "      <td id=\"T_7dc52_row0_col6\" class=\"data row0 col6\" >0.9563</td>\n",
              "      <td id=\"T_7dc52_row0_col7\" class=\"data row0 col7\" >0.9574</td>\n",
              "      <td id=\"T_7dc52_row0_col8\" class=\"data row0 col8\" >0.2570</td>\n",
              "    </tr>\n",
              "    <tr>\n",
              "      <th id=\"T_7dc52_level0_row1\" class=\"row_heading level0 row1\" >nb</th>\n",
              "      <td id=\"T_7dc52_row1_col0\" class=\"data row1 col0\" >Naive Bayes</td>\n",
              "      <td id=\"T_7dc52_row1_col1\" class=\"data row1 col1\" >0.9761</td>\n",
              "      <td id=\"T_7dc52_row1_col2\" class=\"data row1 col2\" >0.9899</td>\n",
              "      <td id=\"T_7dc52_row1_col3\" class=\"data row1 col3\" >0.9761</td>\n",
              "      <td id=\"T_7dc52_row1_col4\" class=\"data row1 col4\" >0.9778</td>\n",
              "      <td id=\"T_7dc52_row1_col5\" class=\"data row1 col5\" >0.9763</td>\n",
              "      <td id=\"T_7dc52_row1_col6\" class=\"data row1 col6\" >0.9486</td>\n",
              "      <td id=\"T_7dc52_row1_col7\" class=\"data row1 col7\" >0.9500</td>\n",
              "      <td id=\"T_7dc52_row1_col8\" class=\"data row1 col8\" >0.1440</td>\n",
              "    </tr>\n",
              "    <tr>\n",
              "      <th id=\"T_7dc52_level0_row2\" class=\"row_heading level0 row2\" >ridge</th>\n",
              "      <td id=\"T_7dc52_row2_col0\" class=\"data row2 col0\" >Ridge Classifier</td>\n",
              "      <td id=\"T_7dc52_row2_col1\" class=\"data row2 col1\" >0.9761</td>\n",
              "      <td id=\"T_7dc52_row2_col2\" class=\"data row2 col2\" >0.9910</td>\n",
              "      <td id=\"T_7dc52_row2_col3\" class=\"data row2 col3\" >0.9761</td>\n",
              "      <td id=\"T_7dc52_row2_col4\" class=\"data row2 col4\" >0.9774</td>\n",
              "      <td id=\"T_7dc52_row2_col5\" class=\"data row2 col5\" >0.9762</td>\n",
              "      <td id=\"T_7dc52_row2_col6\" class=\"data row2 col6\" >0.9481</td>\n",
              "      <td id=\"T_7dc52_row2_col7\" class=\"data row2 col7\" >0.9492</td>\n",
              "      <td id=\"T_7dc52_row2_col8\" class=\"data row2 col8\" >0.1040</td>\n",
              "    </tr>\n",
              "    <tr>\n",
              "      <th id=\"T_7dc52_level0_row3\" class=\"row_heading level0 row3\" >lda</th>\n",
              "      <td id=\"T_7dc52_row3_col0\" class=\"data row3 col0\" >Linear Discriminant Analysis</td>\n",
              "      <td id=\"T_7dc52_row3_col1\" class=\"data row3 col1\" >0.9761</td>\n",
              "      <td id=\"T_7dc52_row3_col2\" class=\"data row3 col2\" >0.9910</td>\n",
              "      <td id=\"T_7dc52_row3_col3\" class=\"data row3 col3\" >0.9761</td>\n",
              "      <td id=\"T_7dc52_row3_col4\" class=\"data row3 col4\" >0.9774</td>\n",
              "      <td id=\"T_7dc52_row3_col5\" class=\"data row3 col5\" >0.9762</td>\n",
              "      <td id=\"T_7dc52_row3_col6\" class=\"data row3 col6\" >0.9481</td>\n",
              "      <td id=\"T_7dc52_row3_col7\" class=\"data row3 col7\" >0.9492</td>\n",
              "      <td id=\"T_7dc52_row3_col8\" class=\"data row3 col8\" >0.1000</td>\n",
              "    </tr>\n",
              "    <tr>\n",
              "      <th id=\"T_7dc52_level0_row4\" class=\"row_heading level0 row4\" >et</th>\n",
              "      <td id=\"T_7dc52_row4_col0\" class=\"data row4 col0\" >Extra Trees Classifier</td>\n",
              "      <td id=\"T_7dc52_row4_col1\" class=\"data row4 col1\" >0.9761</td>\n",
              "      <td id=\"T_7dc52_row4_col2\" class=\"data row4 col2\" >0.9917</td>\n",
              "      <td id=\"T_7dc52_row4_col3\" class=\"data row4 col3\" >0.9761</td>\n",
              "      <td id=\"T_7dc52_row4_col4\" class=\"data row4 col4\" >0.9774</td>\n",
              "      <td id=\"T_7dc52_row4_col5\" class=\"data row4 col5\" >0.9762</td>\n",
              "      <td id=\"T_7dc52_row4_col6\" class=\"data row4 col6\" >0.9480</td>\n",
              "      <td id=\"T_7dc52_row4_col7\" class=\"data row4 col7\" >0.9491</td>\n",
              "      <td id=\"T_7dc52_row4_col8\" class=\"data row4 col8\" >0.4870</td>\n",
              "    </tr>\n",
              "    <tr>\n",
              "      <th id=\"T_7dc52_level0_row5\" class=\"row_heading level0 row5\" >lr</th>\n",
              "      <td id=\"T_7dc52_row5_col0\" class=\"data row5 col0\" >Logistic Regression</td>\n",
              "      <td id=\"T_7dc52_row5_col1\" class=\"data row5 col1\" >0.9743</td>\n",
              "      <td id=\"T_7dc52_row5_col2\" class=\"data row5 col2\" >0.9906</td>\n",
              "      <td id=\"T_7dc52_row5_col3\" class=\"data row5 col3\" >0.9743</td>\n",
              "      <td id=\"T_7dc52_row5_col4\" class=\"data row5 col4\" >0.9753</td>\n",
              "      <td id=\"T_7dc52_row5_col5\" class=\"data row5 col5\" >0.9744</td>\n",
              "      <td id=\"T_7dc52_row5_col6\" class=\"data row5 col6\" >0.9441</td>\n",
              "      <td id=\"T_7dc52_row5_col7\" class=\"data row5 col7\" >0.9450</td>\n",
              "      <td id=\"T_7dc52_row5_col8\" class=\"data row5 col8\" >0.1460</td>\n",
              "    </tr>\n",
              "    <tr>\n",
              "      <th id=\"T_7dc52_level0_row6\" class=\"row_heading level0 row6\" >qda</th>\n",
              "      <td id=\"T_7dc52_row6_col0\" class=\"data row6 col0\" >Quadratic Discriminant Analysis</td>\n",
              "      <td id=\"T_7dc52_row6_col1\" class=\"data row6 col1\" >0.9743</td>\n",
              "      <td id=\"T_7dc52_row6_col2\" class=\"data row6 col2\" >0.9921</td>\n",
              "      <td id=\"T_7dc52_row6_col3\" class=\"data row6 col3\" >0.9743</td>\n",
              "      <td id=\"T_7dc52_row6_col4\" class=\"data row6 col4\" >0.9763</td>\n",
              "      <td id=\"T_7dc52_row6_col5\" class=\"data row6 col5\" >0.9745</td>\n",
              "      <td id=\"T_7dc52_row6_col6\" class=\"data row6 col6\" >0.9448</td>\n",
              "      <td id=\"T_7dc52_row6_col7\" class=\"data row6 col7\" >0.9464</td>\n",
              "      <td id=\"T_7dc52_row6_col8\" class=\"data row6 col8\" >0.2070</td>\n",
              "    </tr>\n",
              "    <tr>\n",
              "      <th id=\"T_7dc52_level0_row7\" class=\"row_heading level0 row7\" >rf</th>\n",
              "      <td id=\"T_7dc52_row7_col0\" class=\"data row7 col0\" >Random Forest Classifier</td>\n",
              "      <td id=\"T_7dc52_row7_col1\" class=\"data row7 col1\" >0.9724</td>\n",
              "      <td id=\"T_7dc52_row7_col2\" class=\"data row7 col2\" >0.9881</td>\n",
              "      <td id=\"T_7dc52_row7_col3\" class=\"data row7 col3\" >0.9724</td>\n",
              "      <td id=\"T_7dc52_row7_col4\" class=\"data row7 col4\" >0.9734</td>\n",
              "      <td id=\"T_7dc52_row7_col5\" class=\"data row7 col5\" >0.9725</td>\n",
              "      <td id=\"T_7dc52_row7_col6\" class=\"data row7 col6\" >0.9399</td>\n",
              "      <td id=\"T_7dc52_row7_col7\" class=\"data row7 col7\" >0.9407</td>\n",
              "      <td id=\"T_7dc52_row7_col8\" class=\"data row7 col8\" >0.4620</td>\n",
              "    </tr>\n",
              "    <tr>\n",
              "      <th id=\"T_7dc52_level0_row8\" class=\"row_heading level0 row8\" >lightgbm</th>\n",
              "      <td id=\"T_7dc52_row8_col0\" class=\"data row8 col0\" >Light Gradient Boosting Machine</td>\n",
              "      <td id=\"T_7dc52_row8_col1\" class=\"data row8 col1\" >0.9705</td>\n",
              "      <td id=\"T_7dc52_row8_col2\" class=\"data row8 col2\" >0.9910</td>\n",
              "      <td id=\"T_7dc52_row8_col3\" class=\"data row8 col3\" >0.9705</td>\n",
              "      <td id=\"T_7dc52_row8_col4\" class=\"data row8 col4\" >0.9710</td>\n",
              "      <td id=\"T_7dc52_row8_col5\" class=\"data row8 col5\" >0.9706</td>\n",
              "      <td id=\"T_7dc52_row8_col6\" class=\"data row8 col6\" >0.9355</td>\n",
              "      <td id=\"T_7dc52_row8_col7\" class=\"data row8 col7\" >0.9359</td>\n",
              "      <td id=\"T_7dc52_row8_col8\" class=\"data row8 col8\" >0.3450</td>\n",
              "    </tr>\n",
              "    <tr>\n",
              "      <th id=\"T_7dc52_level0_row9\" class=\"row_heading level0 row9\" >svm</th>\n",
              "      <td id=\"T_7dc52_row9_col0\" class=\"data row9 col0\" >SVM - Linear Kernel</td>\n",
              "      <td id=\"T_7dc52_row9_col1\" class=\"data row9 col1\" >0.9669</td>\n",
              "      <td id=\"T_7dc52_row9_col2\" class=\"data row9 col2\" >0.9900</td>\n",
              "      <td id=\"T_7dc52_row9_col3\" class=\"data row9 col3\" >0.9669</td>\n",
              "      <td id=\"T_7dc52_row9_col4\" class=\"data row9 col4\" >0.9678</td>\n",
              "      <td id=\"T_7dc52_row9_col5\" class=\"data row9 col5\" >0.9669</td>\n",
              "      <td id=\"T_7dc52_row9_col6\" class=\"data row9 col6\" >0.9275</td>\n",
              "      <td id=\"T_7dc52_row9_col7\" class=\"data row9 col7\" >0.9283</td>\n",
              "      <td id=\"T_7dc52_row9_col8\" class=\"data row9 col8\" >0.1100</td>\n",
              "    </tr>\n",
              "    <tr>\n",
              "      <th id=\"T_7dc52_level0_row10\" class=\"row_heading level0 row10\" >gbc</th>\n",
              "      <td id=\"T_7dc52_row10_col0\" class=\"data row10 col0\" >Gradient Boosting Classifier</td>\n",
              "      <td id=\"T_7dc52_row10_col1\" class=\"data row10 col1\" >0.9669</td>\n",
              "      <td id=\"T_7dc52_row10_col2\" class=\"data row10 col2\" >0.9880</td>\n",
              "      <td id=\"T_7dc52_row10_col3\" class=\"data row10 col3\" >0.9669</td>\n",
              "      <td id=\"T_7dc52_row10_col4\" class=\"data row10 col4\" >0.9675</td>\n",
              "      <td id=\"T_7dc52_row10_col5\" class=\"data row10 col5\" >0.9667</td>\n",
              "      <td id=\"T_7dc52_row10_col6\" class=\"data row10 col6\" >0.9267</td>\n",
              "      <td id=\"T_7dc52_row10_col7\" class=\"data row10 col7\" >0.9276</td>\n",
              "      <td id=\"T_7dc52_row10_col8\" class=\"data row10 col8\" >0.2770</td>\n",
              "    </tr>\n",
              "    <tr>\n",
              "      <th id=\"T_7dc52_level0_row11\" class=\"row_heading level0 row11\" >xgboost</th>\n",
              "      <td id=\"T_7dc52_row11_col0\" class=\"data row11 col0\" >Extreme Gradient Boosting</td>\n",
              "      <td id=\"T_7dc52_row11_col1\" class=\"data row11 col1\" >0.9669</td>\n",
              "      <td id=\"T_7dc52_row11_col2\" class=\"data row11 col2\" >0.9883</td>\n",
              "      <td id=\"T_7dc52_row11_col3\" class=\"data row11 col3\" >0.9669</td>\n",
              "      <td id=\"T_7dc52_row11_col4\" class=\"data row11 col4\" >0.9675</td>\n",
              "      <td id=\"T_7dc52_row11_col5\" class=\"data row11 col5\" >0.9669</td>\n",
              "      <td id=\"T_7dc52_row11_col6\" class=\"data row11 col6\" >0.9272</td>\n",
              "      <td id=\"T_7dc52_row11_col7\" class=\"data row11 col7\" >0.9278</td>\n",
              "      <td id=\"T_7dc52_row11_col8\" class=\"data row11 col8\" >0.1700</td>\n",
              "    </tr>\n",
              "    <tr>\n",
              "      <th id=\"T_7dc52_level0_row12\" class=\"row_heading level0 row12\" >ada</th>\n",
              "      <td id=\"T_7dc52_row12_col0\" class=\"data row12 col0\" >Ada Boost Classifier</td>\n",
              "      <td id=\"T_7dc52_row12_col1\" class=\"data row12 col1\" >0.9467</td>\n",
              "      <td id=\"T_7dc52_row12_col2\" class=\"data row12 col2\" >0.9891</td>\n",
              "      <td id=\"T_7dc52_row12_col3\" class=\"data row12 col3\" >0.9467</td>\n",
              "      <td id=\"T_7dc52_row12_col4\" class=\"data row12 col4\" >0.9478</td>\n",
              "      <td id=\"T_7dc52_row12_col5\" class=\"data row12 col5\" >0.9464</td>\n",
              "      <td id=\"T_7dc52_row12_col6\" class=\"data row12 col6\" >0.8817</td>\n",
              "      <td id=\"T_7dc52_row12_col7\" class=\"data row12 col7\" >0.8835</td>\n",
              "      <td id=\"T_7dc52_row12_col8\" class=\"data row12 col8\" >0.2880</td>\n",
              "    </tr>\n",
              "    <tr>\n",
              "      <th id=\"T_7dc52_level0_row13\" class=\"row_heading level0 row13\" >dt</th>\n",
              "      <td id=\"T_7dc52_row13_col0\" class=\"data row13 col0\" >Decision Tree Classifier</td>\n",
              "      <td id=\"T_7dc52_row13_col1\" class=\"data row13 col1\" >0.9302</td>\n",
              "      <td id=\"T_7dc52_row13_col2\" class=\"data row13 col2\" >0.9197</td>\n",
              "      <td id=\"T_7dc52_row13_col3\" class=\"data row13 col3\" >0.9302</td>\n",
              "      <td id=\"T_7dc52_row13_col4\" class=\"data row13 col4\" >0.9302</td>\n",
              "      <td id=\"T_7dc52_row13_col5\" class=\"data row13 col5\" >0.9297</td>\n",
              "      <td id=\"T_7dc52_row13_col6\" class=\"data row13 col6\" >0.8448</td>\n",
              "      <td id=\"T_7dc52_row13_col7\" class=\"data row13 col7\" >0.8458</td>\n",
              "      <td id=\"T_7dc52_row13_col8\" class=\"data row13 col8\" >0.0960</td>\n",
              "    </tr>\n",
              "    <tr>\n",
              "      <th id=\"T_7dc52_level0_row14\" class=\"row_heading level0 row14\" >dummy</th>\n",
              "      <td id=\"T_7dc52_row14_col0\" class=\"data row14 col0\" >Dummy Classifier</td>\n",
              "      <td id=\"T_7dc52_row14_col1\" class=\"data row14 col1\" >0.6502</td>\n",
              "      <td id=\"T_7dc52_row14_col2\" class=\"data row14 col2\" >0.5000</td>\n",
              "      <td id=\"T_7dc52_row14_col3\" class=\"data row14 col3\" >0.6502</td>\n",
              "      <td id=\"T_7dc52_row14_col4\" class=\"data row14 col4\" >0.4227</td>\n",
              "      <td id=\"T_7dc52_row14_col5\" class=\"data row14 col5\" >0.5123</td>\n",
              "      <td id=\"T_7dc52_row14_col6\" class=\"data row14 col6\" >0.0000</td>\n",
              "      <td id=\"T_7dc52_row14_col7\" class=\"data row14 col7\" >0.0000</td>\n",
              "      <td id=\"T_7dc52_row14_col8\" class=\"data row14 col8\" >0.0550</td>\n",
              "    </tr>\n",
              "  </tbody>\n",
              "</table>\n"
            ]
          },
          "metadata": {}
        },
        {
          "output_type": "display_data",
          "data": {
            "text/plain": [
              "Processing:   0%|          | 0/65 [00:00<?, ?it/s]"
            ],
            "application/vnd.jupyter.widget-view+json": {
              "version_major": 2,
              "version_minor": 0,
              "model_id": "6b0cc4e86c67458ca47c2e9ec1b01a5d"
            }
          },
          "metadata": {
            "application/vnd.jupyter.widget-view+json": {
              "colab": {
                "custom_widget_manager": {
                  "url": "https://ssl.gstatic.com/colaboratory-static/widgets/colab-cdn-widget-manager/2b70e893a8ba7c0f/manager.min.js"
                }
              }
            }
          }
        },
        {
          "output_type": "display_data",
          "data": {
            "text/plain": [
              "<IPython.core.display.HTML object>"
            ],
            "text/html": []
          },
          "metadata": {}
        }
      ]
    },
    {
      "cell_type": "code",
      "source": [
        "ridge=create_model(\"ridge\")"
      ],
      "metadata": {
        "colab": {
          "base_uri": "https://localhost:8080/",
          "height": 457,
          "referenced_widgets": [
            "1b259ba70a1f4bd59e3f0d046360e49c",
            "9a7d8164391b4c4c8901916510541ac2",
            "ba383778077e4c35a31795a5fb0a8478",
            "f687ae146660451ba8017283897b628a",
            "1a7fa3dcc46346a9a3aaa97d54678038",
            "5dc65139ef124cd3816873d59e4ad147",
            "51716fce3e8c47b0a1562d0f6fd458ef",
            "aa4d11801e294c3f8342b0b23427fa18",
            "3f153d7994a34015be3eb66d72e2f49e",
            "4026dd32aa434335bffb7f95aeb77668",
            "069d2a9fa220481088753f7f0580d3e4"
          ]
        },
        "id": "D8eO8Vayum5o",
        "outputId": "597ce1b5-b242-4720-91e6-0d947a4d7201"
      },
      "execution_count": 28,
      "outputs": [
        {
          "output_type": "display_data",
          "data": {
            "text/plain": [
              "<IPython.core.display.HTML object>"
            ],
            "text/html": []
          },
          "metadata": {}
        },
        {
          "output_type": "display_data",
          "data": {
            "text/plain": [
              "<pandas.io.formats.style.Styler at 0x7ddb90405e90>"
            ],
            "text/html": [
              "<style type=\"text/css\">\n",
              "#T_bc775_row10_col0, #T_bc775_row10_col1, #T_bc775_row10_col2, #T_bc775_row10_col3, #T_bc775_row10_col4, #T_bc775_row10_col5, #T_bc775_row10_col6 {\n",
              "  background: yellow;\n",
              "}\n",
              "</style>\n",
              "<table id=\"T_bc775\" class=\"dataframe\">\n",
              "  <thead>\n",
              "    <tr>\n",
              "      <th class=\"blank level0\" >&nbsp;</th>\n",
              "      <th id=\"T_bc775_level0_col0\" class=\"col_heading level0 col0\" >Accuracy</th>\n",
              "      <th id=\"T_bc775_level0_col1\" class=\"col_heading level0 col1\" >AUC</th>\n",
              "      <th id=\"T_bc775_level0_col2\" class=\"col_heading level0 col2\" >Recall</th>\n",
              "      <th id=\"T_bc775_level0_col3\" class=\"col_heading level0 col3\" >Prec.</th>\n",
              "      <th id=\"T_bc775_level0_col4\" class=\"col_heading level0 col4\" >F1</th>\n",
              "      <th id=\"T_bc775_level0_col5\" class=\"col_heading level0 col5\" >Kappa</th>\n",
              "      <th id=\"T_bc775_level0_col6\" class=\"col_heading level0 col6\" >MCC</th>\n",
              "    </tr>\n",
              "    <tr>\n",
              "      <th class=\"index_name level0\" >Fold</th>\n",
              "      <th class=\"blank col0\" >&nbsp;</th>\n",
              "      <th class=\"blank col1\" >&nbsp;</th>\n",
              "      <th class=\"blank col2\" >&nbsp;</th>\n",
              "      <th class=\"blank col3\" >&nbsp;</th>\n",
              "      <th class=\"blank col4\" >&nbsp;</th>\n",
              "      <th class=\"blank col5\" >&nbsp;</th>\n",
              "      <th class=\"blank col6\" >&nbsp;</th>\n",
              "    </tr>\n",
              "  </thead>\n",
              "  <tbody>\n",
              "    <tr>\n",
              "      <th id=\"T_bc775_level0_row0\" class=\"row_heading level0 row0\" >0</th>\n",
              "      <td id=\"T_bc775_row0_col0\" class=\"data row0 col0\" >0.9455</td>\n",
              "      <td id=\"T_bc775_row0_col1\" class=\"data row0 col1\" >0.9956</td>\n",
              "      <td id=\"T_bc775_row0_col2\" class=\"data row0 col2\" >0.9455</td>\n",
              "      <td id=\"T_bc775_row0_col3\" class=\"data row0 col3\" >0.9529</td>\n",
              "      <td id=\"T_bc775_row0_col4\" class=\"data row0 col4\" >0.9463</td>\n",
              "      <td id=\"T_bc775_row0_col5\" class=\"data row0 col5\" >0.8837</td>\n",
              "      <td id=\"T_bc775_row0_col6\" class=\"data row0 col6\" >0.8898</td>\n",
              "    </tr>\n",
              "    <tr>\n",
              "      <th id=\"T_bc775_level0_row1\" class=\"row_heading level0 row1\" >1</th>\n",
              "      <td id=\"T_bc775_row1_col0\" class=\"data row1 col0\" >0.9636</td>\n",
              "      <td id=\"T_bc775_row1_col1\" class=\"data row1 col1\" >0.9956</td>\n",
              "      <td id=\"T_bc775_row1_col2\" class=\"data row1 col2\" >0.9636</td>\n",
              "      <td id=\"T_bc775_row1_col3\" class=\"data row1 col3\" >0.9636</td>\n",
              "      <td id=\"T_bc775_row1_col4\" class=\"data row1 col4\" >0.9636</td>\n",
              "      <td id=\"T_bc775_row1_col5\" class=\"data row1 col5\" >0.9196</td>\n",
              "      <td id=\"T_bc775_row1_col6\" class=\"data row1 col6\" >0.9196</td>\n",
              "    </tr>\n",
              "    <tr>\n",
              "      <th id=\"T_bc775_level0_row2\" class=\"row_heading level0 row2\" >2</th>\n",
              "      <td id=\"T_bc775_row2_col0\" class=\"data row2 col0\" >0.9636</td>\n",
              "      <td id=\"T_bc775_row2_col1\" class=\"data row2 col1\" >0.9942</td>\n",
              "      <td id=\"T_bc775_row2_col2\" class=\"data row2 col2\" >0.9636</td>\n",
              "      <td id=\"T_bc775_row2_col3\" class=\"data row2 col3\" >0.9636</td>\n",
              "      <td id=\"T_bc775_row2_col4\" class=\"data row2 col4\" >0.9636</td>\n",
              "      <td id=\"T_bc775_row2_col5\" class=\"data row2 col5\" >0.9196</td>\n",
              "      <td id=\"T_bc775_row2_col6\" class=\"data row2 col6\" >0.9196</td>\n",
              "    </tr>\n",
              "    <tr>\n",
              "      <th id=\"T_bc775_level0_row3\" class=\"row_heading level0 row3\" >3</th>\n",
              "      <td id=\"T_bc775_row3_col0\" class=\"data row3 col0\" >1.0000</td>\n",
              "      <td id=\"T_bc775_row3_col1\" class=\"data row3 col1\" >1.0000</td>\n",
              "      <td id=\"T_bc775_row3_col2\" class=\"data row3 col2\" >1.0000</td>\n",
              "      <td id=\"T_bc775_row3_col3\" class=\"data row3 col3\" >1.0000</td>\n",
              "      <td id=\"T_bc775_row3_col4\" class=\"data row3 col4\" >1.0000</td>\n",
              "      <td id=\"T_bc775_row3_col5\" class=\"data row3 col5\" >1.0000</td>\n",
              "      <td id=\"T_bc775_row3_col6\" class=\"data row3 col6\" >1.0000</td>\n",
              "    </tr>\n",
              "    <tr>\n",
              "      <th id=\"T_bc775_level0_row4\" class=\"row_heading level0 row4\" >4</th>\n",
              "      <td id=\"T_bc775_row4_col0\" class=\"data row4 col0\" >0.9636</td>\n",
              "      <td id=\"T_bc775_row4_col1\" class=\"data row4 col1\" >0.9693</td>\n",
              "      <td id=\"T_bc775_row4_col2\" class=\"data row4 col2\" >0.9636</td>\n",
              "      <td id=\"T_bc775_row4_col3\" class=\"data row4 col3\" >0.9671</td>\n",
              "      <td id=\"T_bc775_row4_col4\" class=\"data row4 col4\" >0.9640</td>\n",
              "      <td id=\"T_bc775_row4_col5\" class=\"data row4 col5\" >0.9215</td>\n",
              "      <td id=\"T_bc775_row4_col6\" class=\"data row4 col6\" >0.9244</td>\n",
              "    </tr>\n",
              "    <tr>\n",
              "      <th id=\"T_bc775_level0_row5\" class=\"row_heading level0 row5\" >5</th>\n",
              "      <td id=\"T_bc775_row5_col0\" class=\"data row5 col0\" >1.0000</td>\n",
              "      <td id=\"T_bc775_row5_col1\" class=\"data row5 col1\" >1.0000</td>\n",
              "      <td id=\"T_bc775_row5_col2\" class=\"data row5 col2\" >1.0000</td>\n",
              "      <td id=\"T_bc775_row5_col3\" class=\"data row5 col3\" >1.0000</td>\n",
              "      <td id=\"T_bc775_row5_col4\" class=\"data row5 col4\" >1.0000</td>\n",
              "      <td id=\"T_bc775_row5_col5\" class=\"data row5 col5\" >1.0000</td>\n",
              "      <td id=\"T_bc775_row5_col6\" class=\"data row5 col6\" >1.0000</td>\n",
              "    </tr>\n",
              "    <tr>\n",
              "      <th id=\"T_bc775_level0_row6\" class=\"row_heading level0 row6\" >6</th>\n",
              "      <td id=\"T_bc775_row6_col0\" class=\"data row6 col0\" >0.9815</td>\n",
              "      <td id=\"T_bc775_row6_col1\" class=\"data row6 col1\" >1.0000</td>\n",
              "      <td id=\"T_bc775_row6_col2\" class=\"data row6 col2\" >0.9815</td>\n",
              "      <td id=\"T_bc775_row6_col3\" class=\"data row6 col3\" >0.9824</td>\n",
              "      <td id=\"T_bc775_row6_col4\" class=\"data row6 col4\" >0.9816</td>\n",
              "      <td id=\"T_bc775_row6_col5\" class=\"data row6 col5\" >0.9599</td>\n",
              "      <td id=\"T_bc775_row6_col6\" class=\"data row6 col6\" >0.9607</td>\n",
              "    </tr>\n",
              "    <tr>\n",
              "      <th id=\"T_bc775_level0_row7\" class=\"row_heading level0 row7\" >7</th>\n",
              "      <td id=\"T_bc775_row7_col0\" class=\"data row7 col0\" >0.9444</td>\n",
              "      <td id=\"T_bc775_row7_col1\" class=\"data row7 col1\" >0.9925</td>\n",
              "      <td id=\"T_bc775_row7_col2\" class=\"data row7 col2\" >0.9444</td>\n",
              "      <td id=\"T_bc775_row7_col3\" class=\"data row7 col3\" >0.9458</td>\n",
              "      <td id=\"T_bc775_row7_col4\" class=\"data row7 col4\" >0.9448</td>\n",
              "      <td id=\"T_bc775_row7_col5\" class=\"data row7 col5\" >0.8796</td>\n",
              "      <td id=\"T_bc775_row7_col6\" class=\"data row7 col6\" >0.8804</td>\n",
              "    </tr>\n",
              "    <tr>\n",
              "      <th id=\"T_bc775_level0_row8\" class=\"row_heading level0 row8\" >8</th>\n",
              "      <td id=\"T_bc775_row8_col0\" class=\"data row8 col0\" >0.9444</td>\n",
              "      <td id=\"T_bc775_row8_col1\" class=\"data row8 col1\" >0.9699</td>\n",
              "      <td id=\"T_bc775_row8_col2\" class=\"data row8 col2\" >0.9444</td>\n",
              "      <td id=\"T_bc775_row8_col3\" class=\"data row8 col3\" >0.9520</td>\n",
              "      <td id=\"T_bc775_row8_col4\" class=\"data row8 col4\" >0.9452</td>\n",
              "      <td id=\"T_bc775_row8_col5\" class=\"data row8 col5\" >0.8824</td>\n",
              "      <td id=\"T_bc775_row8_col6\" class=\"data row8 col6\" >0.8886</td>\n",
              "    </tr>\n",
              "    <tr>\n",
              "      <th id=\"T_bc775_level0_row9\" class=\"row_heading level0 row9\" >9</th>\n",
              "      <td id=\"T_bc775_row9_col0\" class=\"data row9 col0\" >0.9815</td>\n",
              "      <td id=\"T_bc775_row9_col1\" class=\"data row9 col1\" >1.0000</td>\n",
              "      <td id=\"T_bc775_row9_col2\" class=\"data row9 col2\" >0.9815</td>\n",
              "      <td id=\"T_bc775_row9_col3\" class=\"data row9 col3\" >0.9824</td>\n",
              "      <td id=\"T_bc775_row9_col4\" class=\"data row9 col4\" >0.9816</td>\n",
              "      <td id=\"T_bc775_row9_col5\" class=\"data row9 col5\" >0.9599</td>\n",
              "      <td id=\"T_bc775_row9_col6\" class=\"data row9 col6\" >0.9607</td>\n",
              "    </tr>\n",
              "    <tr>\n",
              "      <th id=\"T_bc775_level0_row10\" class=\"row_heading level0 row10\" >Mean</th>\n",
              "      <td id=\"T_bc775_row10_col0\" class=\"data row10 col0\" >0.9688</td>\n",
              "      <td id=\"T_bc775_row10_col1\" class=\"data row10 col1\" >0.9917</td>\n",
              "      <td id=\"T_bc775_row10_col2\" class=\"data row10 col2\" >0.9688</td>\n",
              "      <td id=\"T_bc775_row10_col3\" class=\"data row10 col3\" >0.9710</td>\n",
              "      <td id=\"T_bc775_row10_col4\" class=\"data row10 col4\" >0.9691</td>\n",
              "      <td id=\"T_bc775_row10_col5\" class=\"data row10 col5\" >0.9326</td>\n",
              "      <td id=\"T_bc775_row10_col6\" class=\"data row10 col6\" >0.9344</td>\n",
              "    </tr>\n",
              "    <tr>\n",
              "      <th id=\"T_bc775_level0_row11\" class=\"row_heading level0 row11\" >Std</th>\n",
              "      <td id=\"T_bc775_row11_col0\" class=\"data row11 col0\" >0.0202</td>\n",
              "      <td id=\"T_bc775_row11_col1\" class=\"data row11 col1\" >0.0114</td>\n",
              "      <td id=\"T_bc775_row11_col2\" class=\"data row11 col2\" >0.0202</td>\n",
              "      <td id=\"T_bc775_row11_col3\" class=\"data row11 col3\" >0.0184</td>\n",
              "      <td id=\"T_bc775_row11_col4\" class=\"data row11 col4\" >0.0200</td>\n",
              "      <td id=\"T_bc775_row11_col5\" class=\"data row11 col5\" >0.0433</td>\n",
              "      <td id=\"T_bc775_row11_col6\" class=\"data row11 col6\" >0.0419</td>\n",
              "    </tr>\n",
              "  </tbody>\n",
              "</table>\n"
            ]
          },
          "metadata": {}
        },
        {
          "output_type": "display_data",
          "data": {
            "text/plain": [
              "Processing:   0%|          | 0/4 [00:00<?, ?it/s]"
            ],
            "application/vnd.jupyter.widget-view+json": {
              "version_major": 2,
              "version_minor": 0,
              "model_id": "1b259ba70a1f4bd59e3f0d046360e49c"
            }
          },
          "metadata": {
            "application/vnd.jupyter.widget-view+json": {
              "colab": {
                "custom_widget_manager": {
                  "url": "https://ssl.gstatic.com/colaboratory-static/widgets/colab-cdn-widget-manager/2b70e893a8ba7c0f/manager.min.js"
                }
              }
            }
          }
        },
        {
          "output_type": "display_data",
          "data": {
            "text/plain": [
              "<IPython.core.display.HTML object>"
            ],
            "text/html": []
          },
          "metadata": {}
        }
      ]
    },
    {
      "cell_type": "code",
      "source": [
        "evaluate_model(ridge)"
      ],
      "metadata": {
        "colab": {
          "base_uri": "https://localhost:8080/",
          "height": 1000,
          "referenced_widgets": [
            "f21e72e43c774bd492d2c69681e06dbb",
            "47c792413f664d9a810c103465623f1a",
            "29d40e50d6934f7fb7622671d9bdb643",
            "8ddaa30e434a4f5885187d83c9941a48",
            "d326bf2ecaf749fca2d90277c6bff6ec",
            "51329bb51faf4742850320fee9eed1c4",
            "a8c60ab50059435c9504564363877fd4"
          ]
        },
        "id": "MbLSb14pu3_8",
        "outputId": "622683f9-f806-401f-bcf4-2cf90836ec69"
      },
      "execution_count": 29,
      "outputs": [
        {
          "output_type": "display_data",
          "data": {
            "text/plain": [
              "interactive(children=(ToggleButtons(description='Plot Type:', icons=('',), options=(('Pipeline Plot', 'pipelin…"
            ],
            "application/vnd.jupyter.widget-view+json": {
              "version_major": 2,
              "version_minor": 0,
              "model_id": "f21e72e43c774bd492d2c69681e06dbb"
            }
          },
          "metadata": {
            "application/vnd.jupyter.widget-view+json": {
              "colab": {
                "custom_widget_manager": {
                  "url": "https://ssl.gstatic.com/colaboratory-static/widgets/colab-cdn-widget-manager/2b70e893a8ba7c0f/manager.min.js"
                }
              }
            }
          }
        },
        {
          "output_type": "display_data",
          "data": {
            "text/plain": [
              "<Figure size 800x550 with 1 Axes>"
            ],
            "image/png": "[encoded data removed]"
          },
          "metadata": {}
        }
      ]
    },
    {
      "cell_type": "code",
      "source": [
        "save_model(ridge, 'ridge_classifier')"
      ],
      "metadata": {
        "colab": {
          "base_uri": "https://localhost:8080/"
        },
        "id": "IuIUBb-bwB4B",
        "outputId": "b43d5783-d7df-4601-aa2f-78bb4014c272"
      },
      "execution_count": 35,
      "outputs": [
        {
          "output_type": "stream",
          "name": "stdout",
          "text": [
            "Transformation Pipeline and Model Successfully Saved\n"
          ]
        },
        {
          "output_type": "execute_result",
          "data": {
            "text/plain": [
              "(Pipeline(memory=Memory(location=None),\n",
              "          steps=[('label_encoding',\n",
              "                  TransformerWrapperWithInverse(exclude=None, include=None,\n",
              "                                                transformer=LabelEncoder())),\n",
              "                 ('numerical_imputer',\n",
              "                  TransformerWrapper(exclude=None,\n",
              "                                     include=['Clump Thickness',\n",
              "                                              'Uniformity of Cell Size',\n",
              "                                              'Uniformity of Cell Shape',\n",
              "                                              'Marginal Adhesion',\n",
              "                                              'Single Epithelial Cell Size',\n",
              "                                              'Bare Nuclei', 'Bland Chromatin',...\n",
              "                                     transformer=StandardScaler(copy=True,\n",
              "                                                                with_mean=True,\n",
              "                                                                with_std=True))),\n",
              "                 ('clean_column_names',\n",
              "                  TransformerWrapper(exclude=None, include=None,\n",
              "                                     transformer=CleanColumnNames(match='[\\\\]\\\\[\\\\,\\\\{\\\\}\\\\\"\\\\:]+'))),\n",
              "                 ('trained_model',\n",
              "                  RidgeClassifier(alpha=1.0, class_weight=None, copy_X=True,\n",
              "                                  fit_intercept=True, max_iter=None,\n",
              "                                  positive=False, random_state=5610,\n",
              "                                  solver='auto', tol=0.0001))],\n",
              "          verbose=False),\n",
              " 'ridge_classifier.pkl')"
            ]
          },
          "metadata": {},
          "execution_count": 35
        }
      ]
    },
    {
      "cell_type": "code",
      "source": [
        "from pycaret.classification import load_model"
      ],
      "metadata": {
        "id": "dbbeJUQMRKG8"
      },
      "execution_count": 41,
      "outputs": []
    },
    {
      "cell_type": "code",
      "source": [
        "loaded_model=load_model(\"/content/ridge_classifier\",)"
      ],
      "metadata": {
        "colab": {
          "base_uri": "https://localhost:8080/"
        },
        "id": "BPGKIolqNPiE",
        "outputId": "e0767995-db70-48b4-807c-086730c97329"
      },
      "execution_count": 49,
      "outputs": [
        {
          "output_type": "stream",
          "name": "stdout",
          "text": [
            "Transformation Pipeline and Model Successfully Loaded\n"
          ]
        }
      ]
    }
  ]
}