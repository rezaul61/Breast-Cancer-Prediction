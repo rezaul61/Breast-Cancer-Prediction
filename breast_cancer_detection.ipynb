{
  "nbformat": 4,
  "nbformat_minor": 0,
  "metadata": {
    "colab": {
      "provenance": [],
      "authorship_tag": "ABX9TyMSPvYyHpOn9Tt1tO5pYUcX",
      "include_colab_link": true
    },
    "kernelspec": {
      "name": "python3",
      "display_name": "Python 3"
    },
    "language_info": {
      "name": "python"
    },
    "widgets": {
      "application/vnd.jupyter.widget-state+json": {
        "6b0cc4e86c67458ca47c2e9ec1b01a5d": {
          "model_module": "@jupyter-widgets/controls",
          "model_name": "HBoxModel",
          "model_module_version": "1.5.0",
          "state": {
            "_dom_classes": [],
            "_model_module": "@jupyter-widgets/controls",
            "_model_module_version": "1.5.0",
            "_model_name": "HBoxModel",
            "_view_count": null,
            "_view_module": "@jupyter-widgets/controls",
            "_view_module_version": "1.5.0",
            "_view_name": "HBoxView",
            "box_style": "",
            "children": [
              "IPY_MODEL_40bee1ec61b644a592d06934d56872ec",
              "IPY_MODEL_6374ed808b7c4843b45a125c727c734f",
              "IPY_MODEL_941b3076e80846e582bfe6580b78a6de"
            ],
            "layout": "IPY_MODEL_f10027a3dcb842fb858e5a11ee82791c"
          }
        },
        "40bee1ec61b644a592d06934d56872ec": {
          "model_module": "@jupyter-widgets/controls",
          "model_name": "HTMLModel",
          "model_module_version": "1.5.0",
          "state": {
            "_dom_classes": [],
            "_model_module": "@jupyter-widgets/controls",
            "_model_module_version": "1.5.0",
            "_model_name": "HTMLModel",
            "_view_count": null,
            "_view_module": "@jupyter-widgets/controls",
            "_view_module_version": "1.5.0",
            "_view_name": "HTMLView",
            "description": "",
            "description_tooltip": null,
            "layout": "IPY_MODEL_6f81bf5993a4483a9d650f392818286b",
            "placeholder": "​",
            "style": "IPY_MODEL_f8400b5605c44a239f27b476abbe32c8",
            "value": "Processing: 100%"
          }
        },
        "6374ed808b7c4843b45a125c727c734f": {
          "model_module": "@jupyter-widgets/controls",
          "model_name": "FloatProgressModel",
          "model_module_version": "1.5.0",
          "state": {
            "_dom_classes": [],
            "_model_module": "@jupyter-widgets/controls",
            "_model_module_version": "1.5.0",
            "_model_name": "FloatProgressModel",
            "_view_count": null,
            "_view_module": "@jupyter-widgets/controls",
            "_view_module_version": "1.5.0",
            "_view_name": "ProgressView",
            "bar_style": "",
            "description": "",
            "description_tooltip": null,
            "layout": "IPY_MODEL_3f399bb56a994ee4b630cf2f99c22a5b",
            "max": 65,
            "min": 0,
            "orientation": "horizontal",
            "style": "IPY_MODEL_74ffc18fe42d42e7a0114e0bd99ce058",
            "value": 65
          }
        },
        "941b3076e80846e582bfe6580b78a6de": {
          "model_module": "@jupyter-widgets/controls",
          "model_name": "HTMLModel",
          "model_module_version": "1.5.0",
          "state": {
            "_dom_classes": [],
            "_model_module": "@jupyter-widgets/controls",
            "_model_module_version": "1.5.0",
            "_model_name": "HTMLModel",
            "_view_count": null,
            "_view_module": "@jupyter-widgets/controls",
            "_view_module_version": "1.5.0",
            "_view_name": "HTMLView",
            "description": "",
            "description_tooltip": null,
            "layout": "IPY_MODEL_f692e4099a64479ebf70f0accc8127f7",
            "placeholder": "​",
            "style": "IPY_MODEL_67121aa46774441d97db713afae02607",
            "value": " 65/65 [00:41&lt;00:00,  2.70it/s]"
          }
        },
        "f10027a3dcb842fb858e5a11ee82791c": {
          "model_module": "@jupyter-widgets/base",
          "model_name": "LayoutModel",
          "model_module_version": "1.2.0",
          "state": {
            "_model_module": "@jupyter-widgets/base",
            "_model_module_version": "1.2.0",
            "_model_name": "LayoutModel",
            "_view_count": null,
            "_view_module": "@jupyter-widgets/base",
            "_view_module_version": "1.2.0",
            "_view_name": "LayoutView",
            "align_content": null,
            "align_items": null,
            "align_self": null,
            "border": null,
            "bottom": null,
            "display": null,
            "flex": null,
            "flex_flow": null,
            "grid_area": null,
            "grid_auto_columns": null,
            "grid_auto_flow": null,
            "grid_auto_rows": null,
            "grid_column": null,
            "grid_gap": null,
            "grid_row": null,
            "grid_template_areas": null,
            "grid_template_columns": null,
            "grid_template_rows": null,
            "height": null,
            "justify_content": null,
            "justify_items": null,
            "left": null,
            "margin": null,
            "max_height": null,
            "max_width": null,
            "min_height": null,
            "min_width": null,
            "object_fit": null,
            "object_position": null,
            "order": null,
            "overflow": null,
            "overflow_x": null,
            "overflow_y": null,
            "padding": null,
            "right": null,
            "top": null,
            "visibility": "hidden",
            "width": null
          }
        },
        "6f81bf5993a4483a9d650f392818286b": {
          "model_module": "@jupyter-widgets/base",
          "model_name": "LayoutModel",
          "model_module_version": "1.2.0",
          "state": {
            "_model_module": "@jupyter-widgets/base",
            "_model_module_version": "1.2.0",
            "_model_name": "LayoutModel",
            "_view_count": null,
            "_view_module": "@jupyter-widgets/base",
            "_view_module_version": "1.2.0",
            "_view_name": "LayoutView",
            "align_content": null,
            "align_items": null,
            "align_self": null,
            "border": null,
            "bottom": null,
            "display": null,
            "flex": null,
            "flex_flow": null,
            "grid_area": null,
            "grid_auto_columns": null,
            "grid_auto_flow": null,
            "grid_auto_rows": null,
            "grid_column": null,
            "grid_gap": null,
            "grid_row": null,
            "grid_template_areas": null,
            "grid_template_columns": null,
            "grid_template_rows": null,
            "height": null,
            "justify_content": null,
            "justify_items": null,
            "left": null,
            "margin": null,
            "max_height": null,
            "max_width": null,
            "min_height": null,
            "min_width": null,
            "object_fit": null,
            "object_position": null,
            "order": null,
            "overflow": null,
            "overflow_x": null,
            "overflow_y": null,
            "padding": null,
            "right": null,
            "top": null,
            "visibility": null,
            "width": null
          }
        },
        "f8400b5605c44a239f27b476abbe32c8": {
          "model_module": "@jupyter-widgets/controls",
          "model_name": "DescriptionStyleModel",
          "model_module_version": "1.5.0",
          "state": {
            "_model_module": "@jupyter-widgets/controls",
            "_model_module_version": "1.5.0",
            "_model_name": "DescriptionStyleModel",
            "_view_count": null,
            "_view_module": "@jupyter-widgets/base",
            "_view_module_version": "1.2.0",
            "_view_name": "StyleView",
            "description_width": ""
          }
        },
        "3f399bb56a994ee4b630cf2f99c22a5b": {
          "model_module": "@jupyter-widgets/base",
          "model_name": "LayoutModel",
          "model_module_version": "1.2.0",
          "state": {
            "_model_module": "@jupyter-widgets/base",
            "_model_module_version": "1.2.0",
            "_model_name": "LayoutModel",
            "_view_count": null,
            "_view_module": "@jupyter-widgets/base",
            "_view_module_version": "1.2.0",
            "_view_name": "LayoutView",
            "align_content": null,
            "align_items": null,
            "align_self": null,
            "border": null,
            "bottom": null,
            "display": null,
            "flex": null,
            "flex_flow": null,
            "grid_area": null,
            "grid_auto_columns": null,
            "grid_auto_flow": null,
            "grid_auto_rows": null,
            "grid_column": null,
            "grid_gap": null,
            "grid_row": null,
            "grid_template_areas": null,
            "grid_template_columns": null,
            "grid_template_rows": null,
            "height": null,
            "justify_content": null,
            "justify_items": null,
            "left": null,
            "margin": null,
            "max_height": null,
            "max_width": null,
            "min_height": null,
            "min_width": null,
            "object_fit": null,
            "object_position": null,
            "order": null,
            "overflow": null,
            "overflow_x": null,
            "overflow_y": null,
            "padding": null,
            "right": null,
            "top": null,
            "visibility": null,
            "width": null
          }
        },
        "74ffc18fe42d42e7a0114e0bd99ce058": {
          "model_module": "@jupyter-widgets/controls",
          "model_name": "ProgressStyleModel",
          "model_module_version": "1.5.0",
          "state": {
            "_model_module": "@jupyter-widgets/controls",
            "_model_module_version": "1.5.0",
            "_model_name": "ProgressStyleModel",
            "_view_count": null,
            "_view_module": "@jupyter-widgets/base",
            "_view_module_version": "1.2.0",
            "_view_name": "StyleView",
            "bar_color": null,
            "description_width": ""
          }
        },
        "f692e4099a64479ebf70f0accc8127f7": {
          "model_module": "@jupyter-widgets/base",
          "model_name": "LayoutModel",
          "model_module_version": "1.2.0",
          "state": {
            "_model_module": "@jupyter-widgets/base",
            "_model_module_version": "1.2.0",
            "_model_name": "LayoutModel",
            "_view_count": null,
            "_view_module": "@jupyter-widgets/base",
            "_view_module_version": "1.2.0",
            "_view_name": "LayoutView",
            "align_content": null,
            "align_items": null,
            "align_self": null,
            "border": null,
            "bottom": null,
            "display": null,
            "flex": null,
            "flex_flow": null,
            "grid_area": null,
            "grid_auto_columns": null,
            "grid_auto_flow": null,
            "grid_auto_rows": null,
            "grid_column": null,
            "grid_gap": null,
            "grid_row": null,
            "grid_template_areas": null,
            "grid_template_columns": null,
            "grid_template_rows": null,
            "height": null,
            "justify_content": null,
            "justify_items": null,
            "left": null,
            "margin": null,
            "max_height": null,
            "max_width": null,
            "min_height": null,
            "min_width": null,
            "object_fit": null,
            "object_position": null,
            "order": null,
            "overflow": null,
            "overflow_x": null,
            "overflow_y": null,
            "padding": null,
            "right": null,
            "top": null,
            "visibility": null,
            "width": null
          }
        },
        "67121aa46774441d97db713afae02607": {
          "model_module": "@jupyter-widgets/controls",
          "model_name": "DescriptionStyleModel",
          "model_module_version": "1.5.0",
          "state": {
            "_model_module": "@jupyter-widgets/controls",
            "_model_module_version": "1.5.0",
            "_model_name": "DescriptionStyleModel",
            "_view_count": null,
            "_view_module": "@jupyter-widgets/base",
            "_view_module_version": "1.2.0",
            "_view_name": "StyleView",
            "description_width": ""
          }
        },
        "1b259ba70a1f4bd59e3f0d046360e49c": {
          "model_module": "@jupyter-widgets/controls",
          "model_name": "HBoxModel",
          "model_module_version": "1.5.0",
          "state": {
            "_dom_classes": [],
            "_model_module": "@jupyter-widgets/controls",
            "_model_module_version": "1.5.0",
            "_model_name": "HBoxModel",
            "_view_count": null,
            "_view_module": "@jupyter-widgets/controls",
            "_view_module_version": "1.5.0",
            "_view_name": "HBoxView",
            "box_style": "",
            "children": [
              "IPY_MODEL_9a7d8164391b4c4c8901916510541ac2",
              "IPY_MODEL_ba383778077e4c35a31795a5fb0a8478",
              "IPY_MODEL_f687ae146660451ba8017283897b628a"
            ],
            "layout": "IPY_MODEL_1a7fa3dcc46346a9a3aaa97d54678038"
          }
        },
        "9a7d8164391b4c4c8901916510541ac2": {
          "model_module": "@jupyter-widgets/controls",
          "model_name": "HTMLModel",
          "model_module_version": "1.5.0",
          "state": {
            "_dom_classes": [],
            "_model_module": "@jupyter-widgets/controls",
            "_model_module_version": "1.5.0",
            "_model_name": "HTMLModel",
            "_view_count": null,
            "_view_module": "@jupyter-widgets/controls",
            "_view_module_version": "1.5.0",
            "_view_name": "HTMLView",
            "description": "",
            "description_tooltip": null,
            "layout": "IPY_MODEL_5dc65139ef124cd3816873d59e4ad147",
            "placeholder": "​",
            "style": "IPY_MODEL_51716fce3e8c47b0a1562d0f6fd458ef",
            "value": "Processing: 100%"
          }
        },
        "ba383778077e4c35a31795a5fb0a8478": {
          "model_module": "@jupyter-widgets/controls",
          "model_name": "FloatProgressModel",
          "model_module_version": "1.5.0",
          "state": {
            "_dom_classes": [],
            "_model_module": "@jupyter-widgets/controls",
            "_model_module_version": "1.5.0",
            "_model_name": "FloatProgressModel",
            "_view_count": null,
            "_view_module": "@jupyter-widgets/controls",
            "_view_module_version": "1.5.0",
            "_view_name": "ProgressView",
            "bar_style": "",
            "description": "",
            "description_tooltip": null,
            "layout": "IPY_MODEL_aa4d11801e294c3f8342b0b23427fa18",
            "max": 4,
            "min": 0,
            "orientation": "horizontal",
            "style": "IPY_MODEL_3f153d7994a34015be3eb66d72e2f49e",
            "value": 4
          }
        },
        "f687ae146660451ba8017283897b628a": {
          "model_module": "@jupyter-widgets/controls",
          "model_name": "HTMLModel",
          "model_module_version": "1.5.0",
          "state": {
            "_dom_classes": [],
            "_model_module": "@jupyter-widgets/controls",
            "_model_module_version": "1.5.0",
            "_model_name": "HTMLModel",
            "_view_count": null,
            "_view_module": "@jupyter-widgets/controls",
            "_view_module_version": "1.5.0",
            "_view_name": "HTMLView",
            "description": "",
            "description_tooltip": null,
            "layout": "IPY_MODEL_4026dd32aa434335bffb7f95aeb77668",
            "placeholder": "​",
            "style": "IPY_MODEL_069d2a9fa220481088753f7f0580d3e4",
            "value": " 4/4 [00:01&lt;00:00,  3.27it/s]"
          }
        },
        "1a7fa3dcc46346a9a3aaa97d54678038": {
          "model_module": "@jupyter-widgets/base",
          "model_name": "LayoutModel",
          "model_module_version": "1.2.0",
          "state": {
            "_model_module": "@jupyter-widgets/base",
            "_model_module_version": "1.2.0",
            "_model_name": "LayoutModel",
            "_view_count": null,
            "_view_module": "@jupyter-widgets/base",
            "_view_module_version": "1.2.0",
            "_view_name": "LayoutView",
            "align_content": null,
            "align_items": null,
            "align_self": null,
            "border": null,
            "bottom": null,
            "display": null,
            "flex": null,
            "flex_flow": null,
            "grid_area": null,
            "grid_auto_columns": null,
            "grid_auto_flow": null,
            "grid_auto_rows": null,
            "grid_column": null,
            "grid_gap": null,
            "grid_row": null,
            "grid_template_areas": null,
            "grid_template_columns": null,
            "grid_template_rows": null,
            "height": null,
            "justify_content": null,
            "justify_items": null,
            "left": null,
            "margin": null,
            "max_height": null,
            "max_width": null,
            "min_height": null,
            "min_width": null,
            "object_fit": null,
            "object_position": null,
            "order": null,
            "overflow": null,
            "overflow_x": null,
            "overflow_y": null,
            "padding": null,
            "right": null,
            "top": null,
            "visibility": "hidden",
            "width": null
          }
        },
        "5dc65139ef124cd3816873d59e4ad147": {
          "model_module": "@jupyter-widgets/base",
          "model_name": "LayoutModel",
          "model_module_version": "1.2.0",
          "state": {
            "_model_module": "@jupyter-widgets/base",
            "_model_module_version": "1.2.0",
            "_model_name": "LayoutModel",
            "_view_count": null,
            "_view_module": "@jupyter-widgets/base",
            "_view_module_version": "1.2.0",
            "_view_name": "LayoutView",
            "align_content": null,
            "align_items": null,
            "align_self": null,
            "border": null,
            "bottom": null,
            "display": null,
            "flex": null,
            "flex_flow": null,
            "grid_area": null,
            "grid_auto_columns": null,
            "grid_auto_flow": null,
            "grid_auto_rows": null,
            "grid_column": null,
            "grid_gap": null,
            "grid_row": null,
            "grid_template_areas": null,
            "grid_template_columns": null,
            "grid_template_rows": null,
            "height": null,
            "justify_content": null,
            "justify_items": null,
            "left": null,
            "margin": null,
            "max_height": null,
            "max_width": null,
            "min_height": null,
            "min_width": null,
            "object_fit": null,
            "object_position": null,
            "order": null,
            "overflow": null,
            "overflow_x": null,
            "overflow_y": null,
            "padding": null,
            "right": null,
            "top": null,
            "visibility": null,
            "width": null
          }
        },
        "51716fce3e8c47b0a1562d0f6fd458ef": {
          "model_module": "@jupyter-widgets/controls",
          "model_name": "DescriptionStyleModel",
          "model_module_version": "1.5.0",
          "state": {
            "_model_module": "@jupyter-widgets/controls",
            "_model_module_version": "1.5.0",
            "_model_name": "DescriptionStyleModel",
            "_view_count": null,
            "_view_module": "@jupyter-widgets/base",
            "_view_module_version": "1.2.0",
            "_view_name": "StyleView",
            "description_width": ""
          }
        },
        "aa4d11801e294c3f8342b0b23427fa18": {
          "model_module": "@jupyter-widgets/base",
          "model_name": "LayoutModel",
          "model_module_version": "1.2.0",
          "state": {
            "_model_module": "@jupyter-widgets/base",
            "_model_module_version": "1.2.0",
            "_model_name": "LayoutModel",
            "_view_count": null,
            "_view_module": "@jupyter-widgets/base",
            "_view_module_version": "1.2.0",
            "_view_name": "LayoutView",
            "align_content": null,
            "align_items": null,
            "align_self": null,
            "border": null,
            "bottom": null,
            "display": null,
            "flex": null,
            "flex_flow": null,
            "grid_area": null,
            "grid_auto_columns": null,
            "grid_auto_flow": null,
            "grid_auto_rows": null,
            "grid_column": null,
            "grid_gap": null,
            "grid_row": null,
            "grid_template_areas": null,
            "grid_template_columns": null,
            "grid_template_rows": null,
            "height": null,
            "justify_content": null,
            "justify_items": null,
            "left": null,
            "margin": null,
            "max_height": null,
            "max_width": null,
            "min_height": null,
            "min_width": null,
            "object_fit": null,
            "object_position": null,
            "order": null,
            "overflow": null,
            "overflow_x": null,
            "overflow_y": null,
            "padding": null,
            "right": null,
            "top": null,
            "visibility": null,
            "width": null
          }
        },
        "3f153d7994a34015be3eb66d72e2f49e": {
          "model_module": "@jupyter-widgets/controls",
          "model_name": "ProgressStyleModel",
          "model_module_version": "1.5.0",
          "state": {
            "_model_module": "@jupyter-widgets/controls",
            "_model_module_version": "1.5.0",
            "_model_name": "ProgressStyleModel",
            "_view_count": null,
            "_view_module": "@jupyter-widgets/base",
            "_view_module_version": "1.2.0",
            "_view_name": "StyleView",
            "bar_color": null,
            "description_width": ""
          }
        },
        "4026dd32aa434335bffb7f95aeb77668": {
          "model_module": "@jupyter-widgets/base",
          "model_name": "LayoutModel",
          "model_module_version": "1.2.0",
          "state": {
            "_model_module": "@jupyter-widgets/base",
            "_model_module_version": "1.2.0",
            "_model_name": "LayoutModel",
            "_view_count": null,
            "_view_module": "@jupyter-widgets/base",
            "_view_module_version": "1.2.0",
            "_view_name": "LayoutView",
            "align_content": null,
            "align_items": null,
            "align_self": null,
            "border": null,
            "bottom": null,
            "display": null,
            "flex": null,
            "flex_flow": null,
            "grid_area": null,
            "grid_auto_columns": null,
            "grid_auto_flow": null,
            "grid_auto_rows": null,
            "grid_column": null,
            "grid_gap": null,
            "grid_row": null,
            "grid_template_areas": null,
            "grid_template_columns": null,
            "grid_template_rows": null,
            "height": null,
            "justify_content": null,
            "justify_items": null,
            "left": null,
            "margin": null,
            "max_height": null,
            "max_width": null,
            "min_height": null,
            "min_width": null,
            "object_fit": null,
            "object_position": null,
            "order": null,
            "overflow": null,
            "overflow_x": null,
            "overflow_y": null,
            "padding": null,
            "right": null,
            "top": null,
            "visibility": null,
            "width": null
          }
        },
        "069d2a9fa220481088753f7f0580d3e4": {
          "model_module": "@jupyter-widgets/controls",
          "model_name": "DescriptionStyleModel",
          "model_module_version": "1.5.0",
          "state": {
            "_model_module": "@jupyter-widgets/controls",
            "_model_module_version": "1.5.0",
            "_model_name": "DescriptionStyleModel",
            "_view_count": null,
            "_view_module": "@jupyter-widgets/base",
            "_view_module_version": "1.2.0",
            "_view_name": "StyleView",
            "description_width": ""
          }
        },
        "f21e72e43c774bd492d2c69681e06dbb": {
          "model_module": "@jupyter-widgets/controls",
          "model_name": "VBoxModel",
          "model_module_version": "1.5.0",
          "state": {
            "_dom_classes": [
              "widget-interact"
            ],
            "_model_module": "@jupyter-widgets/controls",
            "_model_module_version": "1.5.0",
            "_model_name": "VBoxModel",
            "_view_count": null,
            "_view_module": "@jupyter-widgets/controls",
            "_view_module_version": "1.5.0",
            "_view_name": "VBoxView",
            "box_style": "",
            "children": [
              "IPY_MODEL_47c792413f664d9a810c103465623f1a",
              "IPY_MODEL_29d40e50d6934f7fb7622671d9bdb643"
            ],
            "layout": "IPY_MODEL_8ddaa30e434a4f5885187d83c9941a48"
          }
        },
        "47c792413f664d9a810c103465623f1a": {
          "model_module": "@jupyter-widgets/controls",
          "model_name": "ToggleButtonsModel",
          "model_module_version": "1.5.0",
          "state": {
            "_dom_classes": [],
            "_model_module": "@jupyter-widgets/controls",
            "_model_module_version": "1.5.0",
            "_model_name": "ToggleButtonsModel",
            "_options_labels": [
              "Pipeline Plot",
              "Hyperparameters",
              "AUC",
              "Confusion Matrix",
              "Threshold",
              "Precision Recall",
              "Prediction Error",
              "Class Report",
              "Feature Selection",
              "Learning Curve",
              "Manifold Learning",
              "Calibration Curve",
              "Validation Curve",
              "Dimensions",
              "Feature Importance",
              "Feature Importance (All)",
              "Decision Boundary",
              "Lift Chart",
              "Gain Chart",
              "Decision Tree",
              "KS Statistic Plot"
            ],
            "_view_count": null,
            "_view_module": "@jupyter-widgets/controls",
            "_view_module_version": "1.5.0",
            "_view_name": "ToggleButtonsView",
            "button_style": "",
            "description": "Plot Type:",
            "description_tooltip": null,
            "disabled": false,
            "icons": [
              ""
            ],
            "index": 3,
            "layout": "IPY_MODEL_d326bf2ecaf749fca2d90277c6bff6ec",
            "style": "IPY_MODEL_51329bb51faf4742850320fee9eed1c4",
            "tooltips": []
          }
        },
        "29d40e50d6934f7fb7622671d9bdb643": {
          "model_module": "@jupyter-widgets/output",
          "model_name": "OutputModel",
          "model_module_version": "1.0.0",
          "state": {
            "_dom_classes": [],
            "_model_module": "@jupyter-widgets/output",
            "_model_module_version": "1.0.0",
            "_model_name": "OutputModel",
            "_view_count": null,
            "_view_module": "@jupyter-widgets/output",
            "_view_module_version": "1.0.0",
            "_view_name": "OutputView",
            "layout": "IPY_MODEL_a8c60ab50059435c9504564363877fd4",
            "msg_id": "",
            "outputs": [
              {
                "output_type": "display_data",
                "data": {
                  "text/plain": "<Figure size 800x550 with 1 Axes>",
                  "image/png": "iVBORw0KGgoAAAANSUhEUgAAAxAAAAIWCAYAAADH12tUAAAAOXRFWHRTb2Z0d2FyZQBNYXRwbG90bGliIHZlcnNpb24zLjcuNSwgaHR0cHM6Ly9tYXRwbG90bGliLm9yZy/xnp5ZAAAACXBIWXMAAA9hAAAPYQGoP6dpAAA8KUlEQVR4nO3dd1zVdf//8ecBRERBQgk0FbW6uMIFuEXLKC01NVfugVbuVakUpqlZaO6VOVFzXO6VO68ys0vNhZpWaiKuTCVQEJm/P/x6fhGobww8qI/77ebtks8453WQrtt58BnHkpaWliYAAAAAMGBn6wEAAAAAPDwICAAAAADGCAgAAAAAxggIAAAAAMYICAAAAADGCAgAAAAAxggIAAAAAMYICAAAAADGCAgAAAAAxggIALlGSEiIfHx8MvypVKmSunTpon379qXbPigoSP3797/rY44ZM0Y+Pj45NnNycrKWLFmiVq1aqWLFiqpQoYLq1q2rjz/+WGfPnrVud/bsWfn4+Gjx4sU5NktmJk+eLB8fH928eVOSlJCQoK5du8rPz09vvfXWA5tr586d6tatm6pXr66yZcuqdu3a6tu3r3788ccce86tW7eqdu3aKlu2bIafnfv1oP8dg4KC5OPjo5UrV2a6PikpSdWrV5ePj492796dIzOEhIQoMDAwRx4bwMPJwdYDAMBfubu7a+3atdavU1NTFRUVpenTp6tjx45atGiRypcvL0lavny58uTJY6tRlZiYqK5du+ro0aPq3r27Pv74Yzk4OOjo0aOaOnWq1q1bp5kzZ1rntYXOnTurVatWyps3ryRp+/bt+uabbzR8+HC9/PLLcnNz086dO+Xi4pJjM0yYMEEzZsxQ27Zt1aNHD7m7uysyMlLh4eFq3769PvroI7Vs2TLbn3f8+PFycXHRggUL9OSTT2bLYxYpUiTHv19/5+zsrJUrV6pp06YZ1n377bdKSEi4r8ddsWKFVq9erQULFtx1u9DQUCUlJd3XcwB4NHEEAkCuYmdnJw8PD+sfT09PVapUSZMnT1a+fPnSvdlxd3d/oG/k/m7ixInau3evwsPDFRwcrGeeeUYlS5ZUgwYNtGTJErm6umr06NE2m0+S8ufPLw8PD+vXsbGxkqTAwEAVKlRI9vb28vDwkJOTU448/7fffqvPP/9coaGhCg0NVfny5VWsWDEFBgZqxowZqlOnjsaMGaOYmJhsf+7Y2FiVKVNGxYsXtwbUP5XT36/MVK1aVT/++KPOnDmTYd3q1atVuXLl+3rcAwcOGG3n4uIid3f3+3oOAI8mAgLAQyFfvnzy9vbWxYsXrcv+fgrTyZMn1a5dO5UrV041a9bUxIkTlZaWlu5xkpKS9PHHH6tq1ary9/dXz549dezYsQynifz222/q3bu3nn/+eZUvX15NmzbV9u3bresTEhK0aNEiNWnSRL6+vhnmdXV11fz58zV37tw7vqYdO3aodevW8vPzk7+/v5o0aaItW7ak22br1q1q1qyZAgICFBAQoFatWmnXrl3W9cePH9dbb72latWqqXz58qpfv366yPrrKUwhISEaOnSoJOmll15S+/btMz0l516v/fY+y5YtU6tWrVS2bFldu3Yt09c4Z84clSxZUm3atMmwzmKxaPjw4fr6669VsGBBSVJaWppmzZqlV155RWXLllWVKlXUu3dvRUZGpntNlSpV0s8//6w2bdrIz89PtWvX1owZM9LN98cff2jVqlXW03syOxXn768/MTFRYWFhCgoKUrly5RQYGKhBgwYpOjo60+2lWz933bp1U6VKlVS2bNkM/waS5OPjo/DwcE2ePFm1atWSv7+/OnTooNOnT2f6ffsrX19feXp6ZjiNKTo6Wt98842CgoIy7BMREaEuXbooICDA+nOxZMkS6/r27dtr2bJl2rNnj/Vnf/fu3fLx8dHGjRvVsGFDVa9eXVL6U5g2btwoHx+fdD+D0dHRqlatmkJDQ+/5WgA8GggIAA+FxMRERUVFqWjRopmuT0pKUteuXXX58mXNnTtX4eHhiomJ0Zo1a9JtN3nyZC1atEg9evTQypUrVblyZb377rvptomOjla7du0UFRWlcePGadWqVapUqZJ69uyp//3vf5KkI0eOKD4+Xi+88MIdZy5SpMgdT7E6c+aMevToodKlS2v16tVas2aNatasqX79+umnn36SdOuNfL9+/fTKK69ozZo1WrZsmcqWLau3335bFy5ckCR169ZNBQoU0IIFC7RhwwZ16tRJo0aN0oYNGzI8Z2hoqN577z1J0rJlyzR58uQM25i89ttmz56t5s2ba8uWLcqfP3+Gx0pOTtb+/fv1wgsvyGKxZPp9cHNzk6urq/XrSZMmacKECWrTpo3Wr1+vadOmKTIyUh07dlRcXFy6x/7444/Vs2dPrV27VrVq1dLYsWN18OBB62lG7u7uqlevnnbu3Cl/f/9Mn//vpk2bpq+++kojR47Uli1bNHHiRP30008aMGBApttfuXJFbdu21Z9//qkZM2Zo/fr1aty4sUaOHKn58+en23bJkiW6ceOG5s2bp88//1w///yzRowYcc+ZLBaLGjRooNWrVys1NdW6/KuvvpKLi4v1jf5t169fV3BwsBwcHLR06VJt2LBBrVu31tChQ60hOHnyZJUpU0b+/v7auXOn6tevb91/+vTp6tu3r1atWpVhlnr16um1117TRx99ZL2uZvTo0XJ2dtb7779/z9cC4NHANRAAcr3Lly9rzJgxun79eqa/yZakvXv3KioqSjNmzFClSpUkSUOGDNHevXv1xx9/WLdbtWqVXn75ZXXs2FGSVKpUKV28eFEnT560brNs2TJduXJFixcvVokSJSRJH3zwgfbs2aMZM2aoWrVq+v333yVJxYoVu6/X5OnpqTVr1qhIkSJydnaWJPXq1UszZszQrl275Ovrq2PHjik5OVlNmzZV4cKFJUnvv/++GjRoIFdXV125ckUXLlzQwIED9eyzz0qS3njjDZUtWzbdaUu3ubi4qECBApJunf7l5uam69evp9vG5LXf9q9//UvNmze/42uMjo5WYmKinnrqKaPvSWJioubNm6fmzZtb/31KliypTz75RM2aNdO2bdvUuHFjSdKNGzfUuXNn62/Gu3fvrqVLlyoiIkJ+fn7y8PCQnZ2dnJycMv1e3MnRo0fl4+NjfVNepEgRzZw5846nWC1fvlwxMTGaNGmS9TqLrl276sCBA1qwYIE6dOhg3dbZ2VkDBw6UJJUuXVpBQUH6+uuvjeZq1KiRZs+erV27dqlmzZqSpJUrV6p+/fqyt7dPt62Tk5NWrFihJ554wnpkp3379po+fbq+++47BQUFyc3NTQ4ODsqTJ0+G70+NGjX08ssv33GWDz/8UK+99pqmTZummjVravXq1Zo3b571ZwvAo48jEABylStXrsjf39/6p0KFCgoMDNQvv/yiadOmqUKFCpnu98svv0iSypYtm275X3/zfPPmTV26dCnDNrVr1073dUREhEqUKGF9A31btWrVdPToUUmy/kb976dImcqbN69OnDih7t27q2bNmvL397e+Of/zzz8lSQEBAXJ3d1e7du00d+5cHT9+XPb29vL391f+/Pnl7u4uf39/ffTRRxo3bpz27NmjpKQk+fr6ZulNc1Zf+21//z7+XVa/R6dOnVJcXJw1AG/z9fVV3rx5rUdmbvvrz8Ltc/RvX+Nxv1566SV999136tOnjzZs2KArV67Iy8vrjnfyOnz4sEqUKJHhIm1/f3+dOXMmXaD5+fml28bd3d342o9///vf6U6z+/XXX3X06FE1bNgww7YODg66ePGiBg0apNq1a1v/W7py5Yr1Z+tu7vXv6ubmppEjR2r27NkKCQlRhw4dVKVKFaPXAeDRwBEIALmKm5ub/vOf/1i/PnLkiN555x116dLlrqcL3T695fZv82/766k1t988/f10m79fIHr9+nVFRUVlOO0lKSlJSUlJSkxMVJEiRSRJp0+f1nPPPWf46v6/rVu3qk+fPnr11Vc1YcIEFS5cWBaLRXXr1rVu4+XlpWXLlmn27NkKDw9XWFiYnnrqKXXv3l0tWrSQxWLR7NmzNX/+fG3cuFFffPGFXFxc1KJFC/Xv31+Ojo5Znsvktd92rwvYn3jiCeXLly/d9Qv3eu7MHtfOzk7Ozs7pTmGS0v87/tOgu61Vq1by9PTUokWL9P777ysxMdF6fv8zzzyT6cyZfR9u/zY+Li7O+ve//2ze6bSuO2nUqJEmTZqk2NhYrVq1SiVKlJCfn1+62wVLt6Kmc+fOqlSpkj799FN5enrK3t5e7du3N3oekxsT1KpVS0WLFlVkZGSO3EELQO5GQADIVezt7eXt7W392tvbW5s3b9bIkSMVGBgoNze3TPe7/ebsxo0bypcvn3X5Xy/uvX09wt9ve/n338q6urqqePHimjlzZqbP5eDgoDJlysjV1VVbt25VvXr1Mt0uIiJCsbGx1lNO/mrt2rXy9PTU+PHjZWd362DwpUuXMmxXrFgxDR06VEOHDtWvv/6qBQsWaPDgwSpWrJiqV6+u/Pnzq3v37urevbsuXbqkdevWaeLEiXJyclLfvn0znetuTF67KXt7e1WuXFnbt29XaGhopvvGxMRo8+bNatq0qfVaiL9fkJ2amqq4uLh/fMcti8WSITDi4+MzbPfiiy/qxRdfVGJionbt2qWxY8fq7bffzvR0I1dXV+v1KH91+zVk52k9DRs21NixY7VlyxatX79ezZo1y3S7r776SnZ2dpo2bZr1+VNTU7P1Tle3rzEKCAjQsGHDFB4enuUgAvDw4hQmALneBx98oBs3bujTTz+94zalS5eWdOtN+21paWnpPkDM3d1dBQsWTLeNJG3evDnd135+frpw4YIKFCggb29v6x97e3sVKlRIdnZ2cnR0VPv27bVx40b98MMPGeaJiYlRSEiIxo0bp5SUlAzrk5KSVLBgQWs8SLJetHr7Te6xY8fSPfazzz6r4cOHq0CBAjp+/Lh+//33dBdLP/nkk+rSpYsCAwN17NixO36v7sbktWdF586ddfHiRU2bNi3DurS0NA0fPlyffvqp/vjjD5UqVUouLi7au3dvuu2OHDmixMRElStX7r5e020uLi6KjY1VcnKyddmhQ4esf09NTdWWLVusQeDo6KjatWurT58+OnfuXKZvwMuXL6+oqCjrNTG37du3T08//XSmF5ffL09PT1WtWlVz587V77//nunpS9Ktny1HR8d08bJhwwYlJCRkCKj7OWJz8uRJTZgwQSEhIRo1apQOHjx4z8+SAPBoISAA5HpeXl7q3bu3Vq9ere+//z7TbapVqyZPT0/rnXhOnDihoUOHZvgN86uvvqqvv/5ay5cvV2RkpBYsWJDhU4qbNm2qggULqk+fPtq3b5/Onj2rDRs2qEWLFunuXNStWzcFBgaqW7dumjJlin7++WdFRUVp06ZNat26tRISEjR27NgMF7lKt96onzhxQhs2bFBUVJRmz56tQ4cOqUiRIvrpp5906dIlHTx4UD169NCKFSsUFRWlqKgozZkzR/Hx8apYsaJiY2P17rvvauzYsTpx4oQuXLigbdu2af/+/fd9TrrpazdVvXp19e7dW1OnTtWgQYO0f/9+nTt3Trt379bbb7+trVu36rPPPrPesSo4OFgrVqzQwoULFRUVpR9++EEhISEqXbr0XS/sNVG+fHklJSVp+vTpioqK0rZt29LdGtXOzk6zZs1Sv3799OOPP+rChQs6evSolixZon/961+ZHv1q2rSp3Nzc1L9/f0VEROi3337TpEmTtGPHDr399tv/aN7MNG7cWCdOnFCZMmWs0fx3fn5+iouLU3h4uM6ePauVK1dq4cKF8vPz06+//mo95cnV1VWnT5/W4cOHMz2KkpmUlBSFhISoUqVKatKkiUqUKKFevXpp7NixOnXqVLa9TgC5G6cwAXgodOjQQatWrdKQIUO0fv36dKcpSbcuSp4+fbqGDRumdu3aqWDBgmrRooVat26t8ePHW7cbOHCgbty4oU8++UT29vaqXbu2hgwZotatW1s/bMzNzU2LFi3SmDFj1K1bN8XHx6tIkSLq2LGj3nrrLetjOTo66osvvtCKFSu0cuVKzZ07VykpKXrqqadUp04ddezY8Y4fwNWhQwedOnVKQ4cOlcVi0YsvvqjRo0dr2bJlmjBhgt577z3Nnz9fN27c0KxZszR8+HDlyZNHzzzzjCZOnGj9dOvp06fr888/18KFC63P3blzZ3Xq1Om+vs+mrz0revXqpYoVK2revHnq0aOH4uLi9OSTT6pKlSpauXJlumsLevToobx582revHn65JNP5OLiolq1amnAgAH3dU3HX9WvX18HDx7UokWLNGvWLPn7+2vEiBFq0KCBdZupU6dq1KhR6tu3r2JiYvTEE0+oSpUqGjZsWKaP6e7urgULFmj06NEKDg7WzZs3Vbp0aY0aNUqvv/76P5o3M3Xr1tWwYcPUqFGjO27ToEEDHT58WF988YUmTZqkqlWrasKECdq3b58GDx6sTp06adu2bQoODtbAgQPVpk0bvfPOO5l+nsnfzZw5U7/++qvWrVtnXRYcHKwNGzYoJCREixcvzjSYATxaLGn/9IozAHiIJCUlKTY2VoUKFbIu27Ztm3r27Klly5ZZ35gDAIDMcQoTgMfKlClT9OKLL2rNmjU6d+6c9uzZo3HjxqlMmTL3vH0lAADgCASAx0xycrKmTp2qdevW6ffff5e7u7uqVKmi9957T56enrYeDwCAXI+AAAAAAGCMU5gAAAAAGCMgAAAAABgjIAAAAAAYe2Q+B+LAgQNKS0tTnjx5bD0KAAAA8FBJSkqSxWKRv7//Pbd9ZAIiLS1NSUlJOn/+vK1HAQBkwtvb29YjAADuICv3VXpkAiJPnjw6f/68Gk7sZutRAACZSNt6VpKUkBJv40kAAH/3608njbflGggAAAAAxggIAAAAAMYICAAAAADGCAgAAAAAxggIAAAAAMYICAAAAADGCAgAAAAAxggIAAAAAMYICAAAAADGCAgAAAAAxggIAAAAAMYICAAAAADGCAgAAAAAxggIAAAAAMYICAAAAADGCAgAAAAAxggIAAAAAMYICAAAAADGCAgAAAAAxggIAAAAAMYICAAAAADGCAgAAAAAxggIAAAAAMYICAAAAADGCAgAAAAAxggIAAAAAMYICAAAAADGCAgAAAAAxggIAAAAAMYICAAAAADGCAgAAAAAxggIAAAAAMYICAAAAADGCAgAAAAAxggIAAAAAMYICAAAAADGCAgAAAAAxggIAAAAAMYICAAAAADGCAgAAAAAxggIAAAAAMYICAAAAADGCAgAAAAAxggIAAAAAMYICAAAAADGCAgAAAAAxggIAAAAAMYICAAAAADGCAgAAAAAxggIAAAAAMYICAAAAADGCAgAAAAAxggIAAAAAMYICAAAAADGCAgAAAAAxggIAAAAAMYICAAAAADGCAgAAAAAxggIAAAAAMYICAAAAADGCAgAAAAAxggIAAAAAMYICAAAAADGCAgAAAAAxggIAAAAAMYICAAAAADGCAgAAAAAxggIAAAAAMYICAAAAADGCAgAAAAAxggIAAAAAMYICAAAAADGCAgAAAAAxggIAAAAAMYICAAAAADGCAgAAAAAxggIAAAAAMYICAAAAADGCAgAAAAAxggIAAAAAMYICAAAAADGCAgAAAAAxggIAAAAAMYICAAAAADGCAgAAAAAxggIAAAAAMYICAAAAADGCAgAAAAAxggIAAAAAMYICAAAAADGCAgAAAAAxggIAAAAAMYICAAAAADGCAgAAAAAxggIAAAAAMYICAAAAADGCAgAAAAAxggIAAAAAMYICAAAAADGCAgAAAAAxggIAAAAAMYICAAAAADGCAgAAAAAxhxsPQDwuCrx5FMKbdNHdSs+r6KFPJWQeFMRvx3T3M1LNWfTEknSC+Wr65uxy+75WLXfbaFvI37I6ZEB4LEXExOjcZ+N1/JlKxR1Jkp58+aVbxlfBXfppI7BHWSxWGw9IpDjCAjABp55qpT+N2mt8jk6acaGhTpw4ojcChRU26Ammv3uGFX6V3n1mPSBjkb+rObDu97xcYZ1eEelvEro5IXTD254AHhMnTt3Xi/WCtKF8xfUtn0bBdasoT//jNHsmXPU/e0eOn7suMI++9TWYwI5zuYBkZycrPDwcK1Zs0aRkZGyt7dXmTJlFBwcrJdeesnW4wE5IrRNbxVyfUJvjx+kmRsWWpd/vm6+js/5Rt0bdtDopZ/r9MUorfjuq0wfo16VIJUp6aOBM0fq7B8XHtToAPDYChsZpqgzURoz/jP17N3Durx9x3aq4OunKZOm6p0B/fXkk0/acEog59n8Goh33nlHn332mUqWLKlhw4Zp0KBBunHjhnr06KHFixfbejwgRzxdxFuS9N2R3emWJyUnae/PhyRJpYuUuOP+BfLl1/S+n+rAiSMat3xGzg0KALDy8vLS601fV6fOHdMtd3NzU7Ua1ZWSkqKjh4/aaDrgwbHpEYht27Zp8+bNeu211zR27Fjr8tdff12NGjXSqFGj9Morr8jd3d2GUwLZ7/Bvx1WrXFX5FHtax8+cSLeulFcJJack6/iZk3fcf3jH91SscBE1G/a2UlJTcnpcAICk0CEf3HFdbEyMJMm1YMEHNQ5gMzY9ArF8+XJJUnBwcLrlTk5OatmypW7cuKH169fbYjQgR4Utmapzly9qYo9halD1JXm4FVLpIt4a0WmAqvzbT+OWz9T5Kxcz3be4R1H1aNhBi7av1o+/HHrAkwMA/u7I4SP6bsdO+ZZ5Tv4BfrYeB8hxNj0CcfDgwVt3L/D1zbAuICBAknTgwAF16NDhQY8G5KioP86rau+G+jJkktZ/PM+6/MbNBL0zfZjGr5h5x30/6vCOHOwdNOzL8Q9iVADAXURFndUbzVrJ3t5eE6dMlJ2dzc8OB3KczQLi+vXrio6Olre3d6b/sRUtWlSSdObMmQc9GpDjSnoV19rhc1WssJcGzx2tgyePyjGPo16v8YrGdRsqb89i6jdtaIb9SnmVUIc6zbV612adOPebDSYHANy2Z/detWzWUlevRiv8y7mqWSvQ1iMBD4TNAiIuLk6SlC9fvkzX315+/fr1BzYT8KDMfW+cfEs8qyq9X9P+Xw9bl6/auVGJyUnq26SL/ntwl9bs2pxuv7fqt5GDvYNmbeQGAwBgS4sXLVGPt3vK2dlZ6zas0fO1n7f1SMADY7PjbPf6oJW0tLQHNAnwYDk75dPz5arq5IXIdPFw2+1oqFOxVoZ1rV9srD+vx2jrvh05PicAIHPjx05Q5w5d9PQzpbXzfzuIBzx2bBYQBQoUkCTFx8dnuv72EQoXF5cHNhPwIORzdJKdnZ2cHPNmut45b750/3vbcyWeVUmv4vrm0A/ceQkAbGT6tC/0waBQ1X7xBW3f8bVKlS5l65GAB85mAeHs7CwPDw9dvHhRKSkZ3wydPXtWklSqFP9h4tFyJTZav5w9pRJPPqUXylfPsL71i40lSTsOp/+MiCr/9pMkHTp1LMdnBABk9MOu/+m9/gNUrXo1rVy7Qq6urrYeCbAJm96FKSAgQJs3b9ahQ4esd126bc+ePZKkypUr22I0IEf1mTpEa4fP0YaR8zVlTbgOnDwi57z51LJ2Q9Wt+IJ2Hf1RC79elW4fn2JPS5J+u8iNBQDAFt57Z4BSUlJUr/6r2rhhU6bbPPfcv/Wc73MPeDLgwbJpQLRq1UqbN2/W7Nmz0wXEtWvXtHTpUrm5ual+/fo2nBDIGZt//EaVezXQwDd6qE3Q6+rXtIsSk5P0y9lTCpn1qSasnKWk5KR0+zzhcuvDiWLjubEAANjC/h/3S5KGfvjRHbcJ/fADDR4a+oAmAmzDkmbjq5VDQ0O1fPlyBQUFqW7duoqPj9fixYt16tQpjRs3Tq+++qrR4xw+fFiRkZFqOLFbDk8MALgfaVtvnZqakJL5tW8AANv59aeTkqRy5crdc1ubHoGQpBEjRsjX11dLly7V0KFD5ejoqAoVKmjIkCGqUqWKrccDAAAA8Bc2Dwg7Ozu1bdtWbdu2tfUoAAAAAO6Bz1sHAAAAYIyAAAAAAGCMgAAAAABgjIAAAAAAYIyAAAAAAGCMgAAAAABgjIAAAAAAYIyAAAAAAGCMgAAAAABgjIAAAAAAYIyAAAAAAGCMgAAAAABgjIAAAAAAYIyAAAAAAGCMgAAAAABgjIAAAAAAYIyAAAAAAGCMgAAAAABgjIAAAAAAYIyAAAAAAGCMgAAAAABgjIAAAAAAYIyAAAAAAGCMgAAAAABgjIAAAAAAYIyAAAAAAGCMgAAAAABgjIAAAAAAYIyAAAAAAGCMgAAAAABgjIAAAAAAYIyAAAAAAGCMgAAAAABgjIAAAAAAYIyAAAAAAGCMgAAAAABgjIAAAAAAYIyAAAAAAGCMgAAAAABgjIAAAAAAYIyAAAAAAGCMgAAAAABgjIAAAAAAYIyAAAAAAGCMgAAAAABgjIAAAAAAYIyAAAAAAGCMgAAAAABgjIAAAAAAYIyAAAAAAGCMgAAAAABgjIAAAAAAYIyAAAAAAGCMgAAAAABgjIAAAAAAYIyAAAAAAGCMgAAAAABgjIAAAAAAYIyAAAAAAGCMgAAAAABgjIAAAAAAYIyAAAAAAGCMgAAAAABgjIAAAAAAYIyAAAAAAGCMgAAAAABgjIAAAAAAYIyAAAAAAGCMgAAAAABg7L4C4uTJk9a/X7hwQeHh4dqxY0e2DQUAAAAgd8pyQCxbtkwtWrSQJF2/fl0tW7bUwoULNWDAAC1cuDDbBwQAAACQe2Q5IObOnaspU6ZIkr766ivly5dPGzZs0Jw5c7Ro0aJsHxAAAABA7pHlgLhw4YJq1KghSdq5c6fq16+vPHnyqEyZMrpw4UK2DwgAAAAg98hyQDg7O+v69etKTEzUnj17FBgYKOnW6Uz29vbZPiAAAACA3MMhqzvUqFFDffv2lb29vVxcXFSxYkUlJydr6tSpKleuXE7MCAAAACCXyPIRiA8//FDFihVTgQIFNHXqVFksFt24cUPbt29XaGhoTswIAAAAIJfI8hEIV1dXDRs2LN0yFxcXbd68OduGAgAAAJA7ZfkIxKVLlzRgwADr1xMmTFClSpXUsmVLRUVFZetwAAAAAHKXLAfEiBEjdPPmTUlSRESEZs+erZCQED333HMaPXp0tg8IAAAAIPfI8ilMe/bs0ZYtWyRJGzdu1Msvv6zmzZurXr16qlOnTrYPCAAAACD3yPIRiKSkJBUsWFCS9L///U/PP/+8JCl//vyKj4/P3ukAAAAA5CpZPgJRvHhx7dy5U05OTvrll19Us2ZNSbdOZypUqFC2DwgAAAAg98hyQHTt2lVdu3ZVamqq2rdvLw8PD8XExKhnz55q165dTswIAAAAIJfIckDUr19fFStWVFxcnEqXLi3p1q1dBw4cqIYNG2b7gAAAAAByjyxfAyFJnp6e1niQJIvFonr16ikoKCjbBgMAAACQ+2T5CERCQoKmTZumgwcPKjEx0br8jz/+UEJCQrYOBwAAACB3yfIRiE8++UQrV66Uh4eHDh8+rBIlSigmJkaFCxfW9OnTc2JGAAAAALlElgPiv//9rxYvXqyxY8fK3t5eo0eP1vr16/Wvf/1LkZGROTEjAAAAgFwiywERExOj4sWL39rZzk6pqamyt7dXr169NGXKlGwfEAAAAEDukeWA8PLy0oEDByRJ7u7uOnTokCSpQIECunTpUvZOBwAAACBXyfJF1G3atFG7du20a9cuvfTSS+rTp4/q1Kmjn376ST4+PjkxIwAAAIBcIssB0alTJxUtWlSurq4aMGCA4uPj9cMPP8jb21sDBw7MiRkBAAAA5BJZDghJqlu3riTJ0dFRI0eOzNaBAAAAAOReRgExbtw4owezWCzq37//PxoIAAAAQO5lFBDr1683ejACAgAAAHi0GQXE9u3bc3oOAAAAAA+BLN3GNSUlRefPn8+wPCIiQmlpadk2FAAAAIDcyTggEhMT1bZt20w/LG7AgAHq0aMHEQEAAAA84owDYs6cObpy5Yq6deuWYd28efN04sQJLV26NFuHAwAAAJC7GAfEpk2bNHjwYJUoUSLDOi8vL4WGhmrlypXZOhwAAACA3MU4IM6dO6eqVavecX21atV0+vTp7JgJAAAAQC5lHBDJyclydHS843p7e3slJiZmy1AAAAAAcifjgChevLgiIiLuuH7Xrl0qXrx4tgwFAAAAIHcyDoi6desqLCxMcXFxGdZdvnxZw4cPV7169bJ1OAAAAAC5i9EHyUlScHCwNmzYoLp166pVq1Z6+umn5ejoqMOHD2vhwoUqUaKEgoODc3JWI0/si7f1CACAu3Cyd7b1CACAf8A4IPLnz68lS5ZozJgxmj9/vq5duyZJcnNzU5MmTdS3b185OTnl2KAAgIebu7u7rl69ausxAAD/kCXtPj79LS0tTVevXpXFYpG7u3tOzJVlhw8fliQ96/u0jScBAGSmqEcxSVKXdW/ZeBIAwN+9EF1L3t7eKleu3D23NT4C8VcWi0WFChW6n10BAAAAPMSML6IGAAAAAAICAAAAgDECAgAAAICx+w6IpKQkRUVFZecsAAAAAHK5LAdEQkKCBg0aJH9/f+sHx8XGxurNN99UbGxstg8IAAAAIPfIckB89tlnOnbsmMaMGSN7e3vr8pSUFI0ZMyZbhwMAAACQu2Q5IDZv3qxJkybp1VdftS5zdXXVp59+qi1btmTrcAAAAABylywHRFxcnEqWLJlhubu7u+Lj47NjJgAAAAC5VJYDokSJEtq9e7ekW59IfdumTZtUtGjR7JsMAAAAQK6T5U+ibtOmjXr37q1mzZopNTVVc+fO1ZEjR7R582aFhobmxIwAAAAAcoksB0TLli3l4OCgL7/8Uvb29po+fbpKlSqlMWPGpLsuAgAAAMCjJ8sBIUnNmjVTs2bNsnsWAAAAALlclgNi9erVd13/+uuv3+coAAAAAHK7LAdESEhI5g/k4CAnJycCAgAAAHiEZTkgIiIi0n2dkpKiU6dOacaMGerQoUO2DQYAAAAg98nybVwdHR3T/cmXL5/KlCmjDz/8UMOHD8+JGQEAAADkElkOiDtxdXVVZGRkdj0cAAAAgFwoy6cw7dy5M8OyhIQEbdiwQV5eXtkyFAAAAIDcKcsB8eabb8pisaT7FGpJcnNzU1hYWLYNBgAAACD3yXJAfP311xmWOTk5yd3dXRaLJVuGAgAAAJA7ZTkgwsPDFRoamhOzAAAAAMjlsnwR9caNGxUTE5MTswAAAADI5bJ8BGLgwIF6//331axZMxUvXlx58uRJt75UqVLZNhwAAACA3OW+AkKStm/fnu6ah7S0NFksFh07diz7pgMAAACQq2Q5IObPn58TcwAAAAB4CBgHRIUKFXTo0CFVqVIlJ+cBAAAAkIsZX0T99899AAAAAPD4MQ4IPuMBAAAAgPEpTCkpKVq6dOldj0RYLBa98cYb2TIYAAAAgNzHOCCSk5M1ZMiQu25DQAAAAACPNuOAyJs3rw4dOpSTswAAAADI5bL8SdQAAAAAHl/chQkAAACAMeOAaNy4cU7OAQAAAOAhYBwQI0aMyMk5AAAAADwEuAYCAAAAgDECAgAAAIAxAgIAAACAMQICAAAAgDECAgAAAIAxAgIAAACAMQICAAAAgDECAgAAAIAxAgIAAACAMQICAAAAgDECAgAAAIAxAgIAAACAMQICAAAAgDECAgAAAIAxAgIAAACAMQICAAAAgDECAgAAAIAxAgIAAACAMQICAAAAgDECAgAAAIAxAgIAAACAMQICAAAAgDECAgAAAIAxAgIAAACAMQICAAAAgDECAgAAAIAxAgIAAACAMQICAAAAgDECAgAAAIAxAgIAAACAMQICAAAAgDECAgAAAIAxAgIAAACAMQICAAAAgDECAgAAAIAxAgIAAACAMQICAAAAgDECAgAAAIAxAgIAAACAMQICAAAAgDECAgAAAIAxAgIAAACAMQICAAAAgDECAgAAAIAxAgIAAACAMQICAAAAgDECAgAAAIAxAgIAAACAMQICAAAAgDECAgAAAIAxAgIAAACAMQICAAAAgDECAgAAAIAxAgIAAACAMQICAAAAgDECAgAAAIAxAgIAAACAMQICAAAAgDECAgAAAIAxAgIAAACAMQICAAAAgDECAgAAAIAxAgIAAACAMQICAAAAgDECAgAAAIAxAgIAAACAMQdbDwAgcwvmLdB7/QcqNjZWx0/8JO+S3rYeCQAeW6f3ntby/kslSe/tHChJOrP/jJb2WXLPfd+Y1EolAkrk6HzAg0RAALnMpUuX1Kt7H61fu17Ozs62HgcAHnuJ8Te1OWxThuWFSxVWwxGN77jfrtk7FXMhRm5PueXgdMCDl2tOYVq5cqUqVqwoHx8fnT171tbjADZTs9rz2rt7j9asX6WAigG2HgcAHnvfTv1GCbE35O7tnm658xPO8nnRJ9M/eZwcdOX0FdXoHChXT1cbTQ7kDJsHxJUrV9SzZ0998MEHSk1NtfU4gM1VrVZVew7sVp1X6th6FAB47J3ZF6lDaw+pWofqcn4iv9E+ifE3tfWzLXry2SdVqWXlHJ4QePBsHhDNmzfXoUOHNHPmTJUtW9bW4wA2t2DRPHl4eNh6DAB47CXGJ2pT2CZ5Puupyq2rGO/3/ayduvbHNdUZ+IrsHGz+VgvIdjb/qfbz89PatWtVq1YtW48CAABgtePzb3X9j2t65f16xiEQezFWB1cd1HN1fFXkuSI5PCFgGza/iHr8+PG2HgEAACCdM/vP6ODqA6rWsbqefPZJ4/12zfleqSmpqhFcIwenA2zL5kcgAAAAcpOkhCRtDtukwqUKq3pH8xD489yfOrr5iJ6p9ayeKO5+7x2AhxQBAQAA8Bc7pn+r2N9j9Mr79WSfx954v4h1h5SWkqZyr5XPwekA27P5KUwAAAC5xdlDZ3VgxX5VaOynAoUK6Nqla9Z1KUkpkmRd5vKkS7p9j287prwF8qpk5ZIPbF7AFggIAACA/xP542kpTTq0+qAOrT6Y6TZfNP1c0v//RGpJuvzbZcVejNUztZ7hzkt45BEQAAAA/+e5Or7y+rdXpuu++2KHLp+6rCajmmZYd/HYBUmSxzPmF1wDDysCAshFIiPPaN+P+6xfX758WZK0edMWFfYoLEny9vZWxUp8QjUA5AT3Eu5yL5H5BdB7F++VJD0d+EyGdVfPXJUkFSxSMOeGA3IJAgLIRXZ8863e7tItw/K+vfpZ/96uQ1vNnDPjAU4FALiXm9cSJEmO+fPaeBIg59k0IM6dO6fDhw9bv7569Va979ixQ+7ut+r/qaeeUrly5WwyH/Cgte/YXu07trf1GACATLSa0vqO6+oMeEV1BrzyAKcBbMemAbF79269//77GZYPGzbM+vcmTZooLCzsQY4FAAAA4A5sGhBNmzZV06YZL0QCAAAAkDtxnzEAAAAAxggIAAAAAMYICAAAAADGCAgAAAAAxggIAAAAAMYICAAAAADGCAgAAAAAxggIAAAAAMYICAAAAADGCAgAAAAAxggIAAAAAMYICAAAAADGCAgAAAAAxggIAAAAAMYICAAAAADGCAgAAAAAxggIAAAAAMYICAAAAADGCAgAAAAAxggIAAAAAMYICAAAAADGCAgAAAAAxggIAAAAAMYICAAAAADGCAgAAAAAxggIAAAAAMYICAAAAADGCAgAAAAAxggIAAAAAMYICAAAAADGCAgAAAAAxggIAAAAAMYICAAAAADGCAgAAAAAxggIAAAAAMYICAAAAADGCAgAAAAAxggIAAAAAMYICAAAAADGCAgAAAAAxggIAAAAAMYICAAAAADGCAgAAAAAxggIAAAAAMYICAAAAADGCAgAAAAAxggIAAAAAMYICAAAAADGCAgAAAAAxggIAAAAAMYICAAAAADGCAgAAAAAxggIAAAAAMYICAAAAADGCAgAAAAAxggIAAAAAMYICAAAAADGCAgAAAAAxggIAAAAAMYICAAAAADGCAgAAAAAxggIAAAAAMYICAAAAADGCAgAAAAAxggIAAAAAMYICAAAAADGCAgAAAAAxggIAAAAAMYICAAAAADGCAgAAAAAxggIAAAAAMYICAAAAADGCAgAAAAAxggIAAAAAMYICAAAAADGCAgAAAAAxggIAAAAAMYICAAAAADGCAgAAAAAxggIAAAAAMYICAAAAADGCAgAAAAAxggIAAAAAMYICAAAAADGCAgAAAAAxggIAAAAAMYICAAAAADGCAgAAAAAxggIAAAAAMYICAAAAADGCAgAAAAAxggIAAAAAMYICAAAAADGCAgAAAAAxggIAAAAAMYICAAAAADGCAgAAAAAxggIAAAAAMYICAAAAADGCAgAAAAAxggIAAAAAMYICAAAAADGCAgAAAAAxggIAAAAAMYsaWlpabYeIjvs379faWlpcnR0tPUoAIBMREZG2noEAMAdeHh4KE+ePAoICLjntg4PYJ4HwmKx2HoEAMBdeHt723oEAMAdJCUlGb+ffmSOQAAAAADIeVwDAQAAAMAYAQEAAADAGAEBAAAAwBgBAQAAAMAYAQEAAADAGAEBAAAAwBgBAQAAAMAYAQEAAADAGAEBAAAAwJiDrQcAHnfR0dH66quvdODAAZ05c0bXr1+XJLm4uKhUqVKqXLmy6tWrp/z589t4UgAAAMmSlpaWZushgMfVf/7zH4WFhSkhIUF3+k/RYrHIzc1Nw4cPV506dR7whAAAU0eOHNHChQv16aef2noUIEcREICNbN++XT169JC3t7datmypgIAAFSlSRM7OzkpLS1NcXJzOnj2r3bt3a+nSpbp69arCw8NVqVIlW48OAMjE5s2b1a9fPx07dszWowA5ioAAbKR9+/ZKSEjQl19+qbx5895122vXrqlNmzby8vLSzJkzH9CEAICsICDwuOAaCMBGjh49qpCQkHvGg3TreohWrVpp4sSJD2AyAIAknT9/PkvbX716NYcmAXIXAgKwkZSUFDk6Ohpvnz9/fiUmJubgRACAvwoKCpLFYrH1GECuQ0AANuLt7a3//ve/ev31142237Jli0qVKpWzQwEArPLnz6+0tDSVKVPGaPvo6GidPHkyh6cCbI+AAGykUaNGGjNmjAYOHKhOnTrJ19c3wzZpaWk6dOiQZs+erf/+97/68MMPbTApADyeQkNDNXjwYHXr1k2BgYH33H7Tpk3q37//A5gMsC0CArCR4OBgRUREaO3atVq3bp3y5s0rT09POTs7S5Li4+N18eJFJSYmKi0tTc2bN1ebNm1sPDUAPD6aNm2qr7/+Wu+//77Wrl0rNze3u27P6U54XHAXJsDGtm3bpuXLl+vQoUOKjo5Ot65w4cKqWLGiWrVqperVq9toQgB4fF29elXNmjVTQECAxo4de9dtN2/erL59++r48eMPaDrANggIIBeJi4tTXFycLBaLChQooHz58tl6JACAofPnz2v37t1q0qSJrUcBchQBAQAAAMCYna0HAAAAAPDwICAAAAAAGCMgAAAAABgjIAAAAAAYIyAAAJKkkydPysfHR7t375Ykde7cWQMHDnygMwQGBmry5Mn/+HF2794tHx8fPhUYAHIAHyQHALlU+/bt9eOPP8rB4db/VaelpcnZ2Vk1atRQnz59VLp06Rx9/jlz5hhve/HiRX333Xdq0aJFDk50y/HjxzVr1izt3r1bMTExKlCggHx9fdW+fXu98MILOf78APC44wgEAORir776qg4fPqzDhw/ryJEjWr16tZKTk9WmTRtdu3bN1uNZbd26VcuWLcvx5/n666/VokULeXh4aOnSpTp06JBWrVqlgIAAde/eXfPnz8/xGQDgcUdAAMBDpGjRogoNDVV0dLT2798vSQoKCtLkyZPVsmVLVa1aVZKUmpqq6dOnq169eqpQoYJq166tCRMmKCUlxfpY27ZtU/369VWhQgU1b948w6fntm/fXv3797d+vWvXLjVv3lx+fn4KCgrSlClTlJaWplGjRumTTz5RRESEypUrp++//17Sraho0aKFAgICVLVqVQ0YMEBXr161Pt7JkyfVtm1b+fv76+WXX9b69evv+trj4uL0wQcfqEmTJho0aJCKFCkii8UiT09P9ejRQ4MHD1Z8fHym+16+fFnvvvuuqlSpIj8/PzVo0EBr1661rk9MTNTw4cNVq1YtVahQQUFBQZo+fbpuf1TSDz/8oDfeeEMVK1ZUpUqVFBwcrBMnTtzz3wsAHkWcwgQAD5nk5GRJUp48eazLli9frrCwMGtATJkyRStXrtSUKVPk6+urn376ST169JAk9evXT+fPn1efPn3Us2dPvfXWWzp79uxdr3f45Zdf1LVrVw0ZMkSNGzfWb7/9pk6dOsnJyUmDBg1SdHS0Tp06paVLl0q69Yb7nXfeUVhYmF555RVdvnxZgwYNUq9evbRo0SKlpaWpZ8+e8vb21rfffqvU1FQNHz5csbGxd5zh+++/159//qk333wz0/Vt2rS5476DBw9WdHS0tmzZIhcXFy1dulSDBg2Sr6+vnnnmGYWHh2vv3r1auXKlPDw8dPjwYXXt2lW+vr6qXr26evbsqYEDB6pFixa6ceOGxo0bp8GDB2vJkiV3fE4AeFRxBAIAHhJpaWk6e/asRo4cqZIlSyogIMC67vYbXTs7O6WmpmrhwoXq0qWLypYtKzs7O5UtW1YdO3bU6tWrJUkbN25U/vz51bVrVzk6Oqp06dLq1KnTHZ97+fLlKlmypFq0aCFHR0f5+Pho0qRJ8vPzy3T7L7/8UrVr11aDBg3k4OAgLy8vvffee9q3b5+ioqJ05MgR/fbbb+rVq5dcXV3l5uamQYMGKTEx8Y4znD59Wnnz5lXx4sWz/L2bMGGCZs+eLTc3N9nb26tZs2ZKTU1VRESEJCk2NlZ2dnbKly+fJFmPpDz//PNKTExUQkKCnJycZG9vrwIFCujDDz8kHgA8tjgCAQC52KZNm7Rt2zbr1x4eHqpcubLmzp0rJycn6/ISJUpY/3716lX9+eefGjVqlEaPHm1dfvt0nMTERF24cEFeXl7WC7Ql6dlnn73jHJGRkRneuFeuXPmO2586dUqRkZEqV65cuuX29vY6e/as9fqNvz6mp6en3Nzc7viYFotFDg4Oslgsd9zmbvOMHz9eERERiouLsz7GzZs3JUlt27bVd999p5o1a6py5coKDAxUw4YNVahQIeXPn1/vvPOOPvzwQ02fPl3Vq1dXnTp1VKNGjSzPAQCPAgICAHKxV199VePHj7/ndn89nel2WHz22WeqV69eptvffuP8V7cDIzO3j2yYcnJyUsuWLTV06NBM169bty7T5Xd7jtKlSysuLk6nTp3K0h2orl+/ruDgYFWtWlVr1qyRl5eXUlJS5Ovra92mSJEiWrNmjSIiIrRr1y6tWbNGkydPVnh4uMqVK6c333xTzZs31/fff6/vvvtOPXv2VFBQkMaOHWs8BwA8KjiFCQAeMQUKFJCHh4eOHj2abvnly5etFxl7eXnp4sWL1uspJGW4iPqvSpYsqVOnTqVb9sMPP2jDhg2Zbl+qVKkMz3/jxg1dunRJ0q037JJ09uxZ6/rz58/f9RqIwMBAFS5cWBMmTMh0/cKFC9WuXbt0F4pL0okTJ6zXTnh5eUmSDh48mG6b+Ph4JSQkqHz58urWrZtWrlyp5557TmvWrJF066iOm5ubGjRooLCwME2bNk3r16/Xn3/+ecd5AeBRRUAAwCOoU6dOWrx4sXbs2KHk5GSdOnVKnTt3VlhYmCTppZde0rVr1zRnzhwlJibqxIkTd70F6htvvKFz585pzpw5unnzpk6ePKmQkBBrAOTLl0+XLl1SdHS0bty4oU6dOikiIkJz5sxRfHy8oqOjNXjwYHXq1EmpqakqX768PDw89Pnnn+vatWu6evWqwsLClDdv3jvO4OTkpFGjRumbb75Rnz59FBkZqbS0NP3xxx+aOnWqwsLC1KJFC9nb26fb76mnnpKDg4P27t2r5ORkHThwQDNnzpSrq6suXLggSerZs6c++OADXblyRdKtU7YuXLigUqVKad++fXrppZe0c+dOpaSkKDExUQcPHlThwoVVsGDBf/TvBAAPI05hAoBHUHBwsBISEvTRRx/p0qVLKliwoBo1aqR+/fpJkv79739r7Nixmjx5sqZOnaqnn35avXv3Vrdu3TJ9vFKlSik8PFwff/yxJkyYoMKFC6tZs2bWOyI1btxYW7du1QsvvKCRI0eqYcOGmjBhgj7//HONHz9eefLkUc2aNTVz5kzZ2dnJ0dFRs2bN0tChQ1WrVi0VKlRIffr00c8//3zX11WzZk2tWLFCX3zxhdq1a6eYmBgVLFhQ/v7++vLLL1WhQoUM+3h4eGjIkCGaMmWKpkyZogoVKmjEiBFaunSpwsPDZbFYFBYWphEjRqhevXq6efOmPDw81KhRI7Vu3Vp2dnYKCQnRyJEjdf78eTk5OcnX11fTp0+/r+sxAOBhZ0m720mvAAAAAPAXnMIEAAAAwBgBAQAAAMAYAQEAAADAGAEBAAAAwBgBAQAAAMAYAQEAAADAGAEBAAAAwBgBAQAAAMAYAQEAAADAGAEBAAAAwBgBAQAAAMAYAQEAAADA2P8DbneidUM30mAAAAAASUVORK5CYII=\n"
                },
                "metadata": {}
              }
            ]
          }
        },
        "8ddaa30e434a4f5885187d83c9941a48": {
          "model_module": "@jupyter-widgets/base",
          "model_name": "LayoutModel",
          "model_module_version": "1.2.0",
          "state": {
            "_model_module": "@jupyter-widgets/base",
            "_model_module_version": "1.2.0",
            "_model_name": "LayoutModel",
            "_view_count": null,
            "_view_module": "@jupyter-widgets/base",
            "_view_module_version": "1.2.0",
            "_view_name": "LayoutView",
            "align_content": null,
            "align_items": null,
            "align_self": null,
            "border": null,
            "bottom": null,
            "display": null,
            "flex": null,
            "flex_flow": null,
            "grid_area": null,
            "grid_auto_columns": null,
            "grid_auto_flow": null,
            "grid_auto_rows": null,
            "grid_column": null,
            "grid_gap": null,
            "grid_row": null,
            "grid_template_areas": null,
            "grid_template_columns": null,
            "grid_template_rows": null,
            "height": null,
            "justify_content": null,
            "justify_items": null,
            "left": null,
            "margin": null,
            "max_height": null,
            "max_width": null,
            "min_height": null,
            "min_width": null,
            "object_fit": null,
            "object_position": null,
            "order": null,
            "overflow": null,
            "overflow_x": null,
            "overflow_y": null,
            "padding": null,
            "right": null,
            "top": null,
            "visibility": null,
            "width": null
          }
        },
        "d326bf2ecaf749fca2d90277c6bff6ec": {
          "model_module": "@jupyter-widgets/base",
          "model_name": "LayoutModel",
          "model_module_version": "1.2.0",
          "state": {
            "_model_module": "@jupyter-widgets/base",
            "_model_module_version": "1.2.0",
            "_model_name": "LayoutModel",
            "_view_count": null,
            "_view_module": "@jupyter-widgets/base",
            "_view_module_version": "1.2.0",
            "_view_name": "LayoutView",
            "align_content": null,
            "align_items": null,
            "align_self": null,
            "border": null,
            "bottom": null,
            "display": null,
            "flex": null,
            "flex_flow": null,
            "grid_area": null,
            "grid_auto_columns": null,
            "grid_auto_flow": null,
            "grid_auto_rows": null,
            "grid_column": null,
            "grid_gap": null,
            "grid_row": null,
            "grid_template_areas": null,
            "grid_template_columns": null,
            "grid_template_rows": null,
            "height": null,
            "justify_content": null,
            "justify_items": null,
            "left": null,
            "margin": null,
            "max_height": null,
            "max_width": null,
            "min_height": null,
            "min_width": null,
            "object_fit": null,
            "object_position": null,
            "order": null,
            "overflow": null,
            "overflow_x": null,
            "overflow_y": null,
            "padding": null,
            "right": null,
            "top": null,
            "visibility": null,
            "width": null
          }
        },
        "51329bb51faf4742850320fee9eed1c4": {
          "model_module": "@jupyter-widgets/controls",
          "model_name": "ToggleButtonsStyleModel",
          "model_module_version": "1.5.0",
          "state": {
            "_model_module": "@jupyter-widgets/controls",
            "_model_module_version": "1.5.0",
            "_model_name": "ToggleButtonsStyleModel",
            "_view_count": null,
            "_view_module": "@jupyter-widgets/base",
            "_view_module_version": "1.2.0",
            "_view_name": "StyleView",
            "button_width": "",
            "description_width": "",
            "font_weight": ""
          }
        },
        "a8c60ab50059435c9504564363877fd4": {
          "model_module": "@jupyter-widgets/base",
          "model_name": "LayoutModel",
          "model_module_version": "1.2.0",
          "state": {
            "_model_module": "@jupyter-widgets/base",
            "_model_module_version": "1.2.0",
            "_model_name": "LayoutModel",
            "_view_count": null,
            "_view_module": "@jupyter-widgets/base",
            "_view_module_version": "1.2.0",
            "_view_name": "LayoutView",
            "align_content": null,
            "align_items": null,
            "align_self": null,
            "border": null,
            "bottom": null,
            "display": null,
            "flex": null,
            "flex_flow": null,
            "grid_area": null,
            "grid_auto_columns": null,
            "grid_auto_flow": null,
            "grid_auto_rows": null,
            "grid_column": null,
            "grid_gap": null,
            "grid_row": null,
            "grid_template_areas": null,
            "grid_template_columns": null,
            "grid_template_rows": null,
            "height": null,
            "justify_content": null,
            "justify_items": null,
            "left": null,
            "margin": null,
            "max_height": null,
            "max_width": null,
            "min_height": null,
            "min_width": null,
            "object_fit": null,
            "object_position": null,
            "order": null,
            "overflow": null,
            "overflow_x": null,
            "overflow_y": null,
            "padding": null,
            "right": null,
            "top": null,
            "visibility": null,
            "width": null
          }
        }
      }
    }
  },
  "cells": [
    {
      "cell_type": "markdown",
      "metadata": {
        "id": "view-in-github",
        "colab_type": "text"
      },
      "source": [
        "<a href=\"https://colab.research.google.com/github/rezaul61/Breast-Cancer-Prediction/blob/main/breast_cancer_detection.ipynb\" target=\"_parent\"><img src=\"https://colab.research.google.com/assets/colab-badge.svg\" alt=\"Open In Colab\"/></a>"
      ]
    },
    {
      "cell_type": "code",
      "execution_count": 1,
      "metadata": {
        "id": "NhE5Cw5cENAY"
      },
      "outputs": [],
      "source": [
        "import pandas as pd"
      ]
    },
    {
      "cell_type": "code",
      "source": [
        "data=pd.read_csv('/content/breast_cancer.csv')"
      ],
      "metadata": {
        "id": "wMM6oN8uHM7N"
      },
      "execution_count": 2,
      "outputs": []
    },
    {
      "cell_type": "code",
      "source": [
        "data.drop(['Sample code number'],axis=1,inplace=True)"
      ],
      "metadata": {
        "id": "CmgIiRrHNiZz"
      },
      "execution_count": 3,
      "outputs": []
    },
    {
      "cell_type": "code",
      "source": [
        "data.isnull().sum()"
      ],
      "metadata": {
        "colab": {
          "base_uri": "https://localhost:8080/",
          "height": 397
        },
        "id": "NeBwCmT5OBf2",
        "outputId": "80c70efb-3e12-4fce-b9cf-af6cad78264e"
      },
      "execution_count": 4,
      "outputs": [
        {
          "output_type": "execute_result",
          "data": {
            "text/plain": [
              "Clump Thickness                0\n",
              "Uniformity of Cell Size        0\n",
              "Uniformity of Cell Shape       0\n",
              "Marginal Adhesion              0\n",
              "Single Epithelial Cell Size    0\n",
              "Bare Nuclei                    0\n",
              "Bland Chromatin                0\n",
              "Normal Nucleoli                0\n",
              "Mitoses                        0\n",
              "Class                          0\n",
              "dtype: int64"
            ],
            "text/html": [
              "<div>\n",
              "<style scoped>\n",
              "    .dataframe tbody tr th:only-of-type {\n",
              "        vertical-align: middle;\n",
              "    }\n",
              "\n",
              "    .dataframe tbody tr th {\n",
              "        vertical-align: top;\n",
              "    }\n",
              "\n",
              "    .dataframe thead th {\n",
              "        text-align: right;\n",
              "    }\n",
              "</style>\n",
              "<table border=\"1\" class=\"dataframe\">\n",
              "  <thead>\n",
              "    <tr style=\"text-align: right;\">\n",
              "      <th></th>\n",
              "      <th>0</th>\n",
              "    </tr>\n",
              "  </thead>\n",
              "  <tbody>\n",
              "    <tr>\n",
              "      <th>Clump Thickness</th>\n",
              "      <td>0</td>\n",
              "    </tr>\n",
              "    <tr>\n",
              "      <th>Uniformity of Cell Size</th>\n",
              "      <td>0</td>\n",
              "    </tr>\n",
              "    <tr>\n",
              "      <th>Uniformity of Cell Shape</th>\n",
              "      <td>0</td>\n",
              "    </tr>\n",
              "    <tr>\n",
              "      <th>Marginal Adhesion</th>\n",
              "      <td>0</td>\n",
              "    </tr>\n",
              "    <tr>\n",
              "      <th>Single Epithelial Cell Size</th>\n",
              "      <td>0</td>\n",
              "    </tr>\n",
              "    <tr>\n",
              "      <th>Bare Nuclei</th>\n",
              "      <td>0</td>\n",
              "    </tr>\n",
              "    <tr>\n",
              "      <th>Bland Chromatin</th>\n",
              "      <td>0</td>\n",
              "    </tr>\n",
              "    <tr>\n",
              "      <th>Normal Nucleoli</th>\n",
              "      <td>0</td>\n",
              "    </tr>\n",
              "    <tr>\n",
              "      <th>Mitoses</th>\n",
              "      <td>0</td>\n",
              "    </tr>\n",
              "    <tr>\n",
              "      <th>Class</th>\n",
              "      <td>0</td>\n",
              "    </tr>\n",
              "  </tbody>\n",
              "</table>\n",
              "</div><br><label><b>dtype:</b> int64</label>"
            ]
          },
          "metadata": {},
          "execution_count": 4
        }
      ]
    },
    {
      "cell_type": "code",
      "source": [
        "x=data.iloc[:,:-1]"
      ],
      "metadata": {
        "id": "t4-8paXbOK2G"
      },
      "execution_count": 5,
      "outputs": []
    },
    {
      "cell_type": "code",
      "source": [
        "y=data.iloc[:,-1]"
      ],
      "metadata": {
        "id": "2w8QlkadObGP"
      },
      "execution_count": 6,
      "outputs": []
    },
    {
      "cell_type": "code",
      "source": [
        "from sklearn.model_selection import train_test_split"
      ],
      "metadata": {
        "id": "Es7kst5VQVLm"
      },
      "execution_count": 7,
      "outputs": []
    },
    {
      "cell_type": "code",
      "source": [
        "x_train,x_test,y_train,y_test=train_test_split(x,y,test_size=0.2,random_state=0)"
      ],
      "metadata": {
        "id": "PAyYhjuSRAO_"
      },
      "execution_count": 8,
      "outputs": []
    },
    {
      "cell_type": "code",
      "source": [
        "from sklearn.linear_model import LogisticRegression"
      ],
      "metadata": {
        "id": "vzBZnDboRpEg"
      },
      "execution_count": 9,
      "outputs": []
    },
    {
      "cell_type": "code",
      "source": [
        "linear_model=LogisticRegression(random_state=0).fit(x_train,y_train)"
      ],
      "metadata": {
        "id": "K3u9Bc_6R_JB"
      },
      "execution_count": 10,
      "outputs": []
    },
    {
      "cell_type": "code",
      "source": [
        "predicted_y=linear_model.predict(x_test)"
      ],
      "metadata": {
        "id": "hHF0jQ8KSgKq"
      },
      "execution_count": 11,
      "outputs": []
    },
    {
      "cell_type": "code",
      "source": [
        "pd.DataFrame(predicted_y)"
      ],
      "metadata": {
        "colab": {
          "base_uri": "https://localhost:8080/",
          "height": 423
        },
        "id": "34lUYEakUDnk",
        "outputId": "bb0e0baa-97d1-45d5-b01b-81df66a9c817"
      },
      "execution_count": 12,
      "outputs": [
        {
          "output_type": "execute_result",
          "data": {
            "text/plain": [
              "     0\n",
              "0    2\n",
              "1    2\n",
              "2    4\n",
              "3    4\n",
              "4    2\n",
              "..  ..\n",
              "132  4\n",
              "133  2\n",
              "134  2\n",
              "135  4\n",
              "136  2\n",
              "\n",
              "[137 rows x 1 columns]"
            ],
            "text/html": [
              "\n",
              "  <div id=\"df-0f13e56c-2ba2-4f19-bcc9-10753bc596ee\" class=\"colab-df-container\">\n",
              "    <div>\n",
              "<style scoped>\n",
              "    .dataframe tbody tr th:only-of-type {\n",
              "        vertical-align: middle;\n",
              "    }\n",
              "\n",
              "    .dataframe tbody tr th {\n",
              "        vertical-align: top;\n",
              "    }\n",
              "\n",
              "    .dataframe thead th {\n",
              "        text-align: right;\n",
              "    }\n",
              "</style>\n",
              "<table border=\"1\" class=\"dataframe\">\n",
              "  <thead>\n",
              "    <tr style=\"text-align: right;\">\n",
              "      <th></th>\n",
              "      <th>0</th>\n",
              "    </tr>\n",
              "  </thead>\n",
              "  <tbody>\n",
              "    <tr>\n",
              "      <th>0</th>\n",
              "      <td>2</td>\n",
              "    </tr>\n",
              "    <tr>\n",
              "      <th>1</th>\n",
              "      <td>2</td>\n",
              "    </tr>\n",
              "    <tr>\n",
              "      <th>2</th>\n",
              "      <td>4</td>\n",
              "    </tr>\n",
              "    <tr>\n",
              "      <th>3</th>\n",
              "      <td>4</td>\n",
              "    </tr>\n",
              "    <tr>\n",
              "      <th>4</th>\n",
              "      <td>2</td>\n",
              "    </tr>\n",
              "    <tr>\n",
              "      <th>...</th>\n",
              "      <td>...</td>\n",
              "    </tr>\n",
              "    <tr>\n",
              "      <th>132</th>\n",
              "      <td>4</td>\n",
              "    </tr>\n",
              "    <tr>\n",
              "      <th>133</th>\n",
              "      <td>2</td>\n",
              "    </tr>\n",
              "    <tr>\n",
              "      <th>134</th>\n",
              "      <td>2</td>\n",
              "    </tr>\n",
              "    <tr>\n",
              "      <th>135</th>\n",
              "      <td>4</td>\n",
              "    </tr>\n",
              "    <tr>\n",
              "      <th>136</th>\n",
              "      <td>2</td>\n",
              "    </tr>\n",
              "  </tbody>\n",
              "</table>\n",
              "<p>137 rows × 1 columns</p>\n",
              "</div>\n",
              "    <div class=\"colab-df-buttons\">\n",
              "\n",
              "  <div class=\"colab-df-container\">\n",
              "    <button class=\"colab-df-convert\" onclick=\"convertToInteractive('df-0f13e56c-2ba2-4f19-bcc9-10753bc596ee')\"\n",
              "            title=\"Convert this dataframe to an interactive table.\"\n",
              "            style=\"display:none;\">\n",
              "\n",
              "  <svg xmlns=\"http://www.w3.org/2000/svg\" height=\"24px\" viewBox=\"0 -960 960 960\">\n",
              "    <path d=\"M120-120v-720h720v720H120Zm60-500h600v-160H180v160Zm220 220h160v-160H400v160Zm0 220h160v-160H400v160ZM180-400h160v-160H180v160Zm440 0h160v-160H620v160ZM180-180h160v-160H180v160Zm440 0h160v-160H620v160Z\"/>\n",
              "  </svg>\n",
              "    </button>\n",
              "\n",
              "  <style>\n",
              "    .colab-df-container {\n",
              "      display:flex;\n",
              "      gap: 12px;\n",
              "    }\n",
              "\n",
              "    .colab-df-convert {\n",
              "      background-color: #E8F0FE;\n",
              "      border: none;\n",
              "      border-radius: 50%;\n",
              "      cursor: pointer;\n",
              "      display: none;\n",
              "      fill: #1967D2;\n",
              "      height: 32px;\n",
              "      padding: 0 0 0 0;\n",
              "      width: 32px;\n",
              "    }\n",
              "\n",
              "    .colab-df-convert:hover {\n",
              "      background-color: #E2EBFA;\n",
              "      box-shadow: 0px 1px 2px rgba(60, 64, 67, 0.3), 0px 1px 3px 1px rgba(60, 64, 67, 0.15);\n",
              "      fill: #174EA6;\n",
              "    }\n",
              "\n",
              "    .colab-df-buttons div {\n",
              "      margin-bottom: 4px;\n",
              "    }\n",
              "\n",
              "    [theme=dark] .colab-df-convert {\n",
              "      background-color: #3B4455;\n",
              "      fill: #D2E3FC;\n",
              "    }\n",
              "\n",
              "    [theme=dark] .colab-df-convert:hover {\n",
              "      background-color: #434B5C;\n",
              "      box-shadow: 0px 1px 3px 1px rgba(0, 0, 0, 0.15);\n",
              "      filter: drop-shadow(0px 1px 2px rgba(0, 0, 0, 0.3));\n",
              "      fill: #FFFFFF;\n",
              "    }\n",
              "  </style>\n",
              "\n",
              "    <script>\n",
              "      const buttonEl =\n",
              "        document.querySelector('#df-0f13e56c-2ba2-4f19-bcc9-10753bc596ee button.colab-df-convert');\n",
              "      buttonEl.style.display =\n",
              "        google.colab.kernel.accessAllowed ? 'block' : 'none';\n",
              "\n",
              "      async function convertToInteractive(key) {\n",
              "        const element = document.querySelector('#df-0f13e56c-2ba2-4f19-bcc9-10753bc596ee');\n",
              "        const dataTable =\n",
              "          await google.colab.kernel.invokeFunction('convertToInteractive',\n",
              "                                                    [key], {});\n",
              "        if (!dataTable) return;\n",
              "\n",
              "        const docLinkHtml = 'Like what you see? Visit the ' +\n",
              "          '<a target=\"_blank\" href=https://colab.research.google.com/notebooks/data_table.ipynb>data table notebook</a>'\n",
              "          + ' to learn more about interactive tables.';\n",
              "        element.innerHTML = '';\n",
              "        dataTable['output_type'] = 'display_data';\n",
              "        await google.colab.output.renderOutput(dataTable, element);\n",
              "        const docLink = document.createElement('div');\n",
              "        docLink.innerHTML = docLinkHtml;\n",
              "        element.appendChild(docLink);\n",
              "      }\n",
              "    </script>\n",
              "  </div>\n",
              "\n",
              "\n",
              "<div id=\"df-25ff3b3a-1953-4440-93c8-bc2de22587b3\">\n",
              "  <button class=\"colab-df-quickchart\" onclick=\"quickchart('df-25ff3b3a-1953-4440-93c8-bc2de22587b3')\"\n",
              "            title=\"Suggest charts\"\n",
              "            style=\"display:none;\">\n",
              "\n",
              "<svg xmlns=\"http://www.w3.org/2000/svg\" height=\"24px\"viewBox=\"0 0 24 24\"\n",
              "     width=\"24px\">\n",
              "    <g>\n",
              "        <path d=\"M19 3H5c-1.1 0-2 .9-2 2v14c0 1.1.9 2 2 2h14c1.1 0 2-.9 2-2V5c0-1.1-.9-2-2-2zM9 17H7v-7h2v7zm4 0h-2V7h2v10zm4 0h-2v-4h2v4z\"/>\n",
              "    </g>\n",
              "</svg>\n",
              "  </button>\n",
              "\n",
              "<style>\n",
              "  .colab-df-quickchart {\n",
              "      --bg-color: #E8F0FE;\n",
              "      --fill-color: #1967D2;\n",
              "      --hover-bg-color: #E2EBFA;\n",
              "      --hover-fill-color: #174EA6;\n",
              "      --disabled-fill-color: #AAA;\n",
              "      --disabled-bg-color: #DDD;\n",
              "  }\n",
              "\n",
              "  [theme=dark] .colab-df-quickchart {\n",
              "      --bg-color: #3B4455;\n",
              "      --fill-color: #D2E3FC;\n",
              "      --hover-bg-color: #434B5C;\n",
              "      --hover-fill-color: #FFFFFF;\n",
              "      --disabled-bg-color: #3B4455;\n",
              "      --disabled-fill-color: #666;\n",
              "  }\n",
              "\n",
              "  .colab-df-quickchart {\n",
              "    background-color: var(--bg-color);\n",
              "    border: none;\n",
              "    border-radius: 50%;\n",
              "    cursor: pointer;\n",
              "    display: none;\n",
              "    fill: var(--fill-color);\n",
              "    height: 32px;\n",
              "    padding: 0;\n",
              "    width: 32px;\n",
              "  }\n",
              "\n",
              "  .colab-df-quickchart:hover {\n",
              "    background-color: var(--hover-bg-color);\n",
              "    box-shadow: 0 1px 2px rgba(60, 64, 67, 0.3), 0 1px 3px 1px rgba(60, 64, 67, 0.15);\n",
              "    fill: var(--button-hover-fill-color);\n",
              "  }\n",
              "\n",
              "  .colab-df-quickchart-complete:disabled,\n",
              "  .colab-df-quickchart-complete:disabled:hover {\n",
              "    background-color: var(--disabled-bg-color);\n",
              "    fill: var(--disabled-fill-color);\n",
              "    box-shadow: none;\n",
              "  }\n",
              "\n",
              "  .colab-df-spinner {\n",
              "    border: 2px solid var(--fill-color);\n",
              "    border-color: transparent;\n",
              "    border-bottom-color: var(--fill-color);\n",
              "    animation:\n",
              "      spin 1s steps(1) infinite;\n",
              "  }\n",
              "\n",
              "  @keyframes spin {\n",
              "    0% {\n",
              "      border-color: transparent;\n",
              "      border-bottom-color: var(--fill-color);\n",
              "      border-left-color: var(--fill-color);\n",
              "    }\n",
              "    20% {\n",
              "      border-color: transparent;\n",
              "      border-left-color: var(--fill-color);\n",
              "      border-top-color: var(--fill-color);\n",
              "    }\n",
              "    30% {\n",
              "      border-color: transparent;\n",
              "      border-left-color: var(--fill-color);\n",
              "      border-top-color: var(--fill-color);\n",
              "      border-right-color: var(--fill-color);\n",
              "    }\n",
              "    40% {\n",
              "      border-color: transparent;\n",
              "      border-right-color: var(--fill-color);\n",
              "      border-top-color: var(--fill-color);\n",
              "    }\n",
              "    60% {\n",
              "      border-color: transparent;\n",
              "      border-right-color: var(--fill-color);\n",
              "    }\n",
              "    80% {\n",
              "      border-color: transparent;\n",
              "      border-right-color: var(--fill-color);\n",
              "      border-bottom-color: var(--fill-color);\n",
              "    }\n",
              "    90% {\n",
              "      border-color: transparent;\n",
              "      border-bottom-color: var(--fill-color);\n",
              "    }\n",
              "  }\n",
              "</style>\n",
              "\n",
              "  <script>\n",
              "    async function quickchart(key) {\n",
              "      const quickchartButtonEl =\n",
              "        document.querySelector('#' + key + ' button');\n",
              "      quickchartButtonEl.disabled = true;  // To prevent multiple clicks.\n",
              "      quickchartButtonEl.classList.add('colab-df-spinner');\n",
              "      try {\n",
              "        const charts = await google.colab.kernel.invokeFunction(\n",
              "            'suggestCharts', [key], {});\n",
              "      } catch (error) {\n",
              "        console.error('Error during call to suggestCharts:', error);\n",
              "      }\n",
              "      quickchartButtonEl.classList.remove('colab-df-spinner');\n",
              "      quickchartButtonEl.classList.add('colab-df-quickchart-complete');\n",
              "    }\n",
              "    (() => {\n",
              "      let quickchartButtonEl =\n",
              "        document.querySelector('#df-25ff3b3a-1953-4440-93c8-bc2de22587b3 button');\n",
              "      quickchartButtonEl.style.display =\n",
              "        google.colab.kernel.accessAllowed ? 'block' : 'none';\n",
              "    })();\n",
              "  </script>\n",
              "</div>\n",
              "\n",
              "    </div>\n",
              "  </div>\n"
            ],
            "application/vnd.google.colaboratory.intrinsic+json": {
              "type": "dataframe",
              "summary": "{\n  \"name\": \"pd\",\n  \"rows\": 137,\n  \"fields\": [\n    {\n      \"column\": 0,\n      \"properties\": {\n        \"dtype\": \"number\",\n        \"std\": 0,\n        \"min\": 2,\n        \"max\": 4,\n        \"num_unique_values\": 2,\n        \"samples\": [\n          4,\n          2\n        ],\n        \"semantic_type\": \"\",\n        \"description\": \"\"\n      }\n    }\n  ]\n}"
            }
          },
          "metadata": {},
          "execution_count": 12
        }
      ]
    },
    {
      "cell_type": "code",
      "source": [
        "y_test"
      ],
      "metadata": {
        "colab": {
          "base_uri": "https://localhost:8080/",
          "height": 458
        },
        "id": "oed8O05vUZg8",
        "outputId": "8e255358-1d6f-4bcb-f288-91a8d4fd7748"
      },
      "execution_count": 13,
      "outputs": [
        {
          "output_type": "execute_result",
          "data": {
            "text/plain": [
              "113    2\n",
              "378    2\n",
              "303    4\n",
              "504    4\n",
              "301    2\n",
              "      ..\n",
              "21     4\n",
              "454    2\n",
              "506    2\n",
              "500    4\n",
              "77     2\n",
              "Name: Class, Length: 137, dtype: int64"
            ],
            "text/html": [
              "<div>\n",
              "<style scoped>\n",
              "    .dataframe tbody tr th:only-of-type {\n",
              "        vertical-align: middle;\n",
              "    }\n",
              "\n",
              "    .dataframe tbody tr th {\n",
              "        vertical-align: top;\n",
              "    }\n",
              "\n",
              "    .dataframe thead th {\n",
              "        text-align: right;\n",
              "    }\n",
              "</style>\n",
              "<table border=\"1\" class=\"dataframe\">\n",
              "  <thead>\n",
              "    <tr style=\"text-align: right;\">\n",
              "      <th></th>\n",
              "      <th>Class</th>\n",
              "    </tr>\n",
              "  </thead>\n",
              "  <tbody>\n",
              "    <tr>\n",
              "      <th>113</th>\n",
              "      <td>2</td>\n",
              "    </tr>\n",
              "    <tr>\n",
              "      <th>378</th>\n",
              "      <td>2</td>\n",
              "    </tr>\n",
              "    <tr>\n",
              "      <th>303</th>\n",
              "      <td>4</td>\n",
              "    </tr>\n",
              "    <tr>\n",
              "      <th>504</th>\n",
              "      <td>4</td>\n",
              "    </tr>\n",
              "    <tr>\n",
              "      <th>301</th>\n",
              "      <td>2</td>\n",
              "    </tr>\n",
              "    <tr>\n",
              "      <th>...</th>\n",
              "      <td>...</td>\n",
              "    </tr>\n",
              "    <tr>\n",
              "      <th>21</th>\n",
              "      <td>4</td>\n",
              "    </tr>\n",
              "    <tr>\n",
              "      <th>454</th>\n",
              "      <td>2</td>\n",
              "    </tr>\n",
              "    <tr>\n",
              "      <th>506</th>\n",
              "      <td>2</td>\n",
              "    </tr>\n",
              "    <tr>\n",
              "      <th>500</th>\n",
              "      <td>4</td>\n",
              "    </tr>\n",
              "    <tr>\n",
              "      <th>77</th>\n",
              "      <td>2</td>\n",
              "    </tr>\n",
              "  </tbody>\n",
              "</table>\n",
              "<p>137 rows × 1 columns</p>\n",
              "</div><br><label><b>dtype:</b> int64</label>"
            ]
          },
          "metadata": {},
          "execution_count": 13
        }
      ]
    },
    {
      "cell_type": "code",
      "source": [
        "linear_model.score(x_test,y_test)"
      ],
      "metadata": {
        "colab": {
          "base_uri": "https://localhost:8080/"
        },
        "id": "_VfkIwUiUcx5",
        "outputId": "7292074e-4d4c-4af5-97c2-cebff9078be9"
      },
      "execution_count": 14,
      "outputs": [
        {
          "output_type": "execute_result",
          "data": {
            "text/plain": [
              "0.9562043795620438"
            ]
          },
          "metadata": {},
          "execution_count": 14
        }
      ]
    },
    {
      "cell_type": "code",
      "source": [
        "from sklearn.metrics import confusion_matrix\n",
        "cm=confusion_matrix(y_test,predicted_y)"
      ],
      "metadata": {
        "id": "YsCt9sbUfVci"
      },
      "execution_count": 15,
      "outputs": []
    },
    {
      "cell_type": "code",
      "source": [
        "import seaborn as sns"
      ],
      "metadata": {
        "id": "ICJ8SZYkkm7e"
      },
      "execution_count": 16,
      "outputs": []
    },
    {
      "cell_type": "code",
      "source": [
        "sns.heatmap(cm, vmin=None, vmax=None, cmap=None, center=None, robust=False, annot=True, fmt='.2g', annot_kws=None, linewidths=0, linecolor='white', cbar=True, cbar_kws=None, cbar_ax=None, square=False, xticklabels='auto', yticklabels='auto', mask=None, ax=None)"
      ],
      "metadata": {
        "colab": {
          "base_uri": "https://localhost:8080/",
          "height": 447
        },
        "id": "sNvsovLCgPOT",
        "outputId": "73a53720-eff7-44cb-e616-bc64d6c1aa51"
      },
      "execution_count": 17,
      "outputs": [
        {
          "output_type": "execute_result",
          "data": {
            "text/plain": [
              "<Axes: >"
            ]
          },
          "metadata": {},
          "execution_count": 17
        },
        {
          "output_type": "display_data",
          "data": {
            "text/plain": [
              "<Figure size 640x480 with 2 Axes>"
            ],
            "image/png": "[encoded data removed]"
          },
          "metadata": {}
        }
      ]
    },
    {
      "cell_type": "markdown",
      "source": [
        "##By Using Pycaret\n"
      ],
      "metadata": {
        "id": "HTf9ZUqjSOri"
      }
    },
    {
      "cell_type": "code",
      "source": [],
      "metadata": {
        "id": "8MgZoRZRSVC3"
      },
      "execution_count": null,
      "outputs": []
    },
    {
      "cell_type": "code",
      "source": [
        "from pycaret.classification import *"
      ],
      "metadata": {
        "id": "PPFva4vXjtnp"
      },
      "execution_count": 31,
      "outputs": []
    },
    {
      "cell_type": "code",
      "source": [
        "model=setup(data,target=\"Class\",numeric_imputation=\"median\",log_experiment=False,remove_multicollinearity=True,\n",
        "            transformation=True,normalize=True,train_size=0.8,)"
      ],
      "metadata": {
        "colab": {
          "base_uri": "https://localhost:8080/",
          "height": 864
        },
        "id": "XeRBhdi2j1z6",
        "outputId": "5245d18b-554c-476d-cc57-af103c78abde"
      },
      "execution_count": 33,
      "outputs": [
        {
          "output_type": "display_data",
          "data": {
            "text/plain": [
              "<pandas.io.formats.style.Styler at 0x7ddba642e9d0>"
            ],
            "text/html": [
              "<style type=\"text/css\">\n",
              "#T_fe1ec_row9_col1, #T_fe1ec_row13_col1, #T_fe1ec_row15_col1, #T_fe1ec_row17_col1 {\n",
              "  background-color: lightgreen;\n",
              "}\n",
              "</style>\n",
              "<table id=\"T_fe1ec\" class=\"dataframe\">\n",
              "  <thead>\n",
              "    <tr>\n",
              "      <th class=\"blank level0\" >&nbsp;</th>\n",
              "      <th id=\"T_fe1ec_level0_col0\" class=\"col_heading level0 col0\" >Description</th>\n",
              "      <th id=\"T_fe1ec_level0_col1\" class=\"col_heading level0 col1\" >Value</th>\n",
              "    </tr>\n",
              "  </thead>\n",
              "  <tbody>\n",
              "    <tr>\n",
              "      <th id=\"T_fe1ec_level0_row0\" class=\"row_heading level0 row0\" >0</th>\n",
              "      <td id=\"T_fe1ec_row0_col0\" class=\"data row0 col0\" >Session id</td>\n",
              "      <td id=\"T_fe1ec_row0_col1\" class=\"data row0 col1\" >8012</td>\n",
              "    </tr>\n",
              "    <tr>\n",
              "      <th id=\"T_fe1ec_level0_row1\" class=\"row_heading level0 row1\" >1</th>\n",
              "      <td id=\"T_fe1ec_row1_col0\" class=\"data row1 col0\" >Target</td>\n",
              "      <td id=\"T_fe1ec_row1_col1\" class=\"data row1 col1\" >Class</td>\n",
              "    </tr>\n",
              "    <tr>\n",
              "      <th id=\"T_fe1ec_level0_row2\" class=\"row_heading level0 row2\" >2</th>\n",
              "      <td id=\"T_fe1ec_row2_col0\" class=\"data row2 col0\" >Target type</td>\n",
              "      <td id=\"T_fe1ec_row2_col1\" class=\"data row2 col1\" >Binary</td>\n",
              "    </tr>\n",
              "    <tr>\n",
              "      <th id=\"T_fe1ec_level0_row3\" class=\"row_heading level0 row3\" >3</th>\n",
              "      <td id=\"T_fe1ec_row3_col0\" class=\"data row3 col0\" >Target mapping</td>\n",
              "      <td id=\"T_fe1ec_row3_col1\" class=\"data row3 col1\" >2: 0, 4: 1</td>\n",
              "    </tr>\n",
              "    <tr>\n",
              "      <th id=\"T_fe1ec_level0_row4\" class=\"row_heading level0 row4\" >4</th>\n",
              "      <td id=\"T_fe1ec_row4_col0\" class=\"data row4 col0\" >Original data shape</td>\n",
              "      <td id=\"T_fe1ec_row4_col1\" class=\"data row4 col1\" >(683, 10)</td>\n",
              "    </tr>\n",
              "    <tr>\n",
              "      <th id=\"T_fe1ec_level0_row5\" class=\"row_heading level0 row5\" >5</th>\n",
              "      <td id=\"T_fe1ec_row5_col0\" class=\"data row5 col0\" >Transformed data shape</td>\n",
              "      <td id=\"T_fe1ec_row5_col1\" class=\"data row5 col1\" >(683, 10)</td>\n",
              "    </tr>\n",
              "    <tr>\n",
              "      <th id=\"T_fe1ec_level0_row6\" class=\"row_heading level0 row6\" >6</th>\n",
              "      <td id=\"T_fe1ec_row6_col0\" class=\"data row6 col0\" >Transformed train set shape</td>\n",
              "      <td id=\"T_fe1ec_row6_col1\" class=\"data row6 col1\" >(546, 10)</td>\n",
              "    </tr>\n",
              "    <tr>\n",
              "      <th id=\"T_fe1ec_level0_row7\" class=\"row_heading level0 row7\" >7</th>\n",
              "      <td id=\"T_fe1ec_row7_col0\" class=\"data row7 col0\" >Transformed test set shape</td>\n",
              "      <td id=\"T_fe1ec_row7_col1\" class=\"data row7 col1\" >(137, 10)</td>\n",
              "    </tr>\n",
              "    <tr>\n",
              "      <th id=\"T_fe1ec_level0_row8\" class=\"row_heading level0 row8\" >8</th>\n",
              "      <td id=\"T_fe1ec_row8_col0\" class=\"data row8 col0\" >Numeric features</td>\n",
              "      <td id=\"T_fe1ec_row8_col1\" class=\"data row8 col1\" >9</td>\n",
              "    </tr>\n",
              "    <tr>\n",
              "      <th id=\"T_fe1ec_level0_row9\" class=\"row_heading level0 row9\" >9</th>\n",
              "      <td id=\"T_fe1ec_row9_col0\" class=\"data row9 col0\" >Preprocess</td>\n",
              "      <td id=\"T_fe1ec_row9_col1\" class=\"data row9 col1\" >True</td>\n",
              "    </tr>\n",
              "    <tr>\n",
              "      <th id=\"T_fe1ec_level0_row10\" class=\"row_heading level0 row10\" >10</th>\n",
              "      <td id=\"T_fe1ec_row10_col0\" class=\"data row10 col0\" >Imputation type</td>\n",
              "      <td id=\"T_fe1ec_row10_col1\" class=\"data row10 col1\" >simple</td>\n",
              "    </tr>\n",
              "    <tr>\n",
              "      <th id=\"T_fe1ec_level0_row11\" class=\"row_heading level0 row11\" >11</th>\n",
              "      <td id=\"T_fe1ec_row11_col0\" class=\"data row11 col0\" >Numeric imputation</td>\n",
              "      <td id=\"T_fe1ec_row11_col1\" class=\"data row11 col1\" >median</td>\n",
              "    </tr>\n",
              "    <tr>\n",
              "      <th id=\"T_fe1ec_level0_row12\" class=\"row_heading level0 row12\" >12</th>\n",
              "      <td id=\"T_fe1ec_row12_col0\" class=\"data row12 col0\" >Categorical imputation</td>\n",
              "      <td id=\"T_fe1ec_row12_col1\" class=\"data row12 col1\" >mode</td>\n",
              "    </tr>\n",
              "    <tr>\n",
              "      <th id=\"T_fe1ec_level0_row13\" class=\"row_heading level0 row13\" >13</th>\n",
              "      <td id=\"T_fe1ec_row13_col0\" class=\"data row13 col0\" >Remove multicollinearity</td>\n",
              "      <td id=\"T_fe1ec_row13_col1\" class=\"data row13 col1\" >True</td>\n",
              "    </tr>\n",
              "    <tr>\n",
              "      <th id=\"T_fe1ec_level0_row14\" class=\"row_heading level0 row14\" >14</th>\n",
              "      <td id=\"T_fe1ec_row14_col0\" class=\"data row14 col0\" >Multicollinearity threshold</td>\n",
              "      <td id=\"T_fe1ec_row14_col1\" class=\"data row14 col1\" >0.900000</td>\n",
              "    </tr>\n",
              "    <tr>\n",
              "      <th id=\"T_fe1ec_level0_row15\" class=\"row_heading level0 row15\" >15</th>\n",
              "      <td id=\"T_fe1ec_row15_col0\" class=\"data row15 col0\" >Transformation</td>\n",
              "      <td id=\"T_fe1ec_row15_col1\" class=\"data row15 col1\" >True</td>\n",
              "    </tr>\n",
              "    <tr>\n",
              "      <th id=\"T_fe1ec_level0_row16\" class=\"row_heading level0 row16\" >16</th>\n",
              "      <td id=\"T_fe1ec_row16_col0\" class=\"data row16 col0\" >Transformation method</td>\n",
              "      <td id=\"T_fe1ec_row16_col1\" class=\"data row16 col1\" >yeo-johnson</td>\n",
              "    </tr>\n",
              "    <tr>\n",
              "      <th id=\"T_fe1ec_level0_row17\" class=\"row_heading level0 row17\" >17</th>\n",
              "      <td id=\"T_fe1ec_row17_col0\" class=\"data row17 col0\" >Normalize</td>\n",
              "      <td id=\"T_fe1ec_row17_col1\" class=\"data row17 col1\" >True</td>\n",
              "    </tr>\n",
              "    <tr>\n",
              "      <th id=\"T_fe1ec_level0_row18\" class=\"row_heading level0 row18\" >18</th>\n",
              "      <td id=\"T_fe1ec_row18_col0\" class=\"data row18 col0\" >Normalize method</td>\n",
              "      <td id=\"T_fe1ec_row18_col1\" class=\"data row18 col1\" >zscore</td>\n",
              "    </tr>\n",
              "    <tr>\n",
              "      <th id=\"T_fe1ec_level0_row19\" class=\"row_heading level0 row19\" >19</th>\n",
              "      <td id=\"T_fe1ec_row19_col0\" class=\"data row19 col0\" >Fold Generator</td>\n",
              "      <td id=\"T_fe1ec_row19_col1\" class=\"data row19 col1\" >StratifiedKFold</td>\n",
              "    </tr>\n",
              "    <tr>\n",
              "      <th id=\"T_fe1ec_level0_row20\" class=\"row_heading level0 row20\" >20</th>\n",
              "      <td id=\"T_fe1ec_row20_col0\" class=\"data row20 col0\" >Fold Number</td>\n",
              "      <td id=\"T_fe1ec_row20_col1\" class=\"data row20 col1\" >10</td>\n",
              "    </tr>\n",
              "    <tr>\n",
              "      <th id=\"T_fe1ec_level0_row21\" class=\"row_heading level0 row21\" >21</th>\n",
              "      <td id=\"T_fe1ec_row21_col0\" class=\"data row21 col0\" >CPU Jobs</td>\n",
              "      <td id=\"T_fe1ec_row21_col1\" class=\"data row21 col1\" >-1</td>\n",
              "    </tr>\n",
              "    <tr>\n",
              "      <th id=\"T_fe1ec_level0_row22\" class=\"row_heading level0 row22\" >22</th>\n",
              "      <td id=\"T_fe1ec_row22_col0\" class=\"data row22 col0\" >Use GPU</td>\n",
              "      <td id=\"T_fe1ec_row22_col1\" class=\"data row22 col1\" >False</td>\n",
              "    </tr>\n",
              "    <tr>\n",
              "      <th id=\"T_fe1ec_level0_row23\" class=\"row_heading level0 row23\" >23</th>\n",
              "      <td id=\"T_fe1ec_row23_col0\" class=\"data row23 col0\" >Log Experiment</td>\n",
              "      <td id=\"T_fe1ec_row23_col1\" class=\"data row23 col1\" >False</td>\n",
              "    </tr>\n",
              "    <tr>\n",
              "      <th id=\"T_fe1ec_level0_row24\" class=\"row_heading level0 row24\" >24</th>\n",
              "      <td id=\"T_fe1ec_row24_col0\" class=\"data row24 col0\" >Experiment Name</td>\n",
              "      <td id=\"T_fe1ec_row24_col1\" class=\"data row24 col1\" >clf-default-name</td>\n",
              "    </tr>\n",
              "    <tr>\n",
              "      <th id=\"T_fe1ec_level0_row25\" class=\"row_heading level0 row25\" >25</th>\n",
              "      <td id=\"T_fe1ec_row25_col0\" class=\"data row25 col0\" >USI</td>\n",
              "      <td id=\"T_fe1ec_row25_col1\" class=\"data row25 col1\" >f8b9</td>\n",
              "    </tr>\n",
              "  </tbody>\n",
              "</table>\n"
            ]
          },
          "metadata": {}
        }
      ]
    },
    {
      "cell_type": "code",
      "source": [
        "best_model=compare_models()"
      ],
      "metadata": {
        "colab": {
          "base_uri": "https://localhost:8080/",
          "height": 519,
          "referenced_widgets": [
            "6b0cc4e86c67458ca47c2e9ec1b01a5d",
            "40bee1ec61b644a592d06934d56872ec",
            "6374ed808b7c4843b45a125c727c734f",
            "941b3076e80846e582bfe6580b78a6de",
            "f10027a3dcb842fb858e5a11ee82791c",
            "6f81bf5993a4483a9d650f392818286b",
            "f8400b5605c44a239f27b476abbe32c8",
            "3f399bb56a994ee4b630cf2f99c22a5b",
            "74ffc18fe42d42e7a0114e0bd99ce058",
            "f692e4099a64479ebf70f0accc8127f7",
            "67121aa46774441d97db713afae02607"
          ]
        },
        "id": "Vbtdjwril4sy",
        "outputId": "ea6cde09-c49d-45ea-aa37-c93a80fd97da"
      },
      "execution_count": 34,
      "outputs": [
        {
          "output_type": "display_data",
          "data": {
            "text/plain": [
              "<IPython.core.display.HTML object>"
            ],
            "text/html": []
          },
          "metadata": {}
        },
        {
          "output_type": "display_data",
          "data": {
            "text/plain": [
              "<pandas.io.formats.style.Styler at 0x7ddb9057e590>"
            ],
            "text/html": [
              "<style type=\"text/css\">\n",
              "#T_7dc52 th {\n",
              "  text-align: left;\n",
              "}\n",
              "#T_7dc52_row0_col0, #T_7dc52_row0_col2, #T_7dc52_row1_col0, #T_7dc52_row1_col1, #T_7dc52_row1_col2, #T_7dc52_row1_col3, #T_7dc52_row1_col4, #T_7dc52_row1_col5, #T_7dc52_row1_col6, #T_7dc52_row1_col7, #T_7dc52_row2_col0, #T_7dc52_row2_col1, #T_7dc52_row2_col2, #T_7dc52_row2_col3, #T_7dc52_row2_col4, #T_7dc52_row2_col5, #T_7dc52_row2_col6, #T_7dc52_row2_col7, #T_7dc52_row3_col0, #T_7dc52_row3_col1, #T_7dc52_row3_col2, #T_7dc52_row3_col3, #T_7dc52_row3_col4, #T_7dc52_row3_col5, #T_7dc52_row3_col6, #T_7dc52_row3_col7, #T_7dc52_row4_col0, #T_7dc52_row4_col1, #T_7dc52_row4_col2, #T_7dc52_row4_col3, #T_7dc52_row4_col4, #T_7dc52_row4_col5, #T_7dc52_row4_col6, #T_7dc52_row4_col7, #T_7dc52_row5_col0, #T_7dc52_row5_col1, #T_7dc52_row5_col2, #T_7dc52_row5_col3, #T_7dc52_row5_col4, #T_7dc52_row5_col5, #T_7dc52_row5_col6, #T_7dc52_row5_col7, #T_7dc52_row6_col0, #T_7dc52_row6_col1, #T_7dc52_row6_col3, #T_7dc52_row6_col4, #T_7dc52_row6_col5, #T_7dc52_row6_col6, #T_7dc52_row6_col7, #T_7dc52_row7_col0, #T_7dc52_row7_col1, #T_7dc52_row7_col2, #T_7dc52_row7_col3, #T_7dc52_row7_col4, #T_7dc52_row7_col5, #T_7dc52_row7_col6, #T_7dc52_row7_col7, #T_7dc52_row8_col0, #T_7dc52_row8_col1, #T_7dc52_row8_col2, #T_7dc52_row8_col3, #T_7dc52_row8_col4, #T_7dc52_row8_col5, #T_7dc52_row8_col6, #T_7dc52_row8_col7, #T_7dc52_row9_col0, #T_7dc52_row9_col1, #T_7dc52_row9_col2, #T_7dc52_row9_col3, #T_7dc52_row9_col4, #T_7dc52_row9_col5, #T_7dc52_row9_col6, #T_7dc52_row9_col7, #T_7dc52_row10_col0, #T_7dc52_row10_col1, #T_7dc52_row10_col2, #T_7dc52_row10_col3, #T_7dc52_row10_col4, #T_7dc52_row10_col5, #T_7dc52_row10_col6, #T_7dc52_row10_col7, #T_7dc52_row11_col0, #T_7dc52_row11_col1, #T_7dc52_row11_col2, #T_7dc52_row11_col3, #T_7dc52_row11_col4, #T_7dc52_row11_col5, #T_7dc52_row11_col6, #T_7dc52_row11_col7, #T_7dc52_row12_col0, #T_7dc52_row12_col1, #T_7dc52_row12_col2, #T_7dc52_row12_col3, #T_7dc52_row12_col4, #T_7dc52_row12_col5, #T_7dc52_row12_col6, #T_7dc52_row12_col7, #T_7dc52_row13_col0, #T_7dc52_row13_col1, #T_7dc52_row13_col2, #T_7dc52_row13_col3, #T_7dc52_row13_col4, #T_7dc52_row13_col5, #T_7dc52_row13_col6, #T_7dc52_row13_col7, #T_7dc52_row14_col0, #T_7dc52_row14_col1, #T_7dc52_row14_col2, #T_7dc52_row14_col3, #T_7dc52_row14_col4, #T_7dc52_row14_col5, #T_7dc52_row14_col6, #T_7dc52_row14_col7 {\n",
              "  text-align: left;\n",
              "}\n",
              "#T_7dc52_row0_col1, #T_7dc52_row0_col3, #T_7dc52_row0_col4, #T_7dc52_row0_col5, #T_7dc52_row0_col6, #T_7dc52_row0_col7, #T_7dc52_row6_col2 {\n",
              "  text-align: left;\n",
              "  background-color: yellow;\n",
              "}\n",
              "#T_7dc52_row0_col8, #T_7dc52_row1_col8, #T_7dc52_row2_col8, #T_7dc52_row3_col8, #T_7dc52_row4_col8, #T_7dc52_row5_col8, #T_7dc52_row6_col8, #T_7dc52_row7_col8, #T_7dc52_row8_col8, #T_7dc52_row9_col8, #T_7dc52_row10_col8, #T_7dc52_row11_col8, #T_7dc52_row12_col8, #T_7dc52_row13_col8 {\n",
              "  text-align: left;\n",
              "  background-color: lightgrey;\n",
              "}\n",
              "#T_7dc52_row14_col8 {\n",
              "  text-align: left;\n",
              "  background-color: yellow;\n",
              "  background-color: lightgrey;\n",
              "}\n",
              "</style>\n",
              "<table id=\"T_7dc52\" class=\"dataframe\">\n",
              "  <thead>\n",
              "    <tr>\n",
              "      <th class=\"blank level0\" >&nbsp;</th>\n",
              "      <th id=\"T_7dc52_level0_col0\" class=\"col_heading level0 col0\" >Model</th>\n",
              "      <th id=\"T_7dc52_level0_col1\" class=\"col_heading level0 col1\" >Accuracy</th>\n",
              "      <th id=\"T_7dc52_level0_col2\" class=\"col_heading level0 col2\" >AUC</th>\n",
              "      <th id=\"T_7dc52_level0_col3\" class=\"col_heading level0 col3\" >Recall</th>\n",
              "      <th id=\"T_7dc52_level0_col4\" class=\"col_heading level0 col4\" >Prec.</th>\n",
              "      <th id=\"T_7dc52_level0_col5\" class=\"col_heading level0 col5\" >F1</th>\n",
              "      <th id=\"T_7dc52_level0_col6\" class=\"col_heading level0 col6\" >Kappa</th>\n",
              "      <th id=\"T_7dc52_level0_col7\" class=\"col_heading level0 col7\" >MCC</th>\n",
              "      <th id=\"T_7dc52_level0_col8\" class=\"col_heading level0 col8\" >TT (Sec)</th>\n",
              "    </tr>\n",
              "  </thead>\n",
              "  <tbody>\n",
              "    <tr>\n",
              "      <th id=\"T_7dc52_level0_row0\" class=\"row_heading level0 row0\" >knn</th>\n",
              "      <td id=\"T_7dc52_row0_col0\" class=\"data row0 col0\" >K Neighbors Classifier</td>\n",
              "      <td id=\"T_7dc52_row0_col1\" class=\"data row0 col1\" >0.9798</td>\n",
              "      <td id=\"T_7dc52_row0_col2\" class=\"data row0 col2\" >0.9909</td>\n",
              "      <td id=\"T_7dc52_row0_col3\" class=\"data row0 col3\" >0.9798</td>\n",
              "      <td id=\"T_7dc52_row0_col4\" class=\"data row0 col4\" >0.9811</td>\n",
              "      <td id=\"T_7dc52_row0_col5\" class=\"data row0 col5\" >0.9799</td>\n",
              "      <td id=\"T_7dc52_row0_col6\" class=\"data row0 col6\" >0.9563</td>\n",
              "      <td id=\"T_7dc52_row0_col7\" class=\"data row0 col7\" >0.9574</td>\n",
              "      <td id=\"T_7dc52_row0_col8\" class=\"data row0 col8\" >0.2570</td>\n",
              "    </tr>\n",
              "    <tr>\n",
              "      <th id=\"T_7dc52_level0_row1\" class=\"row_heading level0 row1\" >nb</th>\n",
              "      <td id=\"T_7dc52_row1_col0\" class=\"data row1 col0\" >Naive Bayes</td>\n",
              "      <td id=\"T_7dc52_row1_col1\" class=\"data row1 col1\" >0.9761</td>\n",
              "      <td id=\"T_7dc52_row1_col2\" class=\"data row1 col2\" >0.9899</td>\n",
              "      <td id=\"T_7dc52_row1_col3\" class=\"data row1 col3\" >0.9761</td>\n",
              "      <td id=\"T_7dc52_row1_col4\" class=\"data row1 col4\" >0.9778</td>\n",
              "      <td id=\"T_7dc52_row1_col5\" class=\"data row1 col5\" >0.9763</td>\n",
              "      <td id=\"T_7dc52_row1_col6\" class=\"data row1 col6\" >0.9486</td>\n",
              "      <td id=\"T_7dc52_row1_col7\" class=\"data row1 col7\" >0.9500</td>\n",
              "      <td id=\"T_7dc52_row1_col8\" class=\"data row1 col8\" >0.1440</td>\n",
              "    </tr>\n",
              "    <tr>\n",
              "      <th id=\"T_7dc52_level0_row2\" class=\"row_heading level0 row2\" >ridge</th>\n",
              "      <td id=\"T_7dc52_row2_col0\" class=\"data row2 col0\" >Ridge Classifier</td>\n",
              "      <td id=\"T_7dc52_row2_col1\" class=\"data row2 col1\" >0.9761</td>\n",
              "      <td id=\"T_7dc52_row2_col2\" class=\"data row2 col2\" >0.9910</td>\n",
              "      <td id=\"T_7dc52_row2_col3\" class=\"data row2 col3\" >0.9761</td>\n",
              "      <td id=\"T_7dc52_row2_col4\" class=\"data row2 col4\" >0.9774</td>\n",
              "      <td id=\"T_7dc52_row2_col5\" class=\"data row2 col5\" >0.9762</td>\n",
              "      <td id=\"T_7dc52_row2_col6\" class=\"data row2 col6\" >0.9481</td>\n",
              "      <td id=\"T_7dc52_row2_col7\" class=\"data row2 col7\" >0.9492</td>\n",
              "      <td id=\"T_7dc52_row2_col8\" class=\"data row2 col8\" >0.1040</td>\n",
              "    </tr>\n",
              "    <tr>\n",
              "      <th id=\"T_7dc52_level0_row3\" class=\"row_heading level0 row3\" >lda</th>\n",
              "      <td id=\"T_7dc52_row3_col0\" class=\"data row3 col0\" >Linear Discriminant Analysis</td>\n",
              "      <td id=\"T_7dc52_row3_col1\" class=\"data row3 col1\" >0.9761</td>\n",
              "      <td id=\"T_7dc52_row3_col2\" class=\"data row3 col2\" >0.9910</td>\n",
              "      <td id=\"T_7dc52_row3_col3\" class=\"data row3 col3\" >0.9761</td>\n",
              "      <td id=\"T_7dc52_row3_col4\" class=\"data row3 col4\" >0.9774</td>\n",
              "      <td id=\"T_7dc52_row3_col5\" class=\"data row3 col5\" >0.9762</td>\n",
              "      <td id=\"T_7dc52_row3_col6\" class=\"data row3 col6\" >0.9481</td>\n",
              "      <td id=\"T_7dc52_row3_col7\" class=\"data row3 col7\" >0.9492</td>\n",
              "      <td id=\"T_7dc52_row3_col8\" class=\"data row3 col8\" >0.1000</td>\n",
              "    </tr>\n",
              "    <tr>\n",
              "      <th id=\"T_7dc52_level0_row4\" class=\"row_heading level0 row4\" >et</th>\n",
              "      <td id=\"T_7dc52_row4_col0\" class=\"data row4 col0\" >Extra Trees Classifier</td>\n",
              "      <td id=\"T_7dc52_row4_col1\" class=\"data row4 col1\" >0.9761</td>\n",
              "      <td id=\"T_7dc52_row4_col2\" class=\"data row4 col2\" >0.9917</td>\n",
              "      <td id=\"T_7dc52_row4_col3\" class=\"data row4 col3\" >0.9761</td>\n",
              "      <td id=\"T_7dc52_row4_col4\" class=\"data row4 col4\" >0.9774</td>\n",
              "      <td id=\"T_7dc52_row4_col5\" class=\"data row4 col5\" >0.9762</td>\n",
              "      <td id=\"T_7dc52_row4_col6\" class=\"data row4 col6\" >0.9480</td>\n",
              "      <td id=\"T_7dc52_row4_col7\" class=\"data row4 col7\" >0.9491</td>\n",
              "      <td id=\"T_7dc52_row4_col8\" class=\"data row4 col8\" >0.4870</td>\n",
              "    </tr>\n",
              "    <tr>\n",
              "      <th id=\"T_7dc52_level0_row5\" class=\"row_heading level0 row5\" >lr</th>\n",
              "      <td id=\"T_7dc52_row5_col0\" class=\"data row5 col0\" >Logistic Regression</td>\n",
              "      <td id=\"T_7dc52_row5_col1\" class=\"data row5 col1\" >0.9743</td>\n",
              "      <td id=\"T_7dc52_row5_col2\" class=\"data row5 col2\" >0.9906</td>\n",
              "      <td id=\"T_7dc52_row5_col3\" class=\"data row5 col3\" >0.9743</td>\n",
              "      <td id=\"T_7dc52_row5_col4\" class=\"data row5 col4\" >0.9753</td>\n",
              "      <td id=\"T_7dc52_row5_col5\" class=\"data row5 col5\" >0.9744</td>\n",
              "      <td id=\"T_7dc52_row5_col6\" class=\"data row5 col6\" >0.9441</td>\n",
              "      <td id=\"T_7dc52_row5_col7\" class=\"data row5 col7\" >0.9450</td>\n",
              "      <td id=\"T_7dc52_row5_col8\" class=\"data row5 col8\" >0.1460</td>\n",
              "    </tr>\n",
              "    <tr>\n",
              "      <th id=\"T_7dc52_level0_row6\" class=\"row_heading level0 row6\" >qda</th>\n",
              "      <td id=\"T_7dc52_row6_col0\" class=\"data row6 col0\" >Quadratic Discriminant Analysis</td>\n",
              "      <td id=\"T_7dc52_row6_col1\" class=\"data row6 col1\" >0.9743</td>\n",
              "      <td id=\"T_7dc52_row6_col2\" class=\"data row6 col2\" >0.9921</td>\n",
              "      <td id=\"T_7dc52_row6_col3\" class=\"data row6 col3\" >0.9743</td>\n",
              "      <td id=\"T_7dc52_row6_col4\" class=\"data row6 col4\" >0.9763</td>\n",
              "      <td id=\"T_7dc52_row6_col5\" class=\"data row6 col5\" >0.9745</td>\n",
              "      <td id=\"T_7dc52_row6_col6\" class=\"data row6 col6\" >0.9448</td>\n",
              "      <td id=\"T_7dc52_row6_col7\" class=\"data row6 col7\" >0.9464</td>\n",
              "      <td id=\"T_7dc52_row6_col8\" class=\"data row6 col8\" >0.2070</td>\n",
              "    </tr>\n",
              "    <tr>\n",
              "      <th id=\"T_7dc52_level0_row7\" class=\"row_heading level0 row7\" >rf</th>\n",
              "      <td id=\"T_7dc52_row7_col0\" class=\"data row7 col0\" >Random Forest Classifier</td>\n",
              "      <td id=\"T_7dc52_row7_col1\" class=\"data row7 col1\" >0.9724</td>\n",
              "      <td id=\"T_7dc52_row7_col2\" class=\"data row7 col2\" >0.9881</td>\n",
              "      <td id=\"T_7dc52_row7_col3\" class=\"data row7 col3\" >0.9724</td>\n",
              "      <td id=\"T_7dc52_row7_col4\" class=\"data row7 col4\" >0.9734</td>\n",
              "      <td id=\"T_7dc52_row7_col5\" class=\"data row7 col5\" >0.9725</td>\n",
              "      <td id=\"T_7dc52_row7_col6\" class=\"data row7 col6\" >0.9399</td>\n",
              "      <td id=\"T_7dc52_row7_col7\" class=\"data row7 col7\" >0.9407</td>\n",
              "      <td id=\"T_7dc52_row7_col8\" class=\"data row7 col8\" >0.4620</td>\n",
              "    </tr>\n",
              "    <tr>\n",
              "      <th id=\"T_7dc52_level0_row8\" class=\"row_heading level0 row8\" >lightgbm</th>\n",
              "      <td id=\"T_7dc52_row8_col0\" class=\"data row8 col0\" >Light Gradient Boosting Machine</td>\n",
              "      <td id=\"T_7dc52_row8_col1\" class=\"data row8 col1\" >0.9705</td>\n",
              "      <td id=\"T_7dc52_row8_col2\" class=\"data row8 col2\" >0.9910</td>\n",
              "      <td id=\"T_7dc52_row8_col3\" class=\"data row8 col3\" >0.9705</td>\n",
              "      <td id=\"T_7dc52_row8_col4\" class=\"data row8 col4\" >0.9710</td>\n",
              "      <td id=\"T_7dc52_row8_col5\" class=\"data row8 col5\" >0.9706</td>\n",
              "      <td id=\"T_7dc52_row8_col6\" class=\"data row8 col6\" >0.9355</td>\n",
              "      <td id=\"T_7dc52_row8_col7\" class=\"data row8 col7\" >0.9359</td>\n",
              "      <td id=\"T_7dc52_row8_col8\" class=\"data row8 col8\" >0.3450</td>\n",
              "    </tr>\n",
              "    <tr>\n",
              "      <th id=\"T_7dc52_level0_row9\" class=\"row_heading level0 row9\" >svm</th>\n",
              "      <td id=\"T_7dc52_row9_col0\" class=\"data row9 col0\" >SVM - Linear Kernel</td>\n",
              "      <td id=\"T_7dc52_row9_col1\" class=\"data row9 col1\" >0.9669</td>\n",
              "      <td id=\"T_7dc52_row9_col2\" class=\"data row9 col2\" >0.9900</td>\n",
              "      <td id=\"T_7dc52_row9_col3\" class=\"data row9 col3\" >0.9669</td>\n",
              "      <td id=\"T_7dc52_row9_col4\" class=\"data row9 col4\" >0.9678</td>\n",
              "      <td id=\"T_7dc52_row9_col5\" class=\"data row9 col5\" >0.9669</td>\n",
              "      <td id=\"T_7dc52_row9_col6\" class=\"data row9 col6\" >0.9275</td>\n",
              "      <td id=\"T_7dc52_row9_col7\" class=\"data row9 col7\" >0.9283</td>\n",
              "      <td id=\"T_7dc52_row9_col8\" class=\"data row9 col8\" >0.1100</td>\n",
              "    </tr>\n",
              "    <tr>\n",
              "      <th id=\"T_7dc52_level0_row10\" class=\"row_heading level0 row10\" >gbc</th>\n",
              "      <td id=\"T_7dc52_row10_col0\" class=\"data row10 col0\" >Gradient Boosting Classifier</td>\n",
              "      <td id=\"T_7dc52_row10_col1\" class=\"data row10 col1\" >0.9669</td>\n",
              "      <td id=\"T_7dc52_row10_col2\" class=\"data row10 col2\" >0.9880</td>\n",
              "      <td id=\"T_7dc52_row10_col3\" class=\"data row10 col3\" >0.9669</td>\n",
              "      <td id=\"T_7dc52_row10_col4\" class=\"data row10 col4\" >0.9675</td>\n",
              "      <td id=\"T_7dc52_row10_col5\" class=\"data row10 col5\" >0.9667</td>\n",
              "      <td id=\"T_7dc52_row10_col6\" class=\"data row10 col6\" >0.9267</td>\n",
              "      <td id=\"T_7dc52_row10_col7\" class=\"data row10 col7\" >0.9276</td>\n",
              "      <td id=\"T_7dc52_row10_col8\" class=\"data row10 col8\" >0.2770</td>\n",
              "    </tr>\n",
              "    <tr>\n",
              "      <th id=\"T_7dc52_level0_row11\" class=\"row_heading level0 row11\" >xgboost</th>\n",
              "      <td id=\"T_7dc52_row11_col0\" class=\"data row11 col0\" >Extreme Gradient Boosting</td>\n",
              "      <td id=\"T_7dc52_row11_col1\" class=\"data row11 col1\" >0.9669</td>\n",
              "      <td id=\"T_7dc52_row11_col2\" class=\"data row11 col2\" >0.9883</td>\n",
              "      <td id=\"T_7dc52_row11_col3\" class=\"data row11 col3\" >0.9669</td>\n",
              "      <td id=\"T_7dc52_row11_col4\" class=\"data row11 col4\" >0.9675</td>\n",
              "      <td id=\"T_7dc52_row11_col5\" class=\"data row11 col5\" >0.9669</td>\n",
              "      <td id=\"T_7dc52_row11_col6\" class=\"data row11 col6\" >0.9272</td>\n",
              "      <td id=\"T_7dc52_row11_col7\" class=\"data row11 col7\" >0.9278</td>\n",
              "      <td id=\"T_7dc52_row11_col8\" class=\"data row11 col8\" >0.1700</td>\n",
              "    </tr>\n",
              "    <tr>\n",
              "      <th id=\"T_7dc52_level0_row12\" class=\"row_heading level0 row12\" >ada</th>\n",
              "      <td id=\"T_7dc52_row12_col0\" class=\"data row12 col0\" >Ada Boost Classifier</td>\n",
              "      <td id=\"T_7dc52_row12_col1\" class=\"data row12 col1\" >0.9467</td>\n",
              "      <td id=\"T_7dc52_row12_col2\" class=\"data row12 col2\" >0.9891</td>\n",
              "      <td id=\"T_7dc52_row12_col3\" class=\"data row12 col3\" >0.9467</td>\n",
              "      <td id=\"T_7dc52_row12_col4\" class=\"data row12 col4\" >0.9478</td>\n",
              "      <td id=\"T_7dc52_row12_col5\" class=\"data row12 col5\" >0.9464</td>\n",
              "      <td id=\"T_7dc52_row12_col6\" class=\"data row12 col6\" >0.8817</td>\n",
              "      <td id=\"T_7dc52_row12_col7\" class=\"data row12 col7\" >0.8835</td>\n",
              "      <td id=\"T_7dc52_row12_col8\" class=\"data row12 col8\" >0.2880</td>\n",
              "    </tr>\n",
              "    <tr>\n",
              "      <th id=\"T_7dc52_level0_row13\" class=\"row_heading level0 row13\" >dt</th>\n",
              "      <td id=\"T_7dc52_row13_col0\" class=\"data row13 col0\" >Decision Tree Classifier</td>\n",
              "      <td id=\"T_7dc52_row13_col1\" class=\"data row13 col1\" >0.9302</td>\n",
              "      <td id=\"T_7dc52_row13_col2\" class=\"data row13 col2\" >0.9197</td>\n",
              "      <td id=\"T_7dc52_row13_col3\" class=\"data row13 col3\" >0.9302</td>\n",
              "      <td id=\"T_7dc52_row13_col4\" class=\"data row13 col4\" >0.9302</td>\n",
              "      <td id=\"T_7dc52_row13_col5\" class=\"data row13 col5\" >0.9297</td>\n",
              "      <td id=\"T_7dc52_row13_col6\" class=\"data row13 col6\" >0.8448</td>\n",
              "      <td id=\"T_7dc52_row13_col7\" class=\"data row13 col7\" >0.8458</td>\n",
              "      <td id=\"T_7dc52_row13_col8\" class=\"data row13 col8\" >0.0960</td>\n",
              "    </tr>\n",
              "    <tr>\n",
              "      <th id=\"T_7dc52_level0_row14\" class=\"row_heading level0 row14\" >dummy</th>\n",
              "      <td id=\"T_7dc52_row14_col0\" class=\"data row14 col0\" >Dummy Classifier</td>\n",
              "      <td id=\"T_7dc52_row14_col1\" class=\"data row14 col1\" >0.6502</td>\n",
              "      <td id=\"T_7dc52_row14_col2\" class=\"data row14 col2\" >0.5000</td>\n",
              "      <td id=\"T_7dc52_row14_col3\" class=\"data row14 col3\" >0.6502</td>\n",
              "      <td id=\"T_7dc52_row14_col4\" class=\"data row14 col4\" >0.4227</td>\n",
              "      <td id=\"T_7dc52_row14_col5\" class=\"data row14 col5\" >0.5123</td>\n",
              "      <td id=\"T_7dc52_row14_col6\" class=\"data row14 col6\" >0.0000</td>\n",
              "      <td id=\"T_7dc52_row14_col7\" class=\"data row14 col7\" >0.0000</td>\n",
              "      <td id=\"T_7dc52_row14_col8\" class=\"data row14 col8\" >0.0550</td>\n",
              "    </tr>\n",
              "  </tbody>\n",
              "</table>\n"
            ]
          },
          "metadata": {}
        },
        {
          "output_type": "display_data",
          "data": {
            "text/plain": [
              "Processing:   0%|          | 0/65 [00:00<?, ?it/s]"
            ],
            "application/vnd.jupyter.widget-view+json": {
              "version_major": 2,
              "version_minor": 0,
              "model_id": "6b0cc4e86c67458ca47c2e9ec1b01a5d"
            }
          },
          "metadata": {
            "application/vnd.jupyter.widget-view+json": {
              "colab": {
                "custom_widget_manager": {
                  "url": "https://ssl.gstatic.com/colaboratory-static/widgets/colab-cdn-widget-manager/2b70e893a8ba7c0f/manager.min.js"
                }
              }
            }
          }
        },
        {
          "output_type": "display_data",
          "data": {
            "text/plain": [
              "<IPython.core.display.HTML object>"
            ],
            "text/html": []
          },
          "metadata": {}
        }
      ]
    },
    {
      "cell_type": "code",
      "source": [
        "ridge=create_model(\"ridge\")"
      ],
      "metadata": {
        "colab": {
          "base_uri": "https://localhost:8080/",
          "height": 457,
          "referenced_widgets": [
            "1b259ba70a1f4bd59e3f0d046360e49c",
            "9a7d8164391b4c4c8901916510541ac2",
            "ba383778077e4c35a31795a5fb0a8478",
            "f687ae146660451ba8017283897b628a",
            "1a7fa3dcc46346a9a3aaa97d54678038",
            "5dc65139ef124cd3816873d59e4ad147",
            "51716fce3e8c47b0a1562d0f6fd458ef",
            "aa4d11801e294c3f8342b0b23427fa18",
            "3f153d7994a34015be3eb66d72e2f49e",
            "4026dd32aa434335bffb7f95aeb77668",
            "069d2a9fa220481088753f7f0580d3e4"
          ]
        },
        "id": "D8eO8Vayum5o",
        "outputId": "597ce1b5-b242-4720-91e6-0d947a4d7201"
      },
      "execution_count": 28,
      "outputs": [
        {
          "output_type": "display_data",
          "data": {
            "text/plain": [
              "<IPython.core.display.HTML object>"
            ],
            "text/html": []
          },
          "metadata": {}
        },
        {
          "output_type": "display_data",
          "data": {
            "text/plain": [
              "<pandas.io.formats.style.Styler at 0x7ddb90405e90>"
            ],
            "text/html": [
              "<style type=\"text/css\">\n",
              "#T_bc775_row10_col0, #T_bc775_row10_col1, #T_bc775_row10_col2, #T_bc775_row10_col3, #T_bc775_row10_col4, #T_bc775_row10_col5, #T_bc775_row10_col6 {\n",
              "  background: yellow;\n",
              "}\n",
              "</style>\n",
              "<table id=\"T_bc775\" class=\"dataframe\">\n",
              "  <thead>\n",
              "    <tr>\n",
              "      <th class=\"blank level0\" >&nbsp;</th>\n",
              "      <th id=\"T_bc775_level0_col0\" class=\"col_heading level0 col0\" >Accuracy</th>\n",
              "      <th id=\"T_bc775_level0_col1\" class=\"col_heading level0 col1\" >AUC</th>\n",
              "      <th id=\"T_bc775_level0_col2\" class=\"col_heading level0 col2\" >Recall</th>\n",
              "      <th id=\"T_bc775_level0_col3\" class=\"col_heading level0 col3\" >Prec.</th>\n",
              "      <th id=\"T_bc775_level0_col4\" class=\"col_heading level0 col4\" >F1</th>\n",
              "      <th id=\"T_bc775_level0_col5\" class=\"col_heading level0 col5\" >Kappa</th>\n",
              "      <th id=\"T_bc775_level0_col6\" class=\"col_heading level0 col6\" >MCC</th>\n",
              "    </tr>\n",
              "    <tr>\n",
              "      <th class=\"index_name level0\" >Fold</th>\n",
              "      <th class=\"blank col0\" >&nbsp;</th>\n",
              "      <th class=\"blank col1\" >&nbsp;</th>\n",
              "      <th class=\"blank col2\" >&nbsp;</th>\n",
              "      <th class=\"blank col3\" >&nbsp;</th>\n",
              "      <th class=\"blank col4\" >&nbsp;</th>\n",
              "      <th class=\"blank col5\" >&nbsp;</th>\n",
              "      <th class=\"blank col6\" >&nbsp;</th>\n",
              "    </tr>\n",
              "  </thead>\n",
              "  <tbody>\n",
              "    <tr>\n",
              "      <th id=\"T_bc775_level0_row0\" class=\"row_heading level0 row0\" >0</th>\n",
              "      <td id=\"T_bc775_row0_col0\" class=\"data row0 col0\" >0.9455</td>\n",
              "      <td id=\"T_bc775_row0_col1\" class=\"data row0 col1\" >0.9956</td>\n",
              "      <td id=\"T_bc775_row0_col2\" class=\"data row0 col2\" >0.9455</td>\n",
              "      <td id=\"T_bc775_row0_col3\" class=\"data row0 col3\" >0.9529</td>\n",
              "      <td id=\"T_bc775_row0_col4\" class=\"data row0 col4\" >0.9463</td>\n",
              "      <td id=\"T_bc775_row0_col5\" class=\"data row0 col5\" >0.8837</td>\n",
              "      <td id=\"T_bc775_row0_col6\" class=\"data row0 col6\" >0.8898</td>\n",
              "    </tr>\n",
              "    <tr>\n",
              "      <th id=\"T_bc775_level0_row1\" class=\"row_heading level0 row1\" >1</th>\n",
              "      <td id=\"T_bc775_row1_col0\" class=\"data row1 col0\" >0.9636</td>\n",
              "      <td id=\"T_bc775_row1_col1\" class=\"data row1 col1\" >0.9956</td>\n",
              "      <td id=\"T_bc775_row1_col2\" class=\"data row1 col2\" >0.9636</td>\n",
              "      <td id=\"T_bc775_row1_col3\" class=\"data row1 col3\" >0.9636</td>\n",
              "      <td id=\"T_bc775_row1_col4\" class=\"data row1 col4\" >0.9636</td>\n",
              "      <td id=\"T_bc775_row1_col5\" class=\"data row1 col5\" >0.9196</td>\n",
              "      <td id=\"T_bc775_row1_col6\" class=\"data row1 col6\" >0.9196</td>\n",
              "    </tr>\n",
              "    <tr>\n",
              "      <th id=\"T_bc775_level0_row2\" class=\"row_heading level0 row2\" >2</th>\n",
              "      <td id=\"T_bc775_row2_col0\" class=\"data row2 col0\" >0.9636</td>\n",
              "      <td id=\"T_bc775_row2_col1\" class=\"data row2 col1\" >0.9942</td>\n",
              "      <td id=\"T_bc775_row2_col2\" class=\"data row2 col2\" >0.9636</td>\n",
              "      <td id=\"T_bc775_row2_col3\" class=\"data row2 col3\" >0.9636</td>\n",
              "      <td id=\"T_bc775_row2_col4\" class=\"data row2 col4\" >0.9636</td>\n",
              "      <td id=\"T_bc775_row2_col5\" class=\"data row2 col5\" >0.9196</td>\n",
              "      <td id=\"T_bc775_row2_col6\" class=\"data row2 col6\" >0.9196</td>\n",
              "    </tr>\n",
              "    <tr>\n",
              "      <th id=\"T_bc775_level0_row3\" class=\"row_heading level0 row3\" >3</th>\n",
              "      <td id=\"T_bc775_row3_col0\" class=\"data row3 col0\" >1.0000</td>\n",
              "      <td id=\"T_bc775_row3_col1\" class=\"data row3 col1\" >1.0000</td>\n",
              "      <td id=\"T_bc775_row3_col2\" class=\"data row3 col2\" >1.0000</td>\n",
              "      <td id=\"T_bc775_row3_col3\" class=\"data row3 col3\" >1.0000</td>\n",
              "      <td id=\"T_bc775_row3_col4\" class=\"data row3 col4\" >1.0000</td>\n",
              "      <td id=\"T_bc775_row3_col5\" class=\"data row3 col5\" >1.0000</td>\n",
              "      <td id=\"T_bc775_row3_col6\" class=\"data row3 col6\" >1.0000</td>\n",
              "    </tr>\n",
              "    <tr>\n",
              "      <th id=\"T_bc775_level0_row4\" class=\"row_heading level0 row4\" >4</th>\n",
              "      <td id=\"T_bc775_row4_col0\" class=\"data row4 col0\" >0.9636</td>\n",
              "      <td id=\"T_bc775_row4_col1\" class=\"data row4 col1\" >0.9693</td>\n",
              "      <td id=\"T_bc775_row4_col2\" class=\"data row4 col2\" >0.9636</td>\n",
              "      <td id=\"T_bc775_row4_col3\" class=\"data row4 col3\" >0.9671</td>\n",
              "      <td id=\"T_bc775_row4_col4\" class=\"data row4 col4\" >0.9640</td>\n",
              "      <td id=\"T_bc775_row4_col5\" class=\"data row4 col5\" >0.9215</td>\n",
              "      <td id=\"T_bc775_row4_col6\" class=\"data row4 col6\" >0.9244</td>\n",
              "    </tr>\n",
              "    <tr>\n",
              "      <th id=\"T_bc775_level0_row5\" class=\"row_heading level0 row5\" >5</th>\n",
              "      <td id=\"T_bc775_row5_col0\" class=\"data row5 col0\" >1.0000</td>\n",
              "      <td id=\"T_bc775_row5_col1\" class=\"data row5 col1\" >1.0000</td>\n",
              "      <td id=\"T_bc775_row5_col2\" class=\"data row5 col2\" >1.0000</td>\n",
              "      <td id=\"T_bc775_row5_col3\" class=\"data row5 col3\" >1.0000</td>\n",
              "      <td id=\"T_bc775_row5_col4\" class=\"data row5 col4\" >1.0000</td>\n",
              "      <td id=\"T_bc775_row5_col5\" class=\"data row5 col5\" >1.0000</td>\n",
              "      <td id=\"T_bc775_row5_col6\" class=\"data row5 col6\" >1.0000</td>\n",
              "    </tr>\n",
              "    <tr>\n",
              "      <th id=\"T_bc775_level0_row6\" class=\"row_heading level0 row6\" >6</th>\n",
              "      <td id=\"T_bc775_row6_col0\" class=\"data row6 col0\" >0.9815</td>\n",
              "      <td id=\"T_bc775_row6_col1\" class=\"data row6 col1\" >1.0000</td>\n",
              "      <td id=\"T_bc775_row6_col2\" class=\"data row6 col2\" >0.9815</td>\n",
              "      <td id=\"T_bc775_row6_col3\" class=\"data row6 col3\" >0.9824</td>\n",
              "      <td id=\"T_bc775_row6_col4\" class=\"data row6 col4\" >0.9816</td>\n",
              "      <td id=\"T_bc775_row6_col5\" class=\"data row6 col5\" >0.9599</td>\n",
              "      <td id=\"T_bc775_row6_col6\" class=\"data row6 col6\" >0.9607</td>\n",
              "    </tr>\n",
              "    <tr>\n",
              "      <th id=\"T_bc775_level0_row7\" class=\"row_heading level0 row7\" >7</th>\n",
              "      <td id=\"T_bc775_row7_col0\" class=\"data row7 col0\" >0.9444</td>\n",
              "      <td id=\"T_bc775_row7_col1\" class=\"data row7 col1\" >0.9925</td>\n",
              "      <td id=\"T_bc775_row7_col2\" class=\"data row7 col2\" >0.9444</td>\n",
              "      <td id=\"T_bc775_row7_col3\" class=\"data row7 col3\" >0.9458</td>\n",
              "      <td id=\"T_bc775_row7_col4\" class=\"data row7 col4\" >0.9448</td>\n",
              "      <td id=\"T_bc775_row7_col5\" class=\"data row7 col5\" >0.8796</td>\n",
              "      <td id=\"T_bc775_row7_col6\" class=\"data row7 col6\" >0.8804</td>\n",
              "    </tr>\n",
              "    <tr>\n",
              "      <th id=\"T_bc775_level0_row8\" class=\"row_heading level0 row8\" >8</th>\n",
              "      <td id=\"T_bc775_row8_col0\" class=\"data row8 col0\" >0.9444</td>\n",
              "      <td id=\"T_bc775_row8_col1\" class=\"data row8 col1\" >0.9699</td>\n",
              "      <td id=\"T_bc775_row8_col2\" class=\"data row8 col2\" >0.9444</td>\n",
              "      <td id=\"T_bc775_row8_col3\" class=\"data row8 col3\" >0.9520</td>\n",
              "      <td id=\"T_bc775_row8_col4\" class=\"data row8 col4\" >0.9452</td>\n",
              "      <td id=\"T_bc775_row8_col5\" class=\"data row8 col5\" >0.8824</td>\n",
              "      <td id=\"T_bc775_row8_col6\" class=\"data row8 col6\" >0.8886</td>\n",
              "    </tr>\n",
              "    <tr>\n",
              "      <th id=\"T_bc775_level0_row9\" class=\"row_heading level0 row9\" >9</th>\n",
              "      <td id=\"T_bc775_row9_col0\" class=\"data row9 col0\" >0.9815</td>\n",
              "      <td id=\"T_bc775_row9_col1\" class=\"data row9 col1\" >1.0000</td>\n",
              "      <td id=\"T_bc775_row9_col2\" class=\"data row9 col2\" >0.9815</td>\n",
              "      <td id=\"T_bc775_row9_col3\" class=\"data row9 col3\" >0.9824</td>\n",
              "      <td id=\"T_bc775_row9_col4\" class=\"data row9 col4\" >0.9816</td>\n",
              "      <td id=\"T_bc775_row9_col5\" class=\"data row9 col5\" >0.9599</td>\n",
              "      <td id=\"T_bc775_row9_col6\" class=\"data row9 col6\" >0.9607</td>\n",
              "    </tr>\n",
              "    <tr>\n",
              "      <th id=\"T_bc775_level0_row10\" class=\"row_heading level0 row10\" >Mean</th>\n",
              "      <td id=\"T_bc775_row10_col0\" class=\"data row10 col0\" >0.9688</td>\n",
              "      <td id=\"T_bc775_row10_col1\" class=\"data row10 col1\" >0.9917</td>\n",
              "      <td id=\"T_bc775_row10_col2\" class=\"data row10 col2\" >0.9688</td>\n",
              "      <td id=\"T_bc775_row10_col3\" class=\"data row10 col3\" >0.9710</td>\n",
              "      <td id=\"T_bc775_row10_col4\" class=\"data row10 col4\" >0.9691</td>\n",
              "      <td id=\"T_bc775_row10_col5\" class=\"data row10 col5\" >0.9326</td>\n",
              "      <td id=\"T_bc775_row10_col6\" class=\"data row10 col6\" >0.9344</td>\n",
              "    </tr>\n",
              "    <tr>\n",
              "      <th id=\"T_bc775_level0_row11\" class=\"row_heading level0 row11\" >Std</th>\n",
              "      <td id=\"T_bc775_row11_col0\" class=\"data row11 col0\" >0.0202</td>\n",
              "      <td id=\"T_bc775_row11_col1\" class=\"data row11 col1\" >0.0114</td>\n",
              "      <td id=\"T_bc775_row11_col2\" class=\"data row11 col2\" >0.0202</td>\n",
              "      <td id=\"T_bc775_row11_col3\" class=\"data row11 col3\" >0.0184</td>\n",
              "      <td id=\"T_bc775_row11_col4\" class=\"data row11 col4\" >0.0200</td>\n",
              "      <td id=\"T_bc775_row11_col5\" class=\"data row11 col5\" >0.0433</td>\n",
              "      <td id=\"T_bc775_row11_col6\" class=\"data row11 col6\" >0.0419</td>\n",
              "    </tr>\n",
              "  </tbody>\n",
              "</table>\n"
            ]
          },
          "metadata": {}
        },
        {
          "output_type": "display_data",
          "data": {
            "text/plain": [
              "Processing:   0%|          | 0/4 [00:00<?, ?it/s]"
            ],
            "application/vnd.jupyter.widget-view+json": {
              "version_major": 2,
              "version_minor": 0,
              "model_id": "1b259ba70a1f4bd59e3f0d046360e49c"
            }
          },
          "metadata": {
            "application/vnd.jupyter.widget-view+json": {
              "colab": {
                "custom_widget_manager": {
                  "url": "https://ssl.gstatic.com/colaboratory-static/widgets/colab-cdn-widget-manager/2b70e893a8ba7c0f/manager.min.js"
                }
              }
            }
          }
        },
        {
          "output_type": "display_data",
          "data": {
            "text/plain": [
              "<IPython.core.display.HTML object>"
            ],
            "text/html": []
          },
          "metadata": {}
        }
      ]
    },
    {
      "cell_type": "code",
      "source": [
        "evaluate_model(ridge)"
      ],
      "metadata": {
        "colab": {
          "base_uri": "https://localhost:8080/",
          "height": 1000,
          "referenced_widgets": [
            "f21e72e43c774bd492d2c69681e06dbb",
            "47c792413f664d9a810c103465623f1a",
            "29d40e50d6934f7fb7622671d9bdb643",
            "8ddaa30e434a4f5885187d83c9941a48",
            "d326bf2ecaf749fca2d90277c6bff6ec",
            "51329bb51faf4742850320fee9eed1c4",
            "a8c60ab50059435c9504564363877fd4"
          ]
        },
        "id": "MbLSb14pu3_8",
        "outputId": "622683f9-f806-401f-bcf4-2cf90836ec69"
      },
      "execution_count": 29,
      "outputs": [
        {
          "output_type": "display_data",
          "data": {
            "text/plain": [
              "interactive(children=(ToggleButtons(description='Plot Type:', icons=('',), options=(('Pipeline Plot', 'pipelin…"
            ],
            "application/vnd.jupyter.widget-view+json": {
              "version_major": 2,
              "version_minor": 0,
              "model_id": "f21e72e43c774bd492d2c69681e06dbb"
            }
          },
          "metadata": {
            "application/vnd.jupyter.widget-view+json": {
              "colab": {
                "custom_widget_manager": {
                  "url": "https://ssl.gstatic.com/colaboratory-static/widgets/colab-cdn-widget-manager/2b70e893a8ba7c0f/manager.min.js"
                }
              }
            }
          }
        },
        {
          "output_type": "display_data",
          "data": {
            "text/plain": [
              "<Figure size 800x550 with 1 Axes>"
            ],
            "image/png": "[encoded data removed]"
          },
          "metadata": {}
        }
      ]
    },
    {
      "cell_type": "code",
      "source": [
        "save_model(ridge, 'ridge_classifier')"
      ],
      "metadata": {
        "colab": {
          "base_uri": "https://localhost:8080/"
        },
        "id": "IuIUBb-bwB4B",
        "outputId": "b43d5783-d7df-4601-aa2f-78bb4014c272"
      },
      "execution_count": 35,
      "outputs": [
        {
          "output_type": "stream",
          "name": "stdout",
          "text": [
            "Transformation Pipeline and Model Successfully Saved\n"
          ]
        },
        {
          "output_type": "execute_result",
          "data": {
            "text/plain": [
              "(Pipeline(memory=Memory(location=None),\n",
              "          steps=[('label_encoding',\n",
              "                  TransformerWrapperWithInverse(exclude=None, include=None,\n",
              "                                                transformer=LabelEncoder())),\n",
              "                 ('numerical_imputer',\n",
              "                  TransformerWrapper(exclude=None,\n",
              "                                     include=['Clump Thickness',\n",
              "                                              'Uniformity of Cell Size',\n",
              "                                              'Uniformity of Cell Shape',\n",
              "                                              'Marginal Adhesion',\n",
              "                                              'Single Epithelial Cell Size',\n",
              "                                              'Bare Nuclei', 'Bland Chromatin',...\n",
              "                                     transformer=StandardScaler(copy=True,\n",
              "                                                                with_mean=True,\n",
              "                                                                with_std=True))),\n",
              "                 ('clean_column_names',\n",
              "                  TransformerWrapper(exclude=None, include=None,\n",
              "                                     transformer=CleanColumnNames(match='[\\\\]\\\\[\\\\,\\\\{\\\\}\\\\\"\\\\:]+'))),\n",
              "                 ('trained_model',\n",
              "                  RidgeClassifier(alpha=1.0, class_weight=None, copy_X=True,\n",
              "                                  fit_intercept=True, max_iter=None,\n",
              "                                  positive=False, random_state=5610,\n",
              "                                  solver='auto', tol=0.0001))],\n",
              "          verbose=False),\n",
              " 'ridge_classifier.pkl')"
            ]
          },
          "metadata": {},
          "execution_count": 35
        }
      ]
    },
    {
      "cell_type": "code",
      "source": [
        "from pycaret.classification import load_model"
      ],
      "metadata": {
        "id": "dbbeJUQMRKG8"
      },
      "execution_count": 41,
      "outputs": []
    },
    {
      "cell_type": "code",
      "source": [
        "loaded_model=load_model(\"/content/ridge_classifier\",)"
      ],
      "metadata": {
        "colab": {
          "base_uri": "https://localhost:8080/"
        },
        "id": "BPGKIolqNPiE",
        "outputId": "e0767995-db70-48b4-807c-086730c97329"
      },
      "execution_count": 49,
      "outputs": [
        {
          "output_type": "stream",
          "name": "stdout",
          "text": [
            "Transformation Pipeline and Model Successfully Loaded\n"
          ]
        }
      ]
    }
  ]
}